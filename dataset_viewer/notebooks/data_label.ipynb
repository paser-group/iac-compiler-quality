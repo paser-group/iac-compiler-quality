{
 "cells": [
  {
   "cell_type": "code",
   "execution_count": 1,
   "metadata": {},
   "outputs": [
    {
     "name": "stderr",
     "output_type": "stream",
     "text": [
      "/home/sibat/miniconda3/envs/fuzz/lib/python3.10/site-packages/tqdm/auto.py:21: TqdmWarning: IProgress not found. Please update jupyter and ipywidgets. See https://ipywidgets.readthedocs.io/en/stable/user_install.html\n",
      "  from .autonotebook import tqdm as notebook_tqdm\n"
     ]
    }
   ],
   "source": [
    "from datasets import Dataset"
   ]
  },
  {
   "cell_type": "code",
   "execution_count": 3,
   "metadata": {},
   "outputs": [
    {
     "name": "stdout",
     "output_type": "stream",
     "text": [
      "Downloading and preparing dataset csv/default to /home/sibat/.cache/huggingface/datasets/csv/default-b2665a44b263dc80/0.0.0...\n"
     ]
    },
    {
     "name": "stderr",
     "output_type": "stream",
     "text": [
      "Downloading data files: 100%|██████████| 1/1 [00:00<00:00, 3685.68it/s]\n",
      "Extracting data files: 100%|██████████| 1/1 [00:00<00:00, 905.70it/s]\n",
      "                                                                 "
     ]
    },
    {
     "name": "stdout",
     "output_type": "stream",
     "text": [
      "Dataset csv downloaded and prepared to /home/sibat/.cache/huggingface/datasets/csv/default-b2665a44b263dc80/0.0.0. Subsequent calls will reuse this data.\n"
     ]
    },
    {
     "name": "stderr",
     "output_type": "stream",
     "text": [
      "\r"
     ]
    }
   ],
   "source": [
    "trgt_file = \"../../data/generated_yaml/20230830-133931/manifest_ds.csv\"\n",
    "ds = Dataset.from_csv(trgt_file)"
   ]
  },
  {
   "cell_type": "code",
   "execution_count": 7,
   "metadata": {},
   "outputs": [
    {
     "data": {
      "text/plain": [
       "'ansible-playbook [core 2.14.7]\\n  config file = None\\n  configured module search path = [\\'/home/sibat/.ansible/plugins/modules\\', \\'/usr/share/ansible/plugins/modules\\']\\n  ansible python module location = /home/sibat/.local/lib/python3.10/site-packages/ansible\\n  ansible collection location = /home/sibat/.ansible/collections:/usr/share/ansible/collections\\n  executable location = /home/sibat/.local/bin/ansible-playbook\\n  python version = 3.10.9 (main, Mar  8 2023, 10:47:38) [GCC 11.2.0] (/home/sibat/miniconda3/envs/fuzz/bin/python)\\n  jinja version = 3.1.2\\n  libyaml = True\\nNo config file found; using defaults\\nhost_list declined parsing /home/sibat/repoes/iac-compiler-quality/files/ansible/hosts.ini as it did not pass its verify_file() method\\nscript declined parsing /home/sibat/repoes/iac-compiler-quality/files/ansible/hosts.ini as it did not pass its verify_file() method\\nauto declined parsing /home/sibat/repoes/iac-compiler-quality/files/ansible/hosts.ini as it did not pass its verify_file() method\\nyaml declined parsing /home/sibat/repoes/iac-compiler-quality/files/ansible/hosts.ini as it did not pass its verify_file() method\\nParsed /home/sibat/repoes/iac-compiler-quality/files/ansible/hosts.ini inventory source with ini plugin\\nSkipping callback \\'default\\', as we already have a stdout callback.\\nSkipping callback \\'minimal\\', as we already have a stdout callback.\\nSkipping callback \\'oneline\\', as we already have a stdout callback.\\n\\nPLAYBOOK: 56464.yaml ***********************************************************\\n1 plays in /home/sibat/repoes/iac-compiler-quality/data/generated_yaml/20230830-133931/lv2/56464.yaml\\n\\nPLAY [localhost] ***************************************************************\\n\\nTASK [Execute command] *********************************************************\\ntask path: /home/sibat/repoes/iac-compiler-quality/data/generated_yaml/20230830-133931/lv2/56464.yaml:7\\n<127.0.0.1> ESTABLISH LOCAL CONNECTION FOR USER: sibat\\n<127.0.0.1> EXEC /bin/sh -c \\'echo ~sibat && sleep 0\\'\\n<127.0.0.1> EXEC /bin/sh -c \\'( umask 77 && mkdir -p \"` echo /home/sibat/.ansible/tmp `\"&& mkdir \"` echo /home/sibat/.ansible/tmp/ansible-tmp-1693442576.3734488-1487616-58274482795217 `\" && echo ansible-tmp-1693442576.3734488-1487616-58274482795217=\"` echo /home/sibat/.ansible/tmp/ansible-tmp-1693442576.3734488-1487616-58274482795217 `\" ) && sleep 0\\'\\nUsing module file /home/sibat/.local/lib/python3.10/site-packages/ansible/modules/command.py\\n<127.0.0.1> PUT /home/sibat/.ansible/tmp/ansible-local-14876125910ovcj/tmpwna8pnfv TO /home/sibat/.ansible/tmp/ansible-tmp-1693442576.3734488-1487616-58274482795217/AnsiballZ_command.py\\n<127.0.0.1> EXEC /bin/sh -c \\'chmod u+x /home/sibat/.ansible/tmp/ansible-tmp-1693442576.3734488-1487616-58274482795217/ /home/sibat/.ansible/tmp/ansible-tmp-1693442576.3734488-1487616-58274482795217/AnsiballZ_command.py && sleep 0\\'\\n<127.0.0.1> EXEC /bin/sh -c \\'/home/sibat/miniconda3/envs/fuzz/bin/python /home/sibat/.ansible/tmp/ansible-tmp-1693442576.3734488-1487616-58274482795217/AnsiballZ_command.py && sleep 0\\'\\n<127.0.0.1> EXEC /bin/sh -c \\'rm -f -r /home/sibat/.ansible/tmp/ansible-tmp-1693442576.3734488-1487616-58274482795217/ > /dev/null 2>&1 && sleep 0\\'\\nchanged: [localhost] => {\\n    \"changed\": true,\\n    \"cmd\": [\\n        \"echo\",\\n        \"Hello, Ansible!\",\\n        \"|\",\\n        \"awk\",\\n        \"{print $1}\"\\n    ],\\n    \"delta\": \"0:00:00.002856\",\\n    \"end\": \"2023-08-30 19:42:56.590440\",\\n    \"invocation\": {\\n        \"module_args\": {\\n            \"_raw_params\": \"echo \\\\\"Hello, Ansible!\\\\\" | awk \\'{print $1}\\'\",\\n            \"_uses_shell\": false,\\n            \"argv\": null,\\n            \"chdir\": null,\\n            \"creates\": null,\\n            \"executable\": null,\\n            \"removes\": null,\\n            \"stdin\": null,\\n            \"stdin_add_newline\": true,\\n            \"strip_empty_ends\": true\\n        }\\n    },\\n    \"msg\": \"\",\\n    \"rc\": 0,\\n    \"start\": \"2023-08-30 19:42:56.587584\",\\n    \"stderr\": \"\",\\n    \"stderr_lines\": [],\\n    \"stdout\": \"Hello, Ansible! | awk {print $1}\",\\n    \"stdout_lines\": [\\n        \"Hello, Ansible! | awk {print $1}\"\\n    ]\\n}\\n\\nTASK [Print output] ************************************************************\\ntask path: /home/sibat/repoes/iac-compiler-quality/data/generated_yaml/20230830-133931/lv2/56464.yaml:11\\nok: [localhost] => {\\n    \"msg\": \"Hello, Ansible! | awk {print $1}\"\\n}\\n\\nPLAY RECAP *********************************************************************\\nlocalhost                  : ok=2    changed=1    unreachable=0    failed=0    skipped=0    rescued=0    ignored=0   \\n\\n'"
      ]
     },
     "execution_count": 7,
     "metadata": {},
     "output_type": "execute_result"
    }
   ],
   "source": [
    "ds[0]['output']"
   ]
  },
  {
   "cell_type": "markdown",
   "metadata": {},
   "source": [
    "### Type related errors"
   ]
  },
  {
   "cell_type": "code",
   "execution_count": 48,
   "metadata": {},
   "outputs": [
    {
     "name": "stderr",
     "output_type": "stream",
     "text": [
      "Loading cached processed dataset at /home/sibat/.cache/huggingface/datasets/csv/default-b2665a44b263dc80/0.0.0/cache-115ed8df2c904747.arrow\n"
     ]
    },
    {
     "name": "stdout",
     "output_type": "stream",
     "text": [
      "`iptables comment parameter incorrectly positioned in iptables 71444\n",
      "STATE INQUIRY\n",
      "---\n",
      "- name: Unveiling Latent Type-Related Bugs\n",
      "  hosts: all\n",
      "  gather_facts: false\n",
      "\n",
      "  vars:\n",
      "    inventory_file: \"inventory.ini\"\n",
      "    network_name: \"node-net\"\n",
      "    subnet: \"10.1.1.0/24\"\n",
      "    gateway: \"10.1.1.254\"\n",
      "    nodes:\n",
      "      - name: \"ubuntu1\"\n",
      "        ip: \"10.1.1.1\"\n",
      "        distro: \"ubuntu\"\n",
      "      - name: \"alpine1\"\n",
      "        ip: \"10.1.1.2\"\n",
      "        distro: \"alpine\"\n",
      "      - name: \"centos1\"\n",
      "        ip: \"10.1.1.3\"\n",
      "        distro: \"centos\"\n",
      "      - name: \"redhat1\"\n",
      "        ip: \"10.1.1.4\"\n",
      "        distro: \"redhat\"\n",
      "\n",
      "  tasks:\n",
      "    - name: Create inventory file\n",
      "      blockinfile:\n",
      "        path: \"{{ inventory_file }}\"\n",
      "        create: true\n",
      "        block: |\n",
      "          [nodes]\n",
      "          {% for node in nodes %}\n",
      "          {{ node.name }} ansible_host={{ node.ip }} ansible_connection=docker\n",
      "          {% endfor %}\n",
      "\n",
      "    - name: Create network\n",
      "      block:\n",
      "        - name: Create network using subnet and gateway\n",
      "          docker_network:\n",
      "            name: \"{{ network_name }}\"\n",
      "            subnet: \"{{ subnet }}\"\n",
      "            gateway: \"{{ gateway }}\"\n",
      "          register: network\n",
      "\n",
      "        - name: Wait for network creation\n",
      "          wait_for:\n",
      "            timeout: 30\n",
      "            host: \"{{ gateway }}\"\n",
      "            port: 22\n",
      "          when: network is changed\n",
      "\n",
      "        - name: Set network gateway\n",
      "          shell: ip route del default && ip route add default via {{ gateway }}\n",
      "          when: network is changed\n",
      "\n",
      "      rescue:\n",
      "        - name: Remove created network\n",
      "          docker_network:\n",
      "            name: \"{{ network_name }}\"\n",
      "            state: absent\n",
      "          when: network is changed\n",
      "\n",
      "    - name: Create Docker nodes\n",
      "      docker_container:\n",
      "        name: \"{{ item.name }}\"\n",
      "        image: \"{{ item.distro }}\"\n",
      "        state: started\n",
      "        network_mode: \"{{ network_name }}\"\n",
      "      loop: \"{{ nodes }}\"\n",
      "\n",
      "    - name: Gather Docker facts\n",
      "      ansible.builtin.setup:\n",
      "        filter: ansible_default_ipv4\n",
      "\n",
      "    - name: Print Docker IP addresses\n",
      "      debug:\n",
      "        msg: \"{{ item.item.name }} - {{ item.item.ansible_default_ipv4.address }}\"\n",
      "      loop: \"{{ ansible_play_batch }}\"\n",
      "\n",
      "    # Additional tasks to potentially uncover latent type-related bugs\n",
      "\n",
      "    - name: Set incorrect variable type\n",
      "      set_fact:\n",
      "        subnet: 10.1.1./24\n",
      "\n",
      "    - name: Print variable with incorrect type\n",
      "      debug:\n",
      "        var: subnet\n",
      "\n",
      "    - name: Set incorrect dictionary value\n",
      "      set_fact:\n",
      "        nodes: \"{{ nodes | default({}) | combine({'name': 'ubuntu2'}) }}\"\n",
      "\n",
      "    - name: Print dictionary value with incorrect type\n",
      "      debug:\n",
      "        var: nodes['name']\n",
      "\n",
      "    - name: Append value to incorrect list\n",
      "      set_fact:\n",
      "        nodes: \"{{ nodes | default([]) + ['debian1'] }}\"\n",
      "\n",
      "    - name: Print incorrect list value\n",
      "      debug:\n",
      "        var: nodes[4]\n",
      "ansible-playbook [core 2.14.7]\n",
      "  config file = None\n",
      "  configured module search path = ['/home/sibat/.ansible/plugins/modules', '/usr/share/ansible/plugins/modules']\n",
      "  ansible python module location = /home/sibat/.local/lib/python3.10/site-packages/ansible\n",
      "  ansible collection location = /home/sibat/.ansible/collections:/usr/share/ansible/collections\n",
      "  executable location = /home/sibat/.local/bin/ansible-playbook\n",
      "  python version = 3.10.9 (main, Mar  8 2023, 10:47:38) [GCC 11.2.0] (/home/sibat/miniconda3/envs/fuzz/bin/python)\n",
      "  jinja version = 3.1.2\n",
      "  libyaml = True\n",
      "No config file found; using defaults\n",
      "host_list declined parsing /home/sibat/repoes/iac-compiler-quality/files/ansible/hosts.ini as it did not pass its verify_file() method\n",
      "script declined parsing /home/sibat/repoes/iac-compiler-quality/files/ansible/hosts.ini as it did not pass its verify_file() method\n",
      "auto declined parsing /home/sibat/repoes/iac-compiler-quality/files/ansible/hosts.ini as it did not pass its verify_file() method\n",
      "yaml declined parsing /home/sibat/repoes/iac-compiler-quality/files/ansible/hosts.ini as it did not pass its verify_file() method\n",
      "Parsed /home/sibat/repoes/iac-compiler-quality/files/ansible/hosts.ini inventory source with ini plugin\n",
      "redirecting (type: modules) ansible.builtin.docker_network to community.docker.docker_network\n",
      "redirecting (type: modules) ansible.builtin.docker_network to community.docker.docker_network\n",
      "redirecting (type: modules) ansible.builtin.docker_container to community.docker.docker_container\n",
      "Skipping callback 'default', as we already have a stdout callback.\n",
      "Skipping callback 'minimal', as we already have a stdout callback.\n",
      "Skipping callback 'oneline', as we already have a stdout callback.\n",
      "\n",
      "PLAYBOOK: 71444.yaml ***********************************************************\n",
      "1 plays in /home/sibat/repoes/iac-compiler-quality/data/generated_yaml/20230830-133931/lv2/71444.yaml\n",
      "\n",
      "PLAY [Unveiling Latent Type-Related Bugs] **************************************\n",
      "\n",
      "TASK [Create inventory file] ***************************************************\n",
      "task path: /home/sibat/repoes/iac-compiler-quality/data/generated_yaml/20230830-133931/lv2/71444.yaml:26\n",
      "<ubuntu1> ESTABLISH SSH CONNECTION FOR USER: None\n",
      "<ubuntu1> SSH: EXEC ssh -C -o ControlMaster=auto -o ControlPersist=60s -o 'IdentityFile=\"/home/sibat/repoes/iac-compiler-quality/files/docker_scripts/ssh/cf-key\"' -o KbdInteractiveAuthentication=no -o PreferredAuthentications=gssapi-with-mic,gssapi-keyex,hostbased,publickey -o PasswordAuthentication=no -o ConnectTimeout=10 -o 'ControlPath=\"/home/sibat/.ansible/cp/492fe51149\"' ubuntu1 '/bin/sh -c '\"'\"'echo ~ && sleep 0'\"'\"''\n",
      "<centos1> ESTABLISH SSH CONNECTION FOR USER: None\n",
      "<centos1> SSH: EXEC ssh -C -o ControlMaster=auto -o ControlPersist=60s -o 'IdentityFile=\"/home/sibat/repoes/iac-compiler-quality/files/docker_scripts/ssh/cf-key\"' -o KbdInteractiveAuthentication=no -o PreferredAuthentications=gssapi-with-mic,gssapi-keyex,hostbased,publickey -o PasswordAuthentication=no -o ConnectTimeout=10 -o 'ControlPath=\"/home/sibat/.ansible/cp/74516123ab\"' centos1 '/bin/sh -c '\"'\"'echo ~ && sleep 0'\"'\"''\n",
      "<alpine1> ESTABLISH SSH CONNECTION FOR USER: None\n",
      "<alpine1> SSH: EXEC ssh -C -o ControlMaster=auto -o ControlPersist=60s -o 'IdentityFile=\"/home/sibat/repoes/iac-compiler-quality/files/docker_scripts/ssh/cf-key\"' -o KbdInteractiveAuthentication=no -o PreferredAuthentications=gssapi-with-mic,gssapi-keyex,hostbased,publickey -o PasswordAuthentication=no -o ConnectTimeout=10 -o 'ControlPath=\"/home/sibat/.ansible/cp/323bb6ff72\"' alpine1 '/bin/sh -c '\"'\"'echo ~ && sleep 0'\"'\"''\n",
      "<redhat1> ESTABLISH SSH CONNECTION FOR USER: None\n",
      "<redhat1> SSH: EXEC ssh -C -o ControlMaster=auto -o ControlPersist=60s -o 'IdentityFile=\"/home/sibat/repoes/iac-compiler-quality/files/docker_scripts/ssh/cf-key\"' -o KbdInteractiveAuthentication=no -o PreferredAuthentications=gssapi-with-mic,gssapi-keyex,hostbased,publickey -o PasswordAuthentication=no -o ConnectTimeout=10 -o 'ControlPath=\"/home/sibat/.ansible/cp/cb04d076e0\"' redhat1 '/bin/sh -c '\"'\"'echo ~ && sleep 0'\"'\"''\n",
      "<centos1> (0, b'/root\\n', b'@@@@@@@@@@@@@@@@@@@@@@@@@@@@@@@@@@@@@@@@@@@@@@@@@@@@@@@@@@@\\r\\n@         WARNING: UNPROTECTED PRIVATE KEY FILE!          @\\r\\n@@@@@@@@@@@@@@@@@@@@@@@@@@@@@@@@@@@@@@@@@@@@@@@@@@@@@@@@@@@\\r\\nPermissions 0664 for \\'/home/sibat/repoes/iac-compiler-quality/files/docker_scripts/ssh/cf-key\\' are too open.\\r\\nIt is required that your private key files are NOT accessible by others.\\r\\nThis private key will be ignored.\\r\\nLoad key \"/home/sibat/repoes/iac-compiler-quality/files/docker_scripts/ssh/cf-key\": bad permissions\\r\\n')\n",
      "<centos1> ESTABLISH SSH CONNECTION FOR USER: None\n",
      "<centos1> SSH: EXEC ssh -C -o ControlMaster=auto -o ControlPersist=60s -o 'IdentityFile=\"/home/sibat/repoes/iac-compiler-quality/files/docker_scripts/ssh/cf-key\"' -o KbdInteractiveAuthentication=no -o PreferredAuthentications=gssapi-with-mic,gssapi-keyex,hostbased,publickey -o PasswordAuthentication=no -o ConnectTimeout=10 -o 'ControlPath=\"/home/sibat/.ansible/cp/74516123ab\"' centos1 '/bin/sh -c '\"'\"'( umask 77 && mkdir -p \"` echo /root/.ansible/tmp `\"&& mkdir \"` echo /root/.ansible/tmp/ansible-tmp-1693447707.653089-2695270-253805436602561 `\" && echo ansible-tmp-1693447707.653089-2695270-253805436602561=\"` echo /root/.ansible/tmp/ansible-tmp-1693447707.653089-2695270-253805436602561 `\" ) && sleep 0'\"'\"''\n",
      "<alpine1> (0, b'/root\\n', b'@@@@@@@@@@@@@@@@@@@@@@@@@@@@@@@@@@@@@@@@@@@@@@@@@@@@@@@@@@@\\r\\n@         WARNING: UNPROTECTED PRIVATE KEY FILE!          @\\r\\n@@@@@@@@@@@@@@@@@@@@@@@@@@@@@@@@@@@@@@@@@@@@@@@@@@@@@@@@@@@\\r\\nPermissions 0664 for \\'/home/sibat/repoes/iac-compiler-quality/files/docker_scripts/ssh/cf-key\\' are too open.\\r\\nIt is required that your private key files are NOT accessible by others.\\r\\nThis private key will be ignored.\\r\\nLoad key \"/home/sibat/repoes/iac-compiler-quality/files/docker_scripts/ssh/cf-key\": bad permissions\\r\\n')\n",
      "<alpine1> ESTABLISH SSH CONNECTION FOR USER: None\n",
      "<alpine1> SSH: EXEC ssh -C -o ControlMaster=auto -o ControlPersist=60s -o 'IdentityFile=\"/home/sibat/repoes/iac-compiler-quality/files/docker_scripts/ssh/cf-key\"' -o KbdInteractiveAuthentication=no -o PreferredAuthentications=gssapi-with-mic,gssapi-keyex,hostbased,publickey -o PasswordAuthentication=no -o ConnectTimeout=10 -o 'ControlPath=\"/home/sibat/.ansible/cp/323bb6ff72\"' alpine1 '/bin/sh -c '\"'\"'( umask 77 && mkdir -p \"` echo /root/.ansible/tmp `\"&& mkdir \"` echo /root/.ansible/tmp/ansible-tmp-1693447707.671365-2695269-194682990351036 `\" && echo ansible-tmp-1693447707.671365-2695269-194682990351036=\"` echo /root/.ansible/tmp/ansible-tmp-1693447707.671365-2695269-194682990351036 `\" ) && sleep 0'\"'\"''\n",
      "<ubuntu1> (0, b'/root\\n', b'@@@@@@@@@@@@@@@@@@@@@@@@@@@@@@@@@@@@@@@@@@@@@@@@@@@@@@@@@@@\\r\\n@         WARNING: UNPROTECTED PRIVATE KEY FILE!          @\\r\\n@@@@@@@@@@@@@@@@@@@@@@@@@@@@@@@@@@@@@@@@@@@@@@@@@@@@@@@@@@@\\r\\nPermissions 0664 for \\'/home/sibat/repoes/iac-compiler-quality/files/docker_scripts/ssh/cf-key\\' are too open.\\r\\nIt is required that your private key files are NOT accessible by others.\\r\\nThis private key will be ignored.\\r\\nLoad key \"/home/sibat/repoes/iac-compiler-quality/files/docker_scripts/ssh/cf-key\": bad permissions\\r\\n')\n",
      "<ubuntu1> ESTABLISH SSH CONNECTION FOR USER: None\n",
      "<ubuntu1> SSH: EXEC ssh -C -o ControlMaster=auto -o ControlPersist=60s -o 'IdentityFile=\"/home/sibat/repoes/iac-compiler-quality/files/docker_scripts/ssh/cf-key\"' -o KbdInteractiveAuthentication=no -o PreferredAuthentications=gssapi-with-mic,gssapi-keyex,hostbased,publickey -o PasswordAuthentication=no -o ConnectTimeout=10 -o 'ControlPath=\"/home/sibat/.ansible/cp/492fe51149\"' ubuntu1 '/bin/sh -c '\"'\"'( umask 77 && mkdir -p \"` echo /root/.ansible/tmp `\"&& mkdir \"` echo /root/.ansible/tmp/ansible-tmp-1693447707.6738722-2695268-257168970177784 `\" && echo ansible-tmp-1693447707.6738722-2695268-257168970177784=\"` echo /root/.ansible/tmp/ansible-tmp-1693447707.6738722-2695268-257168970177784 `\" ) && sleep 0'\"'\"''\n",
      "<alpine1> (0, b'ansible-tmp-1693447707.671365-2695269-194682990351036=/root/.ansible/tmp/ansible-tmp-1693447707.671365-2695269-194682990351036\\n', b'')\n",
      "<ubuntu1> (0, b'ansible-tmp-1693447707.6738722-2695268-257168970177784=/root/.ansible/tmp/ansible-tmp-1693447707.6738722-2695268-257168970177784\\n', b'')\n",
      "<centos1> (0, b'ansible-tmp-1693447707.653089-2695270-253805436602561=/root/.ansible/tmp/ansible-tmp-1693447707.653089-2695270-253805436602561\\n', b'')\n",
      "<redhat1> (0, b'/root\\n', b'@@@@@@@@@@@@@@@@@@@@@@@@@@@@@@@@@@@@@@@@@@@@@@@@@@@@@@@@@@@\\r\\n@         WARNING: UNPROTECTED PRIVATE KEY FILE!          @\\r\\n@@@@@@@@@@@@@@@@@@@@@@@@@@@@@@@@@@@@@@@@@@@@@@@@@@@@@@@@@@@\\r\\nPermissions 0664 for \\'/home/sibat/repoes/iac-compiler-quality/files/docker_scripts/ssh/cf-key\\' are too open.\\r\\nIt is required that your private key files are NOT accessible by others.\\r\\nThis private key will be ignored.\\r\\nLoad key \"/home/sibat/repoes/iac-compiler-quality/files/docker_scripts/ssh/cf-key\": bad permissions\\r\\n')\n",
      "<redhat1> ESTABLISH SSH CONNECTION FOR USER: None\n",
      "<redhat1> SSH: EXEC ssh -C -o ControlMaster=auto -o ControlPersist=60s -o 'IdentityFile=\"/home/sibat/repoes/iac-compiler-quality/files/docker_scripts/ssh/cf-key\"' -o KbdInteractiveAuthentication=no -o PreferredAuthentications=gssapi-with-mic,gssapi-keyex,hostbased,publickey -o PasswordAuthentication=no -o ConnectTimeout=10 -o 'ControlPath=\"/home/sibat/.ansible/cp/cb04d076e0\"' redhat1 '/bin/sh -c '\"'\"'( umask 77 && mkdir -p \"` echo /root/.ansible/tmp `\"&& mkdir \"` echo /root/.ansible/tmp/ansible-tmp-1693447707.6914244-2695271-188458219449866 `\" && echo ansible-tmp-1693447707.6914244-2695271-188458219449866=\"` echo /root/.ansible/tmp/ansible-tmp-1693447707.6914244-2695271-188458219449866 `\" ) && sleep 0'\"'\"''\n",
      "<redhat1> (0, b'ansible-tmp-1693447707.6914244-2695271-188458219449866=/root/.ansible/tmp/ansible-tmp-1693447707.6914244-2695271-188458219449866\\n', b'')\n",
      "<alpine1> Attempting python interpreter discovery\n",
      "<alpine1> ESTABLISH SSH CONNECTION FOR USER: None\n",
      "<redhat1> Attempting python interpreter discovery\n",
      "<redhat1> ESTABLISH SSH CONNECTION FOR USER: None\n",
      "<alpine1> SSH: EXEC ssh -C -o ControlMaster=auto -o ControlPersist=60s -o 'IdentityFile=\"/home/sibat/repoes/iac-compiler-quality/files/docker_scripts/ssh/cf-key\"' -o KbdInteractiveAuthentication=no -o PreferredAuthentications=gssapi-with-mic,gssapi-keyex,hostbased,publickey -o PasswordAuthentication=no -o ConnectTimeout=10 -o 'ControlPath=\"/home/sibat/.ansible/cp/323bb6ff72\"' alpine1 '/bin/sh -c '\"'\"'echo PLATFORM; uname; echo FOUND; command -v '\"'\"'\"'\"'\"'\"'\"'\"'python3.11'\"'\"'\"'\"'\"'\"'\"'\"'; command -v '\"'\"'\"'\"'\"'\"'\"'\"'python3.10'\"'\"'\"'\"'\"'\"'\"'\"'; command -v '\"'\"'\"'\"'\"'\"'\"'\"'python3.9'\"'\"'\"'\"'\"'\"'\"'\"'; command -v '\"'\"'\"'\"'\"'\"'\"'\"'python3.8'\"'\"'\"'\"'\"'\"'\"'\"'; command -v '\"'\"'\"'\"'\"'\"'\"'\"'python3.7'\"'\"'\"'\"'\"'\"'\"'\"'; command -v '\"'\"'\"'\"'\"'\"'\"'\"'python3.6'\"'\"'\"'\"'\"'\"'\"'\"'; command -v '\"'\"'\"'\"'\"'\"'\"'\"'python3.5'\"'\"'\"'\"'\"'\"'\"'\"'; command -v '\"'\"'\"'\"'\"'\"'\"'\"'/usr/bin/python3'\"'\"'\"'\"'\"'\"'\"'\"'; command -v '\"'\"'\"'\"'\"'\"'\"'\"'/usr/libexec/platform-python'\"'\"'\"'\"'\"'\"'\"'\"'; command -v '\"'\"'\"'\"'\"'\"'\"'\"'python2.7'\"'\"'\"'\"'\"'\"'\"'\"'; command -v '\"'\"'\"'\"'\"'\"'\"'\"'/usr/bin/python'\"'\"'\"'\"'\"'\"'\"'\"'; command -v '\"'\"'\"'\"'\"'\"'\"'\"'python'\"'\"'\"'\"'\"'\"'\"'\"'; echo ENDFOUND && sleep 0'\"'\"''\n",
      "<centos1> Attempting python interpreter discovery\n",
      "<centos1> ESTABLISH SSH CONNECTION FOR USER: None\n",
      "<redhat1> SSH: EXEC ssh -C -o ControlMaster=auto -o ControlPersist=60s -o 'IdentityFile=\"/home/sibat/repoes/iac-compiler-quality/files/docker_scripts/ssh/cf-key\"' -o KbdInteractiveAuthentication=no -o PreferredAuthentications=gssapi-with-mic,gssapi-keyex,hostbased,publickey -o PasswordAuthentication=no -o ConnectTimeout=10 -o 'ControlPath=\"/home/sibat/.ansible/cp/cb04d076e0\"' redhat1 '/bin/sh -c '\"'\"'echo PLATFORM; uname; echo FOUND; command -v '\"'\"'\"'\"'\"'\"'\"'\"'python3.11'\"'\"'\"'\"'\"'\"'\"'\"'; command -v '\"'\"'\"'\"'\"'\"'\"'\"'python3.10'\"'\"'\"'\"'\"'\"'\"'\"'; command -v '\"'\"'\"'\"'\"'\"'\"'\"'python3.9'\"'\"'\"'\"'\"'\"'\"'\"'; command -v '\"'\"'\"'\"'\"'\"'\"'\"'python3.8'\"'\"'\"'\"'\"'\"'\"'\"'; command -v '\"'\"'\"'\"'\"'\"'\"'\"'python3.7'\"'\"'\"'\"'\"'\"'\"'\"'; command -v '\"'\"'\"'\"'\"'\"'\"'\"'python3.6'\"'\"'\"'\"'\"'\"'\"'\"'; command -v '\"'\"'\"'\"'\"'\"'\"'\"'python3.5'\"'\"'\"'\"'\"'\"'\"'\"'; command -v '\"'\"'\"'\"'\"'\"'\"'\"'/usr/bin/python3'\"'\"'\"'\"'\"'\"'\"'\"'; command -v '\"'\"'\"'\"'\"'\"'\"'\"'/usr/libexec/platform-python'\"'\"'\"'\"'\"'\"'\"'\"'; command -v '\"'\"'\"'\"'\"'\"'\"'\"'python2.7'\"'\"'\"'\"'\"'\"'\"'\"'; command -v '\"'\"'\"'\"'\"'\"'\"'\"'/usr/bin/python'\"'\"'\"'\"'\"'\"'\"'\"'; command -v '\"'\"'\"'\"'\"'\"'\"'\"'python'\"'\"'\"'\"'\"'\"'\"'\"'; echo ENDFOUND && sleep 0'\"'\"''\n",
      "<ubuntu1> Attempting python interpreter discovery\n",
      "<ubuntu1> ESTABLISH SSH CONNECTION FOR USER: None\n",
      "<centos1> SSH: EXEC ssh -C -o ControlMaster=auto -o ControlPersist=60s -o 'IdentityFile=\"/home/sibat/repoes/iac-compiler-quality/files/docker_scripts/ssh/cf-key\"' -o KbdInteractiveAuthentication=no -o PreferredAuthentications=gssapi-with-mic,gssapi-keyex,hostbased,publickey -o PasswordAuthentication=no -o ConnectTimeout=10 -o 'ControlPath=\"/home/sibat/.ansible/cp/74516123ab\"' centos1 '/bin/sh -c '\"'\"'echo PLATFORM; uname; echo FOUND; command -v '\"'\"'\"'\"'\"'\"'\"'\"'python3.11'\"'\"'\"'\"'\"'\"'\"'\"'; command -v '\"'\"'\"'\"'\"'\"'\"'\"'python3.10'\"'\"'\"'\"'\"'\"'\"'\"'; command -v '\"'\"'\"'\"'\"'\"'\"'\"'python3.9'\"'\"'\"'\"'\"'\"'\"'\"'; command -v '\"'\"'\"'\"'\"'\"'\"'\"'python3.8'\"'\"'\"'\"'\"'\"'\"'\"'; command -v '\"'\"'\"'\"'\"'\"'\"'\"'python3.7'\"'\"'\"'\"'\"'\"'\"'\"'; command -v '\"'\"'\"'\"'\"'\"'\"'\"'python3.6'\"'\"'\"'\"'\"'\"'\"'\"'; command -v '\"'\"'\"'\"'\"'\"'\"'\"'python3.5'\"'\"'\"'\"'\"'\"'\"'\"'; command -v '\"'\"'\"'\"'\"'\"'\"'\"'/usr/bin/python3'\"'\"'\"'\"'\"'\"'\"'\"'; command -v '\"'\"'\"'\"'\"'\"'\"'\"'/usr/libexec/platform-python'\"'\"'\"'\"'\"'\"'\"'\"'; command -v '\"'\"'\"'\"'\"'\"'\"'\"'python2.7'\"'\"'\"'\"'\"'\"'\"'\"'; command -v '\"'\"'\"'\"'\"'\"'\"'\"'/usr/bin/python'\"'\"'\"'\"'\"'\"'\"'\"'; command -v '\"'\"'\"'\"'\"'\"'\"'\"'python'\"'\"'\"'\"'\"'\"'\"'\"'; echo ENDFOUND && sleep 0'\"'\"''\n",
      "<ubuntu1> SSH: EXEC ssh -C -o ControlMaster=auto -o ControlPersist=60s -o 'IdentityFile=\"/home/sibat/repoes/iac-compiler-quality/files/docker_scripts/ssh/cf-key\"' -o KbdInteractiveAuthentication=no -o PreferredAuthentications=gssapi-with-mic,gssapi-keyex,hostbased,publickey -o PasswordAuthentication=no -o ConnectTimeout=10 -o 'ControlPath=\"/home/sibat/.ansible/cp/492fe51149\"' ubuntu1 '/bin/sh -c '\"'\"'echo PLATFORM; uname; echo FOUND; command -v '\"'\"'\"'\"'\"'\"'\"'\"'python3.11'\"'\"'\"'\"'\"'\"'\"'\"'; command -v '\"'\"'\"'\"'\"'\"'\"'\"'python3.10'\"'\"'\"'\"'\"'\"'\"'\"'; command -v '\"'\"'\"'\"'\"'\"'\"'\"'python3.9'\"'\"'\"'\"'\"'\"'\"'\"'; command -v '\"'\"'\"'\"'\"'\"'\"'\"'python3.8'\"'\"'\"'\"'\"'\"'\"'\"'; command -v '\"'\"'\"'\"'\"'\"'\"'\"'python3.7'\"'\"'\"'\"'\"'\"'\"'\"'; command -v '\"'\"'\"'\"'\"'\"'\"'\"'python3.6'\"'\"'\"'\"'\"'\"'\"'\"'; command -v '\"'\"'\"'\"'\"'\"'\"'\"'python3.5'\"'\"'\"'\"'\"'\"'\"'\"'; command -v '\"'\"'\"'\"'\"'\"'\"'\"'/usr/bin/python3'\"'\"'\"'\"'\"'\"'\"'\"'; command -v '\"'\"'\"'\"'\"'\"'\"'\"'/usr/libexec/platform-python'\"'\"'\"'\"'\"'\"'\"'\"'; command -v '\"'\"'\"'\"'\"'\"'\"'\"'python2.7'\"'\"'\"'\"'\"'\"'\"'\"'; command -v '\"'\"'\"'\"'\"'\"'\"'\"'/usr/bin/python'\"'\"'\"'\"'\"'\"'\"'\"'; command -v '\"'\"'\"'\"'\"'\"'\"'\"'python'\"'\"'\"'\"'\"'\"'\"'\"'; echo ENDFOUND && sleep 0'\"'\"''\n",
      "<ubuntu1> (0, b'PLATFORM\\nLinux\\nFOUND\\n/usr/bin/python3.10\\n/usr/bin/python3.7\\n/usr/bin/python3\\n/usr/bin/python2.7\\n/usr/bin/python\\n/usr/bin/python\\nENDFOUND\\n', b'')\n",
      "<ubuntu1> ESTABLISH SSH CONNECTION FOR USER: None\n",
      "<ubuntu1> SSH: EXEC ssh -C -o ControlMaster=auto -o ControlPersist=60s -o 'IdentityFile=\"/home/sibat/repoes/iac-compiler-quality/files/docker_scripts/ssh/cf-key\"' -o KbdInteractiveAuthentication=no -o PreferredAuthentications=gssapi-with-mic,gssapi-keyex,hostbased,publickey -o PasswordAuthentication=no -o ConnectTimeout=10 -o 'ControlPath=\"/home/sibat/.ansible/cp/492fe51149\"' ubuntu1 '/bin/sh -c '\"'\"'/usr/bin/python3.10 && sleep 0'\"'\"''\n",
      "<alpine1> (0, b'PLATFORM\\nLinux\\nFOUND\\n/usr/bin/python3.11\\n/usr/bin/python3\\n/usr/bin/python\\n/usr/bin/python\\nENDFOUND\\n', b'')\n",
      "<alpine1> ESTABLISH SSH CONNECTION FOR USER: None\n",
      "<alpine1> SSH: EXEC ssh -C -o ControlMaster=auto -o ControlPersist=60s -o 'IdentityFile=\"/home/sibat/repoes/iac-compiler-quality/files/docker_scripts/ssh/cf-key\"' -o KbdInteractiveAuthentication=no -o PreferredAuthentications=gssapi-with-mic,gssapi-keyex,hostbased,publickey -o PasswordAuthentication=no -o ConnectTimeout=10 -o 'ControlPath=\"/home/sibat/.ansible/cp/323bb6ff72\"' alpine1 '/bin/sh -c '\"'\"'/usr/bin/python3.11 && sleep 0'\"'\"''\n",
      "<redhat1> (0, b'PLATFORM\\nLinux\\nFOUND\\n/usr/bin/python3.6\\n/usr/bin/python3\\n/usr/libexec/platform-python\\n/usr/bin/python2.7\\nENDFOUND\\n', b'')\n",
      "<redhat1> ESTABLISH SSH CONNECTION FOR USER: None\n",
      "<redhat1> SSH: EXEC ssh -C -o ControlMaster=auto -o ControlPersist=60s -o 'IdentityFile=\"/home/sibat/repoes/iac-compiler-quality/files/docker_scripts/ssh/cf-key\"' -o KbdInteractiveAuthentication=no -o PreferredAuthentications=gssapi-with-mic,gssapi-keyex,hostbased,publickey -o PasswordAuthentication=no -o ConnectTimeout=10 -o 'ControlPath=\"/home/sibat/.ansible/cp/cb04d076e0\"' redhat1 '/bin/sh -c '\"'\"'/usr/bin/python3.6 && sleep 0'\"'\"''\n",
      "<centos1> (0, b'PLATFORM\\nLinux\\nFOUND\\n/usr/bin/python3.6\\n/usr/bin/python3\\n/usr/libexec/platform-python\\n/usr/bin/python2.7\\nENDFOUND\\n', b'')\n",
      "<centos1> ESTABLISH SSH CONNECTION FOR USER: None\n",
      "<centos1> SSH: EXEC ssh -C -o ControlMaster=auto -o ControlPersist=60s -o 'IdentityFile=\"/home/sibat/repoes/iac-compiler-quality/files/docker_scripts/ssh/cf-key\"' -o KbdInteractiveAuthentication=no -o PreferredAuthentications=gssapi-with-mic,gssapi-keyex,hostbased,publickey -o PasswordAuthentication=no -o ConnectTimeout=10 -o 'ControlPath=\"/home/sibat/.ansible/cp/74516123ab\"' centos1 '/bin/sh -c '\"'\"'/usr/bin/python3.6 && sleep 0'\"'\"''\n",
      "<alpine1> (0, b'{\"platform_dist_result\": [], \"osrelease_content\": \"NAME=\\\\\"Alpine Linux\\\\\"\\\\nID=alpine\\\\nVERSION_ID=3.18.0\\\\nPRETTY_NAME=\\\\\"Alpine Linux v3.18\\\\\"\\\\nHOME_URL=\\\\\"https://alpinelinux.org/\\\\\"\\\\nBUG_REPORT_URL=\\\\\"https://gitlab.alpinelinux.org/alpine/aports/-/issues\\\\\"\\\\n\"}\\n', b'')\n",
      "<alpine1> Python interpreter discovery fallback (unsupported Linux distribution: alpine)\n",
      "Using module file /home/sibat/.local/lib/python3.10/site-packages/ansible/modules/blockinfile.py\n",
      "<ubuntu1> (0, b'{\"platform_dist_result\": [], \"osrelease_content\": \"PRETTY_NAME=\\\\\"Ubuntu 22.04.2 LTS\\\\\"\\\\nNAME=\\\\\"Ubuntu\\\\\"\\\\nVERSION_ID=\\\\\"22.04\\\\\"\\\\nVERSION=\\\\\"22.04.2 LTS (Jammy Jellyfish)\\\\\"\\\\nVERSION_CODENAME=jammy\\\\nID=ubuntu\\\\nID_LIKE=debian\\\\nHOME_URL=\\\\\"https://www.ubuntu.com/\\\\\"\\\\nSUPPORT_URL=\\\\\"https://help.ubuntu.com/\\\\\"\\\\nBUG_REPORT_URL=\\\\\"https://bugs.launchpad.net/ubuntu/\\\\\"\\\\nPRIVACY_POLICY_URL=\\\\\"https://www.ubuntu.com/legal/terms-and-policies/privacy-policy\\\\\"\\\\nUBUNTU_CODENAME=jammy\\\\n\"}\\n', b'')\n",
      "<alpine1> PUT /home/sibat/.ansible/tmp/ansible-local-2695254ggjlb_uu/tmp41ce5wrp TO /root/.ansible/tmp/ansible-tmp-1693447707.671365-2695269-194682990351036/AnsiballZ_blockinfile.py\n",
      "Using module file /home/sibat/.local/lib/python3.10/site-packages/ansible/modules/blockinfile.py\n",
      "<alpine1> SSH: EXEC sftp -b - -C -o ControlMaster=auto -o ControlPersist=60s -o 'IdentityFile=\"/home/sibat/repoes/iac-compiler-quality/files/docker_scripts/ssh/cf-key\"' -o KbdInteractiveAuthentication=no -o PreferredAuthentications=gssapi-with-mic,gssapi-keyex,hostbased,publickey -o PasswordAuthentication=no -o ConnectTimeout=10 -o 'ControlPath=\"/home/sibat/.ansible/cp/323bb6ff72\"' '[alpine1]'\n",
      "<ubuntu1> PUT /home/sibat/.ansible/tmp/ansible-local-2695254ggjlb_uu/tmp7n0ozvbi TO /root/.ansible/tmp/ansible-tmp-1693447707.6738722-2695268-257168970177784/AnsiballZ_blockinfile.py\n",
      "<ubuntu1> SSH: EXEC sftp -b - -C -o ControlMaster=auto -o ControlPersist=60s -o 'IdentityFile=\"/home/sibat/repoes/iac-compiler-quality/files/docker_scripts/ssh/cf-key\"' -o KbdInteractiveAuthentication=no -o PreferredAuthentications=gssapi-with-mic,gssapi-keyex,hostbased,publickey -o PasswordAuthentication=no -o ConnectTimeout=10 -o 'ControlPath=\"/home/sibat/.ansible/cp/492fe51149\"' '[ubuntu1]'\n",
      "<alpine1> SSH: EXEC scp -C -o ControlMaster=auto -o ControlPersist=60s -o 'IdentityFile=\"/home/sibat/repoes/iac-compiler-quality/files/docker_scripts/ssh/cf-key\"' -o KbdInteractiveAuthentication=no -o PreferredAuthentications=gssapi-with-mic,gssapi-keyex,hostbased,publickey -o PasswordAuthentication=no -o ConnectTimeout=10 -o 'ControlPath=\"/home/sibat/.ansible/cp/323bb6ff72\"' /home/sibat/.ansible/tmp/ansible-local-2695254ggjlb_uu/tmp41ce5wrp '[alpine1]:/root/.ansible/tmp/ansible-tmp-1693447707.671365-2695269-194682990351036/AnsiballZ_blockinfile.py'\n",
      "<ubuntu1> (0, b'sftp> put /home/sibat/.ansible/tmp/ansible-local-2695254ggjlb_uu/tmp7n0ozvbi /root/.ansible/tmp/ansible-tmp-1693447707.6738722-2695268-257168970177784/AnsiballZ_blockinfile.py\\n', b'')\n",
      "<ubuntu1> ESTABLISH SSH CONNECTION FOR USER: None\n",
      "<ubuntu1> SSH: EXEC ssh -C -o ControlMaster=auto -o ControlPersist=60s -o 'IdentityFile=\"/home/sibat/repoes/iac-compiler-quality/files/docker_scripts/ssh/cf-key\"' -o KbdInteractiveAuthentication=no -o PreferredAuthentications=gssapi-with-mic,gssapi-keyex,hostbased,publickey -o PasswordAuthentication=no -o ConnectTimeout=10 -o 'ControlPath=\"/home/sibat/.ansible/cp/492fe51149\"' ubuntu1 '/bin/sh -c '\"'\"'chmod u+x /root/.ansible/tmp/ansible-tmp-1693447707.6738722-2695268-257168970177784/ /root/.ansible/tmp/ansible-tmp-1693447707.6738722-2695268-257168970177784/AnsiballZ_blockinfile.py && sleep 0'\"'\"''\n",
      "<redhat1> (0, b'{\"platform_dist_result\": [\"redhat\", \"8.8\", \"Ootpa\"], \"osrelease_content\": \"NAME=\\\\\"Red Hat Enterprise Linux\\\\\"\\\\nVERSION=\\\\\"8.8 (Ootpa)\\\\\"\\\\nID=\\\\\"rhel\\\\\"\\\\nID_LIKE=\\\\\"fedora\\\\\"\\\\nVERSION_ID=\\\\\"8.8\\\\\"\\\\nPLATFORM_ID=\\\\\"platform:el8\\\\\"\\\\nPRETTY_NAME=\\\\\"Red Hat Enterprise Linux 8.8 (Ootpa)\\\\\"\\\\nANSI_COLOR=\\\\\"0;31\\\\\"\\\\nCPE_NAME=\\\\\"cpe:/o:redhat:enterprise_linux:8::baseos\\\\\"\\\\nHOME_URL=\\\\\"https://www.redhat.com/\\\\\"\\\\nDOCUMENTATION_URL=\\\\\"https://access.redhat.com/documentation/en-us/red_hat_enterprise_linux/8\\\\\"\\\\nBUG_REPORT_URL=\\\\\"https://bugzilla.redhat.com/\\\\\"\\\\n\\\\nREDHAT_BUGZILLA_PRODUCT=\\\\\"Red Hat Enterprise Linux 8\\\\\"\\\\nREDHAT_BUGZILLA_PRODUCT_VERSION=8.8\\\\nREDHAT_SUPPORT_PRODUCT=\\\\\"Red Hat Enterprise Linux\\\\\"\\\\nREDHAT_SUPPORT_PRODUCT_VERSION=\\\\\"8.8\\\\\"\\\\n\"}\\n', b'')\n",
      "Using module file /home/sibat/.local/lib/python3.10/site-packages/ansible/modules/blockinfile.py\n",
      "<ubuntu1> (0, b'', b'')\n",
      "<ubuntu1> ESTABLISH SSH CONNECTION FOR USER: None\n",
      "<redhat1> PUT /home/sibat/.ansible/tmp/ansible-local-2695254ggjlb_uu/tmpowfakmh7 TO /root/.ansible/tmp/ansible-tmp-1693447707.6914244-2695271-188458219449866/AnsiballZ_blockinfile.py\n",
      "<redhat1> SSH: EXEC sftp -b - -C -o ControlMaster=auto -o ControlPersist=60s -o 'IdentityFile=\"/home/sibat/repoes/iac-compiler-quality/files/docker_scripts/ssh/cf-key\"' -o KbdInteractiveAuthentication=no -o PreferredAuthentications=gssapi-with-mic,gssapi-keyex,hostbased,publickey -o PasswordAuthentication=no -o ConnectTimeout=10 -o 'ControlPath=\"/home/sibat/.ansible/cp/cb04d076e0\"' '[redhat1]'\n",
      "<ubuntu1> SSH: EXEC ssh -C -o ControlMaster=auto -o ControlPersist=60s -o 'IdentityFile=\"/home/sibat/repoes/iac-compiler-quality/files/docker_scripts/ssh/cf-key\"' -o KbdInteractiveAuthentication=no -o PreferredAuthentications=gssapi-with-mic,gssapi-keyex,hostbased,publickey -o PasswordAuthentication=no -o ConnectTimeout=10 -o 'ControlPath=\"/home/sibat/.ansible/cp/492fe51149\"' -tt ubuntu1 '/bin/sh -c '\"'\"'/usr/bin/python3 /root/.ansible/tmp/ansible-tmp-1693447707.6738722-2695268-257168970177784/AnsiballZ_blockinfile.py && sleep 0'\"'\"''\n",
      "<alpine1> (0, b'', b'')\n",
      "<alpine1> ESTABLISH SSH CONNECTION FOR USER: None\n",
      "<alpine1> SSH: EXEC ssh -C -o ControlMaster=auto -o ControlPersist=60s -o 'IdentityFile=\"/home/sibat/repoes/iac-compiler-quality/files/docker_scripts/ssh/cf-key\"' -o KbdInteractiveAuthentication=no -o PreferredAuthentications=gssapi-with-mic,gssapi-keyex,hostbased,publickey -o PasswordAuthentication=no -o ConnectTimeout=10 -o 'ControlPath=\"/home/sibat/.ansible/cp/323bb6ff72\"' alpine1 '/bin/sh -c '\"'\"'chmod u+x /root/.ansible/tmp/ansible-tmp-1693447707.671365-2695269-194682990351036/ /root/.ansible/tmp/ansible-tmp-1693447707.671365-2695269-194682990351036/AnsiballZ_blockinfile.py && sleep 0'\"'\"''\n",
      "<centos1> (0, b'{\"platform_dist_result\": [\"centos\", \"8.5.2111\", \"\"], \"osrelease_content\": \"NAME=\\\\\"CentOS Linux\\\\\"\\\\nVERSION=\\\\\"8\\\\\"\\\\nID=\\\\\"centos\\\\\"\\\\nID_LIKE=\\\\\"rhel fedora\\\\\"\\\\nVERSION_ID=\\\\\"8\\\\\"\\\\nPLATFORM_ID=\\\\\"platform:el8\\\\\"\\\\nPRETTY_NAME=\\\\\"CentOS Linux 8\\\\\"\\\\nANSI_COLOR=\\\\\"0;31\\\\\"\\\\nCPE_NAME=\\\\\"cpe:/o:centos:centos:8\\\\\"\\\\nHOME_URL=\\\\\"https://centos.org/\\\\\"\\\\nBUG_REPORT_URL=\\\\\"https://bugs.centos.org/\\\\\"\\\\nCENTOS_MANTISBT_PROJECT=\\\\\"CentOS-8\\\\\"\\\\nCENTOS_MANTISBT_PROJECT_VERSION=\\\\\"8\\\\\"\\\\n\"}\\n', b'')\n",
      "Using module file /home/sibat/.local/lib/python3.10/site-packages/ansible/modules/blockinfile.py\n",
      "<centos1> PUT /home/sibat/.ansible/tmp/ansible-local-2695254ggjlb_uu/tmpck3ajs14 TO /root/.ansible/tmp/ansible-tmp-1693447707.653089-2695270-253805436602561/AnsiballZ_blockinfile.py\n",
      "<centos1> SSH: EXEC sftp -b - -C -o ControlMaster=auto -o ControlPersist=60s -o 'IdentityFile=\"/home/sibat/repoes/iac-compiler-quality/files/docker_scripts/ssh/cf-key\"' -o KbdInteractiveAuthentication=no -o PreferredAuthentications=gssapi-with-mic,gssapi-keyex,hostbased,publickey -o PasswordAuthentication=no -o ConnectTimeout=10 -o 'ControlPath=\"/home/sibat/.ansible/cp/74516123ab\"' '[centos1]'\n",
      "<alpine1> (0, b'', b'')\n",
      "<alpine1> ESTABLISH SSH CONNECTION FOR USER: None\n",
      "<alpine1> SSH: EXEC ssh -C -o ControlMaster=auto -o ControlPersist=60s -o 'IdentityFile=\"/home/sibat/repoes/iac-compiler-quality/files/docker_scripts/ssh/cf-key\"' -o KbdInteractiveAuthentication=no -o PreferredAuthentications=gssapi-with-mic,gssapi-keyex,hostbased,publickey -o PasswordAuthentication=no -o ConnectTimeout=10 -o 'ControlPath=\"/home/sibat/.ansible/cp/323bb6ff72\"' -tt alpine1 '/bin/sh -c '\"'\"'/usr/bin/python3.11 /root/.ansible/tmp/ansible-tmp-1693447707.671365-2695269-194682990351036/AnsiballZ_blockinfile.py && sleep 0'\"'\"''\n",
      "<redhat1> SSH: EXEC scp -C -o ControlMaster=auto -o ControlPersist=60s -o 'IdentityFile=\"/home/sibat/repoes/iac-compiler-quality/files/docker_scripts/ssh/cf-key\"' -o KbdInteractiveAuthentication=no -o PreferredAuthentications=gssapi-with-mic,gssapi-keyex,hostbased,publickey -o PasswordAuthentication=no -o ConnectTimeout=10 -o 'ControlPath=\"/home/sibat/.ansible/cp/cb04d076e0\"' /home/sibat/.ansible/tmp/ansible-local-2695254ggjlb_uu/tmpowfakmh7 '[redhat1]:/root/.ansible/tmp/ansible-tmp-1693447707.6914244-2695271-188458219449866/AnsiballZ_blockinfile.py'\n",
      "<centos1> SSH: EXEC scp -C -o ControlMaster=auto -o ControlPersist=60s -o 'IdentityFile=\"/home/sibat/repoes/iac-compiler-quality/files/docker_scripts/ssh/cf-key\"' -o KbdInteractiveAuthentication=no -o PreferredAuthentications=gssapi-with-mic,gssapi-keyex,hostbased,publickey -o PasswordAuthentication=no -o ConnectTimeout=10 -o 'ControlPath=\"/home/sibat/.ansible/cp/74516123ab\"' /home/sibat/.ansible/tmp/ansible-local-2695254ggjlb_uu/tmpck3ajs14 '[centos1]:/root/.ansible/tmp/ansible-tmp-1693447707.653089-2695270-253805436602561/AnsiballZ_blockinfile.py'\n",
      "<redhat1> (0, b'', b'')\n",
      "<redhat1> ESTABLISH SSH CONNECTION FOR USER: None\n",
      "<redhat1> SSH: EXEC ssh -C -o ControlMaster=auto -o ControlPersist=60s -o 'IdentityFile=\"/home/sibat/repoes/iac-compiler-quality/files/docker_scripts/ssh/cf-key\"' -o KbdInteractiveAuthentication=no -o PreferredAuthentications=gssapi-with-mic,gssapi-keyex,hostbased,publickey -o PasswordAuthentication=no -o ConnectTimeout=10 -o 'ControlPath=\"/home/sibat/.ansible/cp/cb04d076e0\"' redhat1 '/bin/sh -c '\"'\"'chmod u+x /root/.ansible/tmp/ansible-tmp-1693447707.6914244-2695271-188458219449866/ /root/.ansible/tmp/ansible-tmp-1693447707.6914244-2695271-188458219449866/AnsiballZ_blockinfile.py && sleep 0'\"'\"''\n",
      "<centos1> (0, b'', b'')\n",
      "<centos1> ESTABLISH SSH CONNECTION FOR USER: None\n",
      "<centos1> SSH: EXEC ssh -C -o ControlMaster=auto -o ControlPersist=60s -o 'IdentityFile=\"/home/sibat/repoes/iac-compiler-quality/files/docker_scripts/ssh/cf-key\"' -o KbdInteractiveAuthentication=no -o PreferredAuthentications=gssapi-with-mic,gssapi-keyex,hostbased,publickey -o PasswordAuthentication=no -o ConnectTimeout=10 -o 'ControlPath=\"/home/sibat/.ansible/cp/74516123ab\"' centos1 '/bin/sh -c '\"'\"'chmod u+x /root/.ansible/tmp/ansible-tmp-1693447707.653089-2695270-253805436602561/ /root/.ansible/tmp/ansible-tmp-1693447707.653089-2695270-253805436602561/AnsiballZ_blockinfile.py && sleep 0'\"'\"''\n",
      "<redhat1> (0, b'', b'')\n",
      "<redhat1> ESTABLISH SSH CONNECTION FOR USER: None\n",
      "<redhat1> SSH: EXEC ssh -C -o ControlMaster=auto -o ControlPersist=60s -o 'IdentityFile=\"/home/sibat/repoes/iac-compiler-quality/files/docker_scripts/ssh/cf-key\"' -o KbdInteractiveAuthentication=no -o PreferredAuthentications=gssapi-with-mic,gssapi-keyex,hostbased,publickey -o PasswordAuthentication=no -o ConnectTimeout=10 -o 'ControlPath=\"/home/sibat/.ansible/cp/cb04d076e0\"' -tt redhat1 '/bin/sh -c '\"'\"'/usr/libexec/platform-python /root/.ansible/tmp/ansible-tmp-1693447707.6914244-2695271-188458219449866/AnsiballZ_blockinfile.py && sleep 0'\"'\"''\n",
      "<centos1> (0, b'', b'')\n",
      "<centos1> ESTABLISH SSH CONNECTION FOR USER: None\n",
      "<centos1> SSH: EXEC ssh -C -o ControlMaster=auto -o ControlPersist=60s -o 'IdentityFile=\"/home/sibat/repoes/iac-compiler-quality/files/docker_scripts/ssh/cf-key\"' -o KbdInteractiveAuthentication=no -o PreferredAuthentications=gssapi-with-mic,gssapi-keyex,hostbased,publickey -o PasswordAuthentication=no -o ConnectTimeout=10 -o 'ControlPath=\"/home/sibat/.ansible/cp/74516123ab\"' -tt centos1 '/bin/sh -c '\"'\"'/usr/libexec/platform-python /root/.ansible/tmp/ansible-tmp-1693447707.653089-2695270-253805436602561/AnsiballZ_blockinfile.py && sleep 0'\"'\"''\n",
      "<ubuntu1> (1, b'Traceback (most recent call last):\\r\\n  File \"/tmp/ansible_blockinfile_payload_vgr5ebec/ansible_blockinfile_payload.zip/ansible/modules/blockinfile.py\", line 253, in main\\r\\n  File \"/usr/lib/python3.10/os.py\", line 225, in makedirs\\r\\n    mkdir(name, mode)\\r\\nFileNotFoundError: [Errno 2] No such file or directory: \\'\\'\\r\\n\\r\\nDuring handling of the above exception, another exception occurred:\\r\\n\\r\\nTraceback (most recent call last):\\r\\n  File \"/root/.ansible/tmp/ansible-tmp-1693447707.6738722-2695268-257168970177784/AnsiballZ_blockinfile.py\", line 107, in <module>\\r\\n    _ansiballz_main()\\r\\n  File \"/root/.ansible/tmp/ansible-tmp-1693447707.6738722-2695268-257168970177784/AnsiballZ_blockinfile.py\", line 99, in _ansiballz_main\\r\\n    invoke_module(zipped_mod, temp_path, ANSIBALLZ_PARAMS)\\r\\n  File \"/root/.ansible/tmp/ansible-tmp-1693447707.6738722-2695268-257168970177784/AnsiballZ_blockinfile.py\", line 47, in invoke_module\\r\\n    runpy.run_module(mod_name=\\'ansible.modules.blockinfile\\', init_globals=dict(_module_fqn=\\'ansible.modules.blockinfile\\', _modlib_path=modlib_path),\\r\\n  File \"/usr/lib/python3.10/runpy.py\", line 224, in run_module\\r\\n    return _run_module_code(code, init_globals, run_name, mod_spec)\\r\\n  File \"/usr/lib/python3.10/runpy.py\", line 96, in _run_module_code\\r\\n    _run_code(code, mod_globals, init_globals,\\r\\n  File \"/usr/lib/python3.10/runpy.py\", line 86, in _run_code\\r\\n    exec(code, run_globals)\\r\\n  File \"/tmp/ansible_blockinfile_payload_vgr5ebec/ansible_blockinfile_payload.zip/ansible/modules/blockinfile.py\", line 387, in <module>\\r\\n  File \"/tmp/ansible_blockinfile_payload_vgr5ebec/ansible_blockinfile_payload.zip/ansible/modules/blockinfile.py\", line 255, in main\\r\\nTypeError: \\'FileNotFoundError\\' object is not subscriptable\\r\\n', b'Shared connection to 10.1.1.1 closed.\\r\\n')\n",
      "<ubuntu1> Failed to connect to the host via ssh: Shared connection to 10.1.1.1 closed.\n",
      "<ubuntu1> ESTABLISH SSH CONNECTION FOR USER: None\n",
      "<ubuntu1> SSH: EXEC ssh -C -o ControlMaster=auto -o ControlPersist=60s -o 'IdentityFile=\"/home/sibat/repoes/iac-compiler-quality/files/docker_scripts/ssh/cf-key\"' -o KbdInteractiveAuthentication=no -o PreferredAuthentications=gssapi-with-mic,gssapi-keyex,hostbased,publickey -o PasswordAuthentication=no -o ConnectTimeout=10 -o 'ControlPath=\"/home/sibat/.ansible/cp/492fe51149\"' ubuntu1 '/bin/sh -c '\"'\"'rm -f -r /root/.ansible/tmp/ansible-tmp-1693447707.6738722-2695268-257168970177784/ > /dev/null 2>&1 && sleep 0'\"'\"''\n",
      "<ubuntu1> (0, b'', b'')\n",
      "The full traceback is:\n",
      "Traceback (most recent call last):\n",
      "  File \"/tmp/ansible_blockinfile_payload_vgr5ebec/ansible_blockinfile_payload.zip/ansible/modules/blockinfile.py\", line 253, in main\n",
      "  File \"/usr/lib/python3.10/os.py\", line 225, in makedirs\n",
      "    mkdir(name, mode)\n",
      "FileNotFoundError: [Errno 2] No such file or directory: ''\n",
      "\n",
      "During handling of the above exception, another exception occurred:\n",
      "\n",
      "Traceback (most recent call last):\n",
      "  File \"/root/.ansible/tmp/ansible-tmp-1693447707.6738722-2695268-257168970177784/AnsiballZ_blockinfile.py\", line 107, in <module>\n",
      "    _ansiballz_main()\n",
      "  File \"/root/.ansible/tmp/ansible-tmp-1693447707.6738722-2695268-257168970177784/AnsiballZ_blockinfile.py\", line 99, in _ansiballz_main\n",
      "    invoke_module(zipped_mod, temp_path, ANSIBALLZ_PARAMS)\n",
      "  File \"/root/.ansible/tmp/ansible-tmp-1693447707.6738722-2695268-257168970177784/AnsiballZ_blockinfile.py\", line 47, in invoke_module\n",
      "    runpy.run_module(mod_name='ansible.modules.blockinfile', init_globals=dict(_module_fqn='ansible.modules.blockinfile', _modlib_path=modlib_path),\n",
      "  File \"/usr/lib/python3.10/runpy.py\", line 224, in run_module\n",
      "    return _run_module_code(code, init_globals, run_name, mod_spec)\n",
      "  File \"/usr/lib/python3.10/runpy.py\", line 96, in _run_module_code\n",
      "    _run_code(code, mod_globals, init_globals,\n",
      "  File \"/usr/lib/python3.10/runpy.py\", line 86, in _run_code\n",
      "    exec(code, run_globals)\n",
      "  File \"/tmp/ansible_blockinfile_payload_vgr5ebec/ansible_blockinfile_payload.zip/ansible/modules/blockinfile.py\", line 387, in <module>\n",
      "  File \"/tmp/ansible_blockinfile_payload_vgr5ebec/ansible_blockinfile_payload.zip/ansible/modules/blockinfile.py\", line 255, in main\n",
      "TypeError: 'FileNotFoundError' object is not subscriptable\n",
      "fatal: [ubuntu1]: FAILED! => {\n",
      "    \"ansible_facts\": {\n",
      "        \"discovered_interpreter_python\": \"/usr/bin/python3\"\n",
      "    },\n",
      "    \"changed\": false,\n",
      "    \"module_stderr\": \"Shared connection to 10.1.1.1 closed.\\r\\n\",\n",
      "    \"module_stdout\": \"Traceback (most recent call last):\\r\\n  File \\\"/tmp/ansible_blockinfile_payload_vgr5ebec/ansible_blockinfile_payload.zip/ansible/modules/blockinfile.py\\\", line 253, in main\\r\\n  File \\\"/usr/lib/python3.10/os.py\\\", line 225, in makedirs\\r\\n    mkdir(name, mode)\\r\\nFileNotFoundError: [Errno 2] No such file or directory: ''\\r\\n\\r\\nDuring handling of the above exception, another exception occurred:\\r\\n\\r\\nTraceback (most recent call last):\\r\\n  File \\\"/root/.ansible/tmp/ansible-tmp-1693447707.6738722-2695268-257168970177784/AnsiballZ_blockinfile.py\\\", line 107, in <module>\\r\\n    _ansiballz_main()\\r\\n  File \\\"/root/.ansible/tmp/ansible-tmp-1693447707.6738722-2695268-257168970177784/AnsiballZ_blockinfile.py\\\", line 99, in _ansiballz_main\\r\\n    invoke_module(zipped_mod, temp_path, ANSIBALLZ_PARAMS)\\r\\n  File \\\"/root/.ansible/tmp/ansible-tmp-1693447707.6738722-2695268-257168970177784/AnsiballZ_blockinfile.py\\\", line 47, in invoke_module\\r\\n    runpy.run_module(mod_name='ansible.modules.blockinfile', init_globals=dict(_module_fqn='ansible.modules.blockinfile', _modlib_path=modlib_path),\\r\\n  File \\\"/usr/lib/python3.10/runpy.py\\\", line 224, in run_module\\r\\n    return _run_module_code(code, init_globals, run_name, mod_spec)\\r\\n  File \\\"/usr/lib/python3.10/runpy.py\\\", line 96, in _run_module_code\\r\\n    _run_code(code, mod_globals, init_globals,\\r\\n  File \\\"/usr/lib/python3.10/runpy.py\\\", line 86, in _run_code\\r\\n    exec(code, run_globals)\\r\\n  File \\\"/tmp/ansible_blockinfile_payload_vgr5ebec/ansible_blockinfile_payload.zip/ansible/modules/blockinfile.py\\\", line 387, in <module>\\r\\n  File \\\"/tmp/ansible_blockinfile_payload_vgr5ebec/ansible_blockinfile_payload.zip/ansible/modules/blockinfile.py\\\", line 255, in main\\r\\nTypeError: 'FileNotFoundError' object is not subscriptable\\r\\n\",\n",
      "    \"msg\": \"MODULE FAILURE\\nSee stdout/stderr for the exact error\",\n",
      "    \"rc\": 1\n",
      "}\n",
      "<alpine1> (1, b'Traceback (most recent call last):\\r\\n  File \"/tmp/ansible_blockinfile_payload_v944bp5t/ansible_blockinfile_payload.zip/ansible/modules/blockinfile.py\", line 253, in main\\r\\n  File \"<frozen os>\", line 225, in makedirs\\r\\nFileNotFoundError: [Errno 2] No such file or directory: \\'\\'\\r\\n\\r\\nDuring handling of the above exception, another exception occurred:\\r\\n\\r\\nTraceback (most recent call last):\\r\\n  File \"/root/.ansible/tmp/ansible-tmp-1693447707.671365-2695269-194682990351036/AnsiballZ_blockinfile.py\", line 107, in <module>\\r\\n    _ansiballz_main()\\r\\n  File \"/root/.ansible/tmp/ansible-tmp-1693447707.671365-2695269-194682990351036/AnsiballZ_blockinfile.py\", line 99, in _ansiballz_main\\r\\n    invoke_module(zipped_mod, temp_path, ANSIBALLZ_PARAMS)\\r\\n  File \"/root/.ansible/tmp/ansible-tmp-1693447707.671365-2695269-194682990351036/AnsiballZ_blockinfile.py\", line 47, in invoke_module\\r\\n    runpy.run_module(mod_name=\\'ansible.modules.blockinfile\\', init_globals=dict(_module_fqn=\\'ansible.modules.blockinfile\\', _modlib_path=modlib_path),\\r\\n  File \"<frozen runpy>\", line 226, in run_module\\r\\n  File \"<frozen runpy>\", line 98, in _run_module_code\\r\\n  File \"<frozen runpy>\", line 88, in _run_code\\r\\n  File \"/tmp/ansible_blockinfile_payload_v944bp5t/ansible_blockinfile_payload.zip/ansible/modules/blockinfile.py\", line 387, in <module>\\r\\n  File \"/tmp/ansible_blockinfile_payload_v944bp5t/ansible_blockinfile_payload.zip/ansible/modules/blockinfile.py\", line 255, in main\\r\\nTypeError: \\'FileNotFoundError\\' object is not subscriptable\\r\\n', b'Shared connection to 10.1.1.2 closed.\\r\\n')\n",
      "<alpine1> Failed to connect to the host via ssh: Shared connection to 10.1.1.2 closed.\n",
      "<alpine1> ESTABLISH SSH CONNECTION FOR USER: None\n",
      "<alpine1> SSH: EXEC ssh -C -o ControlMaster=auto -o ControlPersist=60s -o 'IdentityFile=\"/home/sibat/repoes/iac-compiler-quality/files/docker_scripts/ssh/cf-key\"' -o KbdInteractiveAuthentication=no -o PreferredAuthentications=gssapi-with-mic,gssapi-keyex,hostbased,publickey -o PasswordAuthentication=no -o ConnectTimeout=10 -o 'ControlPath=\"/home/sibat/.ansible/cp/323bb6ff72\"' alpine1 '/bin/sh -c '\"'\"'rm -f -r /root/.ansible/tmp/ansible-tmp-1693447707.671365-2695269-194682990351036/ > /dev/null 2>&1 && sleep 0'\"'\"''\n",
      "<alpine1> (0, b'', b'')\n",
      "The full traceback is:\n",
      "Traceback (most recent call last):\n",
      "  File \"/tmp/ansible_blockinfile_payload_v944bp5t/ansible_blockinfile_payload.zip/ansible/modules/blockinfile.py\", line 253, in main\n",
      "  File \"<frozen os>\", line 225, in makedirs\n",
      "FileNotFoundError: [Errno 2] No such file or directory: ''\n",
      "\n",
      "During handling of the above exception, another exception occurred:\n",
      "\n",
      "Traceback (most recent call last):\n",
      "  File \"/root/.ansible/tmp/ansible-tmp-1693447707.671365-2695269-194682990351036/AnsiballZ_blockinfile.py\", line 107, in <module>\n",
      "    _ansiballz_main()\n",
      "  File \"/root/.ansible/tmp/ansible-tmp-1693447707.671365-2695269-194682990351036/AnsiballZ_blockinfile.py\", line 99, in _ansiballz_main\n",
      "    invoke_module(zipped_mod, temp_path, ANSIBALLZ_PARAMS)\n",
      "  File \"/root/.ansible/tmp/ansible-tmp-1693447707.671365-2695269-194682990351036/AnsiballZ_blockinfile.py\", line 47, in invoke_module\n",
      "    runpy.run_module(mod_name='ansible.modules.blockinfile', init_globals=dict(_module_fqn='ansible.modules.blockinfile', _modlib_path=modlib_path),\n",
      "  File \"<frozen runpy>\", line 226, in run_module\n",
      "  File \"<frozen runpy>\", line 98, in _run_module_code\n",
      "  File \"<frozen runpy>\", line 88, in _run_code\n",
      "  File \"/tmp/ansible_blockinfile_payload_v944bp5t/ansible_blockinfile_payload.zip/ansible/modules/blockinfile.py\", line 387, in <module>\n",
      "  File \"/tmp/ansible_blockinfile_payload_v944bp5t/ansible_blockinfile_payload.zip/ansible/modules/blockinfile.py\", line 255, in main\n",
      "TypeError: 'FileNotFoundError' object is not subscriptable\n",
      "fatal: [alpine1]: FAILED! => {\n",
      "    \"ansible_facts\": {\n",
      "        \"discovered_interpreter_python\": \"/usr/bin/python3.11\"\n",
      "    },\n",
      "    \"changed\": false,\n",
      "    \"module_stderr\": \"Shared connection to 10.1.1.2 closed.\\r\\n\",\n",
      "    \"module_stdout\": \"Traceback (most recent call last):\\r\\n  File \\\"/tmp/ansible_blockinfile_payload_v944bp5t/ansible_blockinfile_payload.zip/ansible/modules/blockinfile.py\\\", line 253, in main\\r\\n  File \\\"<frozen os>\\\", line 225, in makedirs\\r\\nFileNotFoundError: [Errno 2] No such file or directory: ''\\r\\n\\r\\nDuring handling of the above exception, another exception occurred:\\r\\n\\r\\nTraceback (most recent call last):\\r\\n  File \\\"/root/.ansible/tmp/ansible-tmp-1693447707.671365-2695269-194682990351036/AnsiballZ_blockinfile.py\\\", line 107, in <module>\\r\\n    _ansiballz_main()\\r\\n  File \\\"/root/.ansible/tmp/ansible-tmp-1693447707.671365-2695269-194682990351036/AnsiballZ_blockinfile.py\\\", line 99, in _ansiballz_main\\r\\n    invoke_module(zipped_mod, temp_path, ANSIBALLZ_PARAMS)\\r\\n  File \\\"/root/.ansible/tmp/ansible-tmp-1693447707.671365-2695269-194682990351036/AnsiballZ_blockinfile.py\\\", line 47, in invoke_module\\r\\n    runpy.run_module(mod_name='ansible.modules.blockinfile', init_globals=dict(_module_fqn='ansible.modules.blockinfile', _modlib_path=modlib_path),\\r\\n  File \\\"<frozen runpy>\\\", line 226, in run_module\\r\\n  File \\\"<frozen runpy>\\\", line 98, in _run_module_code\\r\\n  File \\\"<frozen runpy>\\\", line 88, in _run_code\\r\\n  File \\\"/tmp/ansible_blockinfile_payload_v944bp5t/ansible_blockinfile_payload.zip/ansible/modules/blockinfile.py\\\", line 387, in <module>\\r\\n  File \\\"/tmp/ansible_blockinfile_payload_v944bp5t/ansible_blockinfile_payload.zip/ansible/modules/blockinfile.py\\\", line 255, in main\\r\\nTypeError: 'FileNotFoundError' object is not subscriptable\\r\\n\",\n",
      "    \"msg\": \"MODULE FAILURE\\nSee stdout/stderr for the exact error\",\n",
      "    \"rc\": 1\n",
      "}\n",
      "<redhat1> (1, b'Traceback (most recent call last):\\r\\n  File \"/tmp/ansible_blockinfile_payload_r0wjanl_/ansible_blockinfile_payload.zip/ansible/modules/blockinfile.py\", line 253, in main\\r\\n  File \"/usr/lib64/python3.6/os.py\", line 220, in makedirs\\r\\n    mkdir(name, mode)\\r\\nFileNotFoundError: [Errno 2] No such file or directory: \\'\\'\\r\\n\\r\\nDuring handling of the above exception, another exception occurred:\\r\\n\\r\\nTraceback (most recent call last):\\r\\n  File \"/root/.ansible/tmp/ansible-tmp-1693447707.6914244-2695271-188458219449866/AnsiballZ_blockinfile.py\", line 107, in <module>\\r\\n    _ansiballz_main()\\r\\n  File \"/root/.ansible/tmp/ansible-tmp-1693447707.6914244-2695271-188458219449866/AnsiballZ_blockinfile.py\", line 99, in _ansiballz_main\\r\\n    invoke_module(zipped_mod, temp_path, ANSIBALLZ_PARAMS)\\r\\n  File \"/root/.ansible/tmp/ansible-tmp-1693447707.6914244-2695271-188458219449866/AnsiballZ_blockinfile.py\", line 48, in invoke_module\\r\\n    run_name=\\'__main__\\', alter_sys=True)\\r\\n  File \"/usr/lib64/python3.6/runpy.py\", line 205, in run_module\\r\\n    return _run_module_code(code, init_globals, run_name, mod_spec)\\r\\n  File \"/usr/lib64/python3.6/runpy.py\", line 96, in _run_module_code\\r\\n    mod_name, mod_spec, pkg_name, script_name)\\r\\n  File \"/usr/lib64/python3.6/runpy.py\", line 85, in _run_code\\r\\n    exec(code, run_globals)\\r\\n  File \"/tmp/ansible_blockinfile_payload_r0wjanl_/ansible_blockinfile_payload.zip/ansible/modules/blockinfile.py\", line 387, in <module>\\r\\n  File \"/tmp/ansible_blockinfile_payload_r0wjanl_/ansible_blockinfile_payload.zip/ansible/modules/blockinfile.py\", line 255, in main\\r\\nTypeError: \\'FileNotFoundError\\' object is not subscriptable\\r\\n', b'Shared connection to 10.1.1.4 closed.\\r\\n')\n",
      "<redhat1> Failed to connect to the host via ssh: Shared connection to 10.1.1.4 closed.\n",
      "<redhat1> ESTABLISH SSH CONNECTION FOR USER: None\n",
      "<redhat1> SSH: EXEC ssh -C -o ControlMaster=auto -o ControlPersist=60s -o 'IdentityFile=\"/home/sibat/repoes/iac-compiler-quality/files/docker_scripts/ssh/cf-key\"' -o KbdInteractiveAuthentication=no -o PreferredAuthentications=gssapi-with-mic,gssapi-keyex,hostbased,publickey -o PasswordAuthentication=no -o ConnectTimeout=10 -o 'ControlPath=\"/home/sibat/.ansible/cp/cb04d076e0\"' redhat1 '/bin/sh -c '\"'\"'rm -f -r /root/.ansible/tmp/ansible-tmp-1693447707.6914244-2695271-188458219449866/ > /dev/null 2>&1 && sleep 0'\"'\"''\n",
      "<centos1> (1, b'Traceback (most recent call last):\\r\\n  File \"/tmp/ansible_blockinfile_payload_0y7a6t27/ansible_blockinfile_payload.zip/ansible/modules/blockinfile.py\", line 253, in main\\r\\n  File \"/usr/lib64/python3.6/os.py\", line 220, in makedirs\\r\\n    mkdir(name, mode)\\r\\nFileNotFoundError: [Errno 2] No such file or directory: \\'\\'\\r\\n\\r\\nDuring handling of the above exception, another exception occurred:\\r\\n\\r\\nTraceback (most recent call last):\\r\\n  File \"/root/.ansible/tmp/ansible-tmp-1693447707.653089-2695270-253805436602561/AnsiballZ_blockinfile.py\", line 107, in <module>\\r\\n    _ansiballz_main()\\r\\n  File \"/root/.ansible/tmp/ansible-tmp-1693447707.653089-2695270-253805436602561/AnsiballZ_blockinfile.py\", line 99, in _ansiballz_main\\r\\n    invoke_module(zipped_mod, temp_path, ANSIBALLZ_PARAMS)\\r\\n  File \"/root/.ansible/tmp/ansible-tmp-1693447707.653089-2695270-253805436602561/AnsiballZ_blockinfile.py\", line 48, in invoke_module\\r\\n    run_name=\\'__main__\\', alter_sys=True)\\r\\n  File \"/usr/lib64/python3.6/runpy.py\", line 205, in run_module\\r\\n    return _run_module_code(code, init_globals, run_name, mod_spec)\\r\\n  File \"/usr/lib64/python3.6/runpy.py\", line 96, in _run_module_code\\r\\n    mod_name, mod_spec, pkg_name, script_name)\\r\\n  File \"/usr/lib64/python3.6/runpy.py\", line 85, in _run_code\\r\\n    exec(code, run_globals)\\r\\n  File \"/tmp/ansible_blockinfile_payload_0y7a6t27/ansible_blockinfile_payload.zip/ansible/modules/blockinfile.py\", line 387, in <module>\\r\\n  File \"/tmp/ansible_blockinfile_payload_0y7a6t27/ansible_blockinfile_payload.zip/ansible/modules/blockinfile.py\", line 255, in main\\r\\nTypeError: \\'FileNotFoundError\\' object is not subscriptable\\r\\n', b'Shared connection to 10.1.1.3 closed.\\r\\n')\n",
      "<centos1> Failed to connect to the host via ssh: Shared connection to 10.1.1.3 closed.\n",
      "<centos1> ESTABLISH SSH CONNECTION FOR USER: None\n",
      "<centos1> SSH: EXEC ssh -C -o ControlMaster=auto -o ControlPersist=60s -o 'IdentityFile=\"/home/sibat/repoes/iac-compiler-quality/files/docker_scripts/ssh/cf-key\"' -o KbdInteractiveAuthentication=no -o PreferredAuthentications=gssapi-with-mic,gssapi-keyex,hostbased,publickey -o PasswordAuthentication=no -o ConnectTimeout=10 -o 'ControlPath=\"/home/sibat/.ansible/cp/74516123ab\"' centos1 '/bin/sh -c '\"'\"'rm -f -r /root/.ansible/tmp/ansible-tmp-1693447707.653089-2695270-253805436602561/ > /dev/null 2>&1 && sleep 0'\"'\"''\n",
      "<redhat1> (0, b'', b'')\n",
      "The full traceback is:\n",
      "Traceback (most recent call last):\n",
      "  File \"/tmp/ansible_blockinfile_payload_r0wjanl_/ansible_blockinfile_payload.zip/ansible/modules/blockinfile.py\", line 253, in main\n",
      "  File \"/usr/lib64/python3.6/os.py\", line 220, in makedirs\n",
      "    mkdir(name, mode)\n",
      "FileNotFoundError: [Errno 2] No such file or directory: ''\n",
      "\n",
      "During handling of the above exception, another exception occurred:\n",
      "\n",
      "Traceback (most recent call last):\n",
      "  File \"/root/.ansible/tmp/ansible-tmp-1693447707.6914244-2695271-188458219449866/AnsiballZ_blockinfile.py\", line 107, in <module>\n",
      "    _ansiballz_main()\n",
      "  File \"/root/.ansible/tmp/ansible-tmp-1693447707.6914244-2695271-188458219449866/AnsiballZ_blockinfile.py\", line 99, in _ansiballz_main\n",
      "    invoke_module(zipped_mod, temp_path, ANSIBALLZ_PARAMS)\n",
      "  File \"/root/.ansible/tmp/ansible-tmp-1693447707.6914244-2695271-188458219449866/AnsiballZ_blockinfile.py\", line 48, in invoke_module\n",
      "    run_name='__main__', alter_sys=True)\n",
      "  File \"/usr/lib64/python3.6/runpy.py\", line 205, in run_module\n",
      "    return _run_module_code(code, init_globals, run_name, mod_spec)\n",
      "  File \"/usr/lib64/python3.6/runpy.py\", line 96, in _run_module_code\n",
      "    mod_name, mod_spec, pkg_name, script_name)\n",
      "  File \"/usr/lib64/python3.6/runpy.py\", line 85, in _run_code\n",
      "    exec(code, run_globals)\n",
      "  File \"/tmp/ansible_blockinfile_payload_r0wjanl_/ansible_blockinfile_payload.zip/ansible/modules/blockinfile.py\", line 387, in <module>\n",
      "  File \"/tmp/ansible_blockinfile_payload_r0wjanl_/ansible_blockinfile_payload.zip/ansible/modules/blockinfile.py\", line 255, in main\n",
      "TypeError: 'FileNotFoundError' object is not subscriptable\n",
      "fatal: [redhat1]: FAILED! => {\n",
      "    \"ansible_facts\": {\n",
      "        \"discovered_interpreter_python\": \"/usr/libexec/platform-python\"\n",
      "    },\n",
      "    \"changed\": false,\n",
      "    \"module_stderr\": \"Shared connection to 10.1.1.4 closed.\\r\\n\",\n",
      "    \"module_stdout\": \"Traceback (most recent call last):\\r\\n  File \\\"/tmp/ansible_blockinfile_payload_r0wjanl_/ansible_blockinfile_payload.zip/ansible/modules/blockinfile.py\\\", line 253, in main\\r\\n  File \\\"/usr/lib64/python3.6/os.py\\\", line 220, in makedirs\\r\\n    mkdir(name, mode)\\r\\nFileNotFoundError: [Errno 2] No such file or directory: ''\\r\\n\\r\\nDuring handling of the above exception, another exception occurred:\\r\\n\\r\\nTraceback (most recent call last):\\r\\n  File \\\"/root/.ansible/tmp/ansible-tmp-1693447707.6914244-2695271-188458219449866/AnsiballZ_blockinfile.py\\\", line 107, in <module>\\r\\n    _ansiballz_main()\\r\\n  File \\\"/root/.ansible/tmp/ansible-tmp-1693447707.6914244-2695271-188458219449866/AnsiballZ_blockinfile.py\\\", line 99, in _ansiballz_main\\r\\n    invoke_module(zipped_mod, temp_path, ANSIBALLZ_PARAMS)\\r\\n  File \\\"/root/.ansible/tmp/ansible-tmp-1693447707.6914244-2695271-188458219449866/AnsiballZ_blockinfile.py\\\", line 48, in invoke_module\\r\\n    run_name='__main__', alter_sys=True)\\r\\n  File \\\"/usr/lib64/python3.6/runpy.py\\\", line 205, in run_module\\r\\n    return _run_module_code(code, init_globals, run_name, mod_spec)\\r\\n  File \\\"/usr/lib64/python3.6/runpy.py\\\", line 96, in _run_module_code\\r\\n    mod_name, mod_spec, pkg_name, script_name)\\r\\n  File \\\"/usr/lib64/python3.6/runpy.py\\\", line 85, in _run_code\\r\\n    exec(code, run_globals)\\r\\n  File \\\"/tmp/ansible_blockinfile_payload_r0wjanl_/ansible_blockinfile_payload.zip/ansible/modules/blockinfile.py\\\", line 387, in <module>\\r\\n  File \\\"/tmp/ansible_blockinfile_payload_r0wjanl_/ansible_blockinfile_payload.zip/ansible/modules/blockinfile.py\\\", line 255, in main\\r\\nTypeError: 'FileNotFoundError' object is not subscriptable\\r\\n\",\n",
      "    \"msg\": \"MODULE FAILURE\\nSee stdout/stderr for the exact error\",\n",
      "    \"rc\": 1\n",
      "}\n",
      "<centos1> (0, b'', b'')\n",
      "The full traceback is:\n",
      "Traceback (most recent call last):\n",
      "  File \"/tmp/ansible_blockinfile_payload_0y7a6t27/ansible_blockinfile_payload.zip/ansible/modules/blockinfile.py\", line 253, in main\n",
      "  File \"/usr/lib64/python3.6/os.py\", line 220, in makedirs\n",
      "    mkdir(name, mode)\n",
      "FileNotFoundError: [Errno 2] No such file or directory: ''\n",
      "\n",
      "During handling of the above exception, another exception occurred:\n",
      "\n",
      "Traceback (most recent call last):\n",
      "  File \"/root/.ansible/tmp/ansible-tmp-1693447707.653089-2695270-253805436602561/AnsiballZ_blockinfile.py\", line 107, in <module>\n",
      "    _ansiballz_main()\n",
      "  File \"/root/.ansible/tmp/ansible-tmp-1693447707.653089-2695270-253805436602561/AnsiballZ_blockinfile.py\", line 99, in _ansiballz_main\n",
      "    invoke_module(zipped_mod, temp_path, ANSIBALLZ_PARAMS)\n",
      "  File \"/root/.ansible/tmp/ansible-tmp-1693447707.653089-2695270-253805436602561/AnsiballZ_blockinfile.py\", line 48, in invoke_module\n",
      "    run_name='__main__', alter_sys=True)\n",
      "  File \"/usr/lib64/python3.6/runpy.py\", line 205, in run_module\n",
      "    return _run_module_code(code, init_globals, run_name, mod_spec)\n",
      "  File \"/usr/lib64/python3.6/runpy.py\", line 96, in _run_module_code\n",
      "    mod_name, mod_spec, pkg_name, script_name)\n",
      "  File \"/usr/lib64/python3.6/runpy.py\", line 85, in _run_code\n",
      "    exec(code, run_globals)\n",
      "  File \"/tmp/ansible_blockinfile_payload_0y7a6t27/ansible_blockinfile_payload.zip/ansible/modules/blockinfile.py\", line 387, in <module>\n",
      "  File \"/tmp/ansible_blockinfile_payload_0y7a6t27/ansible_blockinfile_payload.zip/ansible/modules/blockinfile.py\", line 255, in main\n",
      "TypeError: 'FileNotFoundError' object is not subscriptable\n",
      "fatal: [centos1]: FAILED! => {\n",
      "    \"ansible_facts\": {\n",
      "        \"discovered_interpreter_python\": \"/usr/libexec/platform-python\"\n",
      "    },\n",
      "    \"changed\": false,\n",
      "    \"module_stderr\": \"Shared connection to 10.1.1.3 closed.\\r\\n\",\n",
      "    \"module_stdout\": \"Traceback (most recent call last):\\r\\n  File \\\"/tmp/ansible_blockinfile_payload_0y7a6t27/ansible_blockinfile_payload.zip/ansible/modules/blockinfile.py\\\", line 253, in main\\r\\n  File \\\"/usr/lib64/python3.6/os.py\\\", line 220, in makedirs\\r\\n    mkdir(name, mode)\\r\\nFileNotFoundError: [Errno 2] No such file or directory: ''\\r\\n\\r\\nDuring handling of the above exception, another exception occurred:\\r\\n\\r\\nTraceback (most recent call last):\\r\\n  File \\\"/root/.ansible/tmp/ansible-tmp-1693447707.653089-2695270-253805436602561/AnsiballZ_blockinfile.py\\\", line 107, in <module>\\r\\n    _ansiballz_main()\\r\\n  File \\\"/root/.ansible/tmp/ansible-tmp-1693447707.653089-2695270-253805436602561/AnsiballZ_blockinfile.py\\\", line 99, in _ansiballz_main\\r\\n    invoke_module(zipped_mod, temp_path, ANSIBALLZ_PARAMS)\\r\\n  File \\\"/root/.ansible/tmp/ansible-tmp-1693447707.653089-2695270-253805436602561/AnsiballZ_blockinfile.py\\\", line 48, in invoke_module\\r\\n    run_name='__main__', alter_sys=True)\\r\\n  File \\\"/usr/lib64/python3.6/runpy.py\\\", line 205, in run_module\\r\\n    return _run_module_code(code, init_globals, run_name, mod_spec)\\r\\n  File \\\"/usr/lib64/python3.6/runpy.py\\\", line 96, in _run_module_code\\r\\n    mod_name, mod_spec, pkg_name, script_name)\\r\\n  File \\\"/usr/lib64/python3.6/runpy.py\\\", line 85, in _run_code\\r\\n    exec(code, run_globals)\\r\\n  File \\\"/tmp/ansible_blockinfile_payload_0y7a6t27/ansible_blockinfile_payload.zip/ansible/modules/blockinfile.py\\\", line 387, in <module>\\r\\n  File \\\"/tmp/ansible_blockinfile_payload_0y7a6t27/ansible_blockinfile_payload.zip/ansible/modules/blockinfile.py\\\", line 255, in main\\r\\nTypeError: 'FileNotFoundError' object is not subscriptable\\r\\n\",\n",
      "    \"msg\": \"MODULE FAILURE\\nSee stdout/stderr for the exact error\",\n",
      "    \"rc\": 1\n",
      "}\n",
      "\n",
      "PLAY RECAP *********************************************************************\n",
      "alpine1                    : ok=0    changed=0    unreachable=0    failed=1    skipped=0    rescued=0    ignored=0   \n",
      "centos1                    : ok=0    changed=0    unreachable=0    failed=1    skipped=0    rescued=0    ignored=0   \n",
      "redhat1                    : ok=0    changed=0    unreachable=0    failed=1    skipped=0    rescued=0    ignored=0   \n",
      "ubuntu1                    : ok=0    changed=0    unreachable=0    failed=1    skipped=0    rescued=0    ignored=0   \n",
      "\n",
      "\n"
     ]
    }
   ],
   "source": [
    "type_error_ds = ds.filter(lambda x: 'TypeError' in x['output'] if x['output'] is not None else False)\n",
    "id = 4\n",
    "print(type_error_ds[id]['title'], type_error_ds[id]['id'])\n",
    "print(type_error_ds[id]['MAIN-CATEG'])\n",
    "\n",
    "print(type_error_ds[id]['code'])\n",
    "print(type_error_ds[id]['output'])"
   ]
  },
  {
   "cell_type": "markdown",
   "metadata": {},
   "source": [
    "### Callback Error"
   ]
  },
  {
   "cell_type": "code",
   "execution_count": 11,
   "metadata": {},
   "outputs": [
    {
     "name": "stderr",
     "output_type": "stream",
     "text": [
      "                                                                    \r"
     ]
    },
    {
     "data": {
      "text/plain": [
       "Dataset({\n",
       "    features: ['id', 'title', 'SUBCATEG', 'MAIN-CATEG', 'body', 'comments', 'level', 'sys_role', 'prompt', 'response', 'second_query', 'code', 'syntax', 'output'],\n",
       "    num_rows: 4\n",
       "})"
      ]
     },
     "execution_count": 11,
     "metadata": {},
     "output_type": "execute_result"
    }
   ],
   "source": [
    "callback_error_ds = ds.filter(lambda x: 'Callback' in x['output'] if x['output'] is not None else False)\n",
    "callback_error_ds"
   ]
  },
  {
   "cell_type": "markdown",
   "metadata": {},
   "source": [
    "### Conditional"
   ]
  },
  {
   "cell_type": "code",
   "execution_count": 12,
   "metadata": {},
   "outputs": [
    {
     "name": "stderr",
     "output_type": "stream",
     "text": [
      "                                                                    \r"
     ]
    },
    {
     "data": {
      "text/plain": [
       "Dataset({\n",
       "    features: ['id', 'title', 'SUBCATEG', 'MAIN-CATEG', 'body', 'comments', 'level', 'sys_role', 'prompt', 'response', 'second_query', 'code', 'syntax', 'output'],\n",
       "    num_rows: 23\n",
       "})"
      ]
     },
     "execution_count": 12,
     "metadata": {},
     "output_type": "execute_result"
    }
   ],
   "source": [
    "conditional_error_ds = ds.filter(lambda x: 'Conditional' in x['output'] if x['output'] is not None else False)\n",
    "conditional_error_ds"
   ]
  },
  {
   "cell_type": "markdown",
   "metadata": {},
   "source": [
    "### Idempotence"
   ]
  },
  {
   "cell_type": "code",
   "execution_count": 14,
   "metadata": {},
   "outputs": [
    {
     "name": "stderr",
     "output_type": "stream",
     "text": [
      "                                                                    \r"
     ]
    },
    {
     "data": {
      "text/plain": [
       "Dataset({\n",
       "    features: ['id', 'title', 'SUBCATEG', 'MAIN-CATEG', 'body', 'comments', 'level', 'sys_role', 'prompt', 'response', 'second_query', 'code', 'syntax', 'output'],\n",
       "    num_rows: 2\n",
       "})"
      ]
     },
     "execution_count": 14,
     "metadata": {},
     "output_type": "execute_result"
    }
   ],
   "source": [
    "idempotence_error_ds = ds.filter(lambda x: 'idempotence' in x['output'] if x['output'] is not None else False)\n",
    "idempotence_error_ds"
   ]
  },
  {
   "cell_type": "markdown",
   "metadata": {},
   "source": [
    "### Inventory"
   ]
  },
  {
   "cell_type": "code",
   "execution_count": 19,
   "metadata": {},
   "outputs": [
    {
     "name": "stderr",
     "output_type": "stream",
     "text": [
      "Loading cached processed dataset at /home/sibat/.cache/huggingface/datasets/csv/default-b2665a44b263dc80/0.0.0/cache-3ae24d0c3a0ccc77.arrow\n"
     ]
    },
    {
     "data": {
      "text/plain": [
       "Dataset({\n",
       "    features: ['id', 'title', 'SUBCATEG', 'MAIN-CATEG', 'body', 'comments', 'level', 'sys_role', 'prompt', 'response', 'second_query', 'code', 'syntax', 'output'],\n",
       "    num_rows: 38\n",
       "})"
      ]
     },
     "execution_count": 19,
     "metadata": {},
     "output_type": "execute_result"
    }
   ],
   "source": [
    "inventory_error_ds = ds.filter(lambda x: 'Inventory' in x['output'] if x['output'] is not None else False)\n",
    "inventory_error_ds"
   ]
  },
  {
   "cell_type": "markdown",
   "metadata": {},
   "source": [
    "### Lambda"
   ]
  },
  {
   "cell_type": "code",
   "execution_count": 20,
   "metadata": {},
   "outputs": [
    {
     "name": "stderr",
     "output_type": "stream",
     "text": [
      "                                                                    \r"
     ]
    },
    {
     "data": {
      "text/plain": [
       "Dataset({\n",
       "    features: ['id', 'title', 'SUBCATEG', 'MAIN-CATEG', 'body', 'comments', 'level', 'sys_role', 'prompt', 'response', 'second_query', 'code', 'syntax', 'output'],\n",
       "    num_rows: 121\n",
       "})"
      ]
     },
     "execution_count": 20,
     "metadata": {},
     "output_type": "execute_result"
    }
   ],
   "source": [
    "lambda_error_ds = ds.filter(lambda x: 'Lambda' in x['output'] if x['output'] is not None else False)\n",
    "lambda_error_ds"
   ]
  },
  {
   "cell_type": "markdown",
   "metadata": {},
   "source": [
    "### Provision Errors"
   ]
  },
  {
   "cell_type": "code",
   "execution_count": 21,
   "metadata": {},
   "outputs": [
    {
     "name": "stderr",
     "output_type": "stream",
     "text": [
      "                                                                    \r"
     ]
    },
    {
     "data": {
      "text/plain": [
       "Dataset({\n",
       "    features: ['id', 'title', 'SUBCATEG', 'MAIN-CATEG', 'body', 'comments', 'level', 'sys_role', 'prompt', 'response', 'second_query', 'code', 'syntax', 'output'],\n",
       "    num_rows: 31\n",
       "})"
      ]
     },
     "execution_count": 21,
     "metadata": {},
     "output_type": "execute_result"
    }
   ],
   "source": [
    "provision_error_ds = ds.filter(lambda x: 'Provision' in x['output'] if x['output'] is not None else False)\n",
    "provision_error_ds"
   ]
  },
  {
   "cell_type": "markdown",
   "metadata": {},
   "source": [
    "### Security Errors"
   ]
  },
  {
   "cell_type": "code",
   "execution_count": 22,
   "metadata": {},
   "outputs": [
    {
     "name": "stderr",
     "output_type": "stream",
     "text": [
      "                                                                    \r"
     ]
    },
    {
     "data": {
      "text/plain": [
       "Dataset({\n",
       "    features: ['id', 'title', 'SUBCATEG', 'MAIN-CATEG', 'body', 'comments', 'level', 'sys_role', 'prompt', 'response', 'second_query', 'code', 'syntax', 'output'],\n",
       "    num_rows: 10\n",
       "})"
      ]
     },
     "execution_count": 22,
     "metadata": {},
     "output_type": "execute_result"
    }
   ],
   "source": [
    "security_error_ds = ds.filter(lambda x: 'Security' in x['output'] if x['output'] is not None else False)\n",
    "security_error_ds"
   ]
  },
  {
   "cell_type": "markdown",
   "metadata": {},
   "source": [
    "### State Inquiry Errors"
   ]
  },
  {
   "cell_type": "code",
   "execution_count": 30,
   "metadata": {},
   "outputs": [
    {
     "name": "stderr",
     "output_type": "stream",
     "text": [
      "Loading cached processed dataset at /home/sibat/.cache/huggingface/datasets/csv/default-b2665a44b263dc80/0.0.0/cache-63fa993011ae2b14.arrow\n"
     ]
    },
    {
     "data": {
      "text/plain": [
       "Dataset({\n",
       "    features: ['id', 'title', 'SUBCATEG', 'MAIN-CATEG', 'body', 'comments', 'level', 'sys_role', 'prompt', 'response', 'second_query', 'code', 'syntax', 'output'],\n",
       "    num_rows: 7\n",
       "})"
      ]
     },
     "execution_count": 30,
     "metadata": {},
     "output_type": "execute_result"
    }
   ],
   "source": [
    "state_inquiry_error_ds = ds.filter(lambda x: 'State Inquiry' in x['output'] if x['output'] is not None else False)\n",
    "state_inquiry_error_ds"
   ]
  },
  {
   "cell_type": "markdown",
   "metadata": {},
   "source": [
    "### Traceback Error"
   ]
  },
  {
   "cell_type": "code",
   "execution_count": 31,
   "metadata": {},
   "outputs": [
    {
     "name": "stderr",
     "output_type": "stream",
     "text": [
      "                                                                    \r"
     ]
    },
    {
     "data": {
      "text/plain": [
       "Dataset({\n",
       "    features: ['id', 'title', 'SUBCATEG', 'MAIN-CATEG', 'body', 'comments', 'level', 'sys_role', 'prompt', 'response', 'second_query', 'code', 'syntax', 'output'],\n",
       "    num_rows: 79\n",
       "})"
      ]
     },
     "execution_count": 31,
     "metadata": {},
     "output_type": "execute_result"
    }
   ],
   "source": [
    "traceback_error_ds = ds.filter(lambda x: 'Traceback' in x['output'] if x['output'] is not None else False)\n",
    "traceback_error_ds"
   ]
  },
  {
   "cell_type": "code",
   "execution_count": null,
   "metadata": {},
   "outputs": [],
   "source": []
  }
 ],
 "metadata": {
  "kernelspec": {
   "display_name": "fuzz",
   "language": "python",
   "name": "python3"
  },
  "language_info": {
   "codemirror_mode": {
    "name": "ipython",
    "version": 3
   },
   "file_extension": ".py",
   "mimetype": "text/x-python",
   "name": "python",
   "nbconvert_exporter": "python",
   "pygments_lexer": "ipython3",
   "version": "3.10.9"
  },
  "orig_nbformat": 4
 },
 "nbformat": 4,
 "nbformat_minor": 2
}
