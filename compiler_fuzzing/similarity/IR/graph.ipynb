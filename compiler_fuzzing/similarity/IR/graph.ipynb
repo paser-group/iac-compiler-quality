{
 "cells": [
  {
   "cell_type": "code",
   "execution_count": 20,
   "metadata": {},
   "outputs": [],
   "source": [
    "import create_gv\n",
    "from pathlib import Path\n",
    "\n",
    "paths = []\n",
    "for file_path in Path.cwd().parents[0].joinpath('YAML').iterdir():\n",
    "    if file_path.is_file():\n",
    "        paths.append(str(file_path))\n",
    "paths = sorted(paths)"
   ]
  },
  {
   "cell_type": "code",
   "execution_count": 21,
   "metadata": {},
   "outputs": [],
   "source": [
    "import pandas as pd\n",
    "df = pd.DataFrame(paths, columns=['path'])\n",
    "df['inter'] = df['path'].apply(create_gv.gen_gv)"
   ]
  },
  {
   "cell_type": "code",
   "execution_count": 3,
   "metadata": {},
   "outputs": [
    {
     "data": {
      "text/html": [
       "<div>\n",
       "<style scoped>\n",
       "    .dataframe tbody tr th:only-of-type {\n",
       "        vertical-align: middle;\n",
       "    }\n",
       "\n",
       "    .dataframe tbody tr th {\n",
       "        vertical-align: top;\n",
       "    }\n",
       "\n",
       "    .dataframe thead th {\n",
       "        text-align: right;\n",
       "    }\n",
       "</style>\n",
       "<table border=\"1\" class=\"dataframe\">\n",
       "  <thead>\n",
       "    <tr style=\"text-align: right;\">\n",
       "      <th></th>\n",
       "      <th>path</th>\n",
       "      <th>inter</th>\n",
       "    </tr>\n",
       "  </thead>\n",
       "  <tbody>\n",
       "    <tr>\n",
       "      <th>0</th>\n",
       "      <td>/data/minh/CompilierFuzzing/similarity/YAML/ch...</td>\n",
       "      <td>digraph graphname {\\n3 [label=\"category_names:...</td>\n",
       "    </tr>\n",
       "    <tr>\n",
       "      <th>1</th>\n",
       "      <td>/data/minh/CompilierFuzzing/similarity/YAML/ch...</td>\n",
       "      <td>digraph graphname {\\n6 [label=\"var: db.secret_...</td>\n",
       "    </tr>\n",
       "    <tr>\n",
       "      <th>2</th>\n",
       "      <td>/data/minh/CompilierFuzzing/similarity/YAML/ch...</td>\n",
       "      <td>digraph graphname {\\n10 [label=\"enabled: True\\...</td>\n",
       "    </tr>\n",
       "    <tr>\n",
       "      <th>3</th>\n",
       "      <td>/data/minh/CompilierFuzzing/similarity/YAML/ch...</td>\n",
       "      <td>digraph graphname {\\n13 [label=\"msg: This is T...</td>\n",
       "    </tr>\n",
       "    <tr>\n",
       "      <th>4</th>\n",
       "      <td>/data/minh/CompilierFuzzing/similarity/YAML/ch...</td>\n",
       "      <td>digraph graphname {\\n19 [label=\"repo: deb http...</td>\n",
       "    </tr>\n",
       "  </tbody>\n",
       "</table>\n",
       "</div>"
      ],
      "text/plain": [
       "                                                path  \\\n",
       "0  /data/minh/CompilierFuzzing/similarity/YAML/ch...   \n",
       "1  /data/minh/CompilierFuzzing/similarity/YAML/ch...   \n",
       "2  /data/minh/CompilierFuzzing/similarity/YAML/ch...   \n",
       "3  /data/minh/CompilierFuzzing/similarity/YAML/ch...   \n",
       "4  /data/minh/CompilierFuzzing/similarity/YAML/ch...   \n",
       "\n",
       "                                               inter  \n",
       "0  digraph graphname {\\n3 [label=\"category_names:...  \n",
       "1  digraph graphname {\\n6 [label=\"var: db.secret_...  \n",
       "2  digraph graphname {\\n10 [label=\"enabled: True\\...  \n",
       "3  digraph graphname {\\n13 [label=\"msg: This is T...  \n",
       "4  digraph graphname {\\n19 [label=\"repo: deb http...  "
      ]
     },
     "execution_count": 3,
     "metadata": {},
     "output_type": "execute_result"
    }
   ],
   "source": [
    "df.head()"
   ]
  },
  {
   "cell_type": "code",
   "execution_count": 19,
   "metadata": {},
   "outputs": [],
   "source": [
    "df.to_pickle('../IR/graph_IR.pickle')"
   ]
  },
  {
   "cell_type": "code",
   "execution_count": 22,
   "metadata": {},
   "outputs": [],
   "source": [
    "import pandas as pd\n",
    "ndf = pd.read_pickle('../IR/graph_IR.pickle')"
   ]
  },
  {
   "cell_type": "code",
   "execution_count": 16,
   "metadata": {},
   "outputs": [
    {
     "data": {
      "text/plain": [
       "'digraph graphname {\\n55 [label=\"CriticalUpdates\"];\\n56 [label=\"SecurityUpdates\"];\\n54 [label=\"\"];\\n54 -> 55 [label=\"category_names\"];\\n54 -> 56 [label=\"category_names\"];\\n55 -> 56 [style=\"dashed\"];\\n53 [label=\"name: Run Windows Update\\\\n\"];\\n53 -> 54 [label=\"win_updates\"];\\n52 [label=\"become: True\\\\nhosts: windows_servers\\\\nname: Example playbook\\\\n\"];\\n52 -> 53 [label=\"tasks\"];\\n}\\n'"
      ]
     },
     "execution_count": 16,
     "metadata": {},
     "output_type": "execute_result"
    }
   ],
   "source": [
    "ndf.loc[0, 'inter']"
   ]
  }
 ],
 "metadata": {
  "kernelspec": {
   "display_name": "fuzz",
   "language": "python",
   "name": "python3"
  },
  "language_info": {
   "codemirror_mode": {
    "name": "ipython",
    "version": 3
   },
   "file_extension": ".py",
   "mimetype": "text/x-python",
   "name": "python",
   "nbconvert_exporter": "python",
   "pygments_lexer": "ipython3",
   "version": "3.10.9"
  },
  "orig_nbformat": 4,
  "vscode": {
   "interpreter": {
    "hash": "724a360e4b1668c4bd0799b375a72d1784ce9ecca15a60916be0b4894d1ed324"
   }
  }
 },
 "nbformat": 4,
 "nbformat_minor": 2
}
