{
 "cells": [
  {
   "cell_type": "code",
   "execution_count": 1,
   "metadata": {},
   "outputs": [],
   "source": [
    "import networkx as nx\n",
    "import numpy as np\n",
    "import pydot\n",
    "from grakel import Graph\n",
    "import pandas as pd\n",
    "ndf = pd.read_pickle('../IR/graph_IR.pickle')\n",
    "import warnings\n",
    "# Ignore DeprecationWarning\n",
    "warnings.filterwarnings(\"ignore\", category=DeprecationWarning)"
   ]
  },
  {
   "cell_type": "code",
   "execution_count": 2,
   "metadata": {},
   "outputs": [],
   "source": [
    "def networkx_to_grakel(graph):\n",
    "    nodes = sorted(graph.nodes(data=True))\n",
    "    node_mapping = {old: new for new, old in enumerate(graph.nodes())}\n",
    "    node_labels = {node_mapping[n[0]]: n[1].get('label', str(n[0])) for n in nodes}\n",
    "    edge_labels = {(node_mapping[u], node_mapping[v]): graph[u][v].get('label', 'edge') for u, v in graph.edges()}\n",
    "    numerical_edge_labels = {k: hash(v) for k, v in edge_labels.items()}\n",
    "    edges = [(node_mapping[u], node_mapping[v], numerical_edge_labels.get((node_mapping[u], node_mapping[v]), 0)) for u, v in graph.edges()]\n",
    "    return Graph(edges, node_labels)\n"
   ]
  },
  {
   "cell_type": "code",
   "execution_count": 3,
   "metadata": {},
   "outputs": [],
   "source": [
    "def dot_string_to_networkx(dot_str):\n",
    "    return read_dot(io.StringIO(dot_str))\n",
    "\n",
    "def dot_to_networkx(dot_graph):\n",
    "    return nx.nx_pydot.from_pydot(dot_graph)\n",
    "\n",
    "def graph_to_dot(dot_graph):\n",
    "    return  pydot.graph_from_dot_data(dot_graph)[0]"
   ]
  },
  {
   "cell_type": "code",
   "execution_count": 4,
   "metadata": {},
   "outputs": [],
   "source": [
    "ndf['dot_graph'] = ndf['inter'].apply(graph_to_dot)"
   ]
  },
  {
   "cell_type": "code",
   "execution_count": 5,
   "metadata": {},
   "outputs": [],
   "source": [
    "ndf['graph_nx'] = ndf['dot_graph'].apply(dot_to_networkx)"
   ]
  },
  {
   "cell_type": "code",
   "execution_count": 6,
   "metadata": {},
   "outputs": [],
   "source": [
    "ndf['graph_grakel'] = ndf['graph_nx'].apply(networkx_to_grakel)"
   ]
  },
  {
   "cell_type": "code",
   "execution_count": 7,
   "metadata": {},
   "outputs": [],
   "source": [
    "# Compute the Weisfeiler-Lehman kernel\n",
    "from grakel.kernels import WeisfeilerLehman\n",
    "gk = WeisfeilerLehman(n_iter=100, normalize=True)\n",
    "K = gk.fit_transform(ndf['graph_grakel'])"
   ]
  },
  {
   "cell_type": "code",
   "execution_count": 8,
   "metadata": {},
   "outputs": [],
   "source": [
    "import numpy as np\n",
    "\n",
    "def kernel_to_distance_matrix(K):\n",
    "    num_graphs = K.shape[0]\n",
    "    D = np.zeros((num_graphs, num_graphs))\n",
    "    \n",
    "    for i in range(num_graphs):\n",
    "        for j in range(num_graphs):\n",
    "            D[i, j] = np.sqrt(K[i, i] + K[j, j] - 2 * K[i, j])\n",
    "    \n",
    "    return D\n",
    "\n",
    "# Convert the kernel matrix K to a distance matrix D\n",
    "dist_matrix = kernel_to_distance_matrix(K)"
   ]
  },
  {
   "cell_type": "code",
   "execution_count": 9,
   "metadata": {},
   "outputs": [
    {
     "name": "stdout",
     "output_type": "stream",
     "text": [
      "The maximum value is at row 3 and column 55, with a value of 1.413416415409981\n"
     ]
    }
   ],
   "source": [
    "# Get the row and column indices of the maximum value\n",
    "row_idx, col_idx = np.unravel_index(np.argmax(dist_matrix, axis=None), dist_matrix.shape)\n",
    "\n",
    "# Print the indices and the maximum value\n",
    "print(f\"The maximum value is at row {row_idx} and column {col_idx}, with a value of {dist_matrix[row_idx, col_idx]}\")"
   ]
  },
  {
   "cell_type": "code",
   "execution_count": 10,
   "metadata": {},
   "outputs": [
    {
     "data": {
      "text/plain": [
       "1.413416415409981"
      ]
     },
     "execution_count": 10,
     "metadata": {},
     "output_type": "execute_result"
    }
   ],
   "source": [
    "dist_matrix[row_idx, col_idx]"
   ]
  },
  {
   "cell_type": "code",
   "execution_count": 11,
   "metadata": {},
   "outputs": [
    {
     "name": "stdout",
     "output_type": "stream",
     "text": [
      "Pair: (13, 33), Distance: 1.4092727453030174\n",
      "Pair: (82, 33), Distance: 1.4092727453030174\n",
      "Pair: (33, 13), Distance: 1.4092727453030174\n",
      "Pair: (12, 83), Distance: 1.4092727453030174\n",
      "Pair: (33, 91), Distance: 1.4092727453030174\n",
      "Pair: (31, 12), Distance: 1.4092727453030174\n",
      "Pair: (58, 83), Distance: 1.4092727453030174\n",
      "Pair: (58, 31), Distance: 1.4092727453030174\n",
      "Pair: (83, 12), Distance: 1.4092727453030174\n",
      "Pair: (33, 82), Distance: 1.4092727453030174\n",
      "Pair: (10, 41), Distance: 1.408794463345183\n",
      "Pair: (41, 59), Distance: 1.408794463345183\n",
      "Pair: (41, 10), Distance: 1.408794463345183\n",
      "Pair: (59, 41), Distance: 1.408794463345183\n",
      "Pair: (7, 10), Distance: 1.4086456739235214\n",
      "Pair: (10, 7), Distance: 1.4086456739235214\n",
      "Pair: (7, 59), Distance: 1.4086456739235214\n",
      "Pair: (7, 39), Distance: 1.4086456739235214\n",
      "Pair: (7, 30), Distance: 1.4086456739235214\n",
      "Pair: (7, 1), Distance: 1.4086456739235214\n",
      "Pair: (39, 7), Distance: 1.4086456739235214\n",
      "Pair: (30, 7), Distance: 1.4086456739235214\n",
      "Pair: (59, 7), Distance: 1.4086456739235214\n",
      "Pair: (1, 7), Distance: 1.4086456739235214\n",
      "Pair: (45, 83), Distance: 1.4085092019923948\n",
      "Pair: (16, 31), Distance: 1.4085092019923948\n",
      "Pair: (91, 71), Distance: 1.4085092019923948\n",
      "Pair: (82, 46), Distance: 1.4085092019923948\n",
      "Pair: (82, 38), Distance: 1.4085092019923948\n",
      "Pair: (19, 77), Distance: 1.4085092019923948\n",
      "Pair: (19, 68), Distance: 1.4085092019923948\n",
      "Pair: (45, 31), Distance: 1.4085092019923948\n",
      "Pair: (46, 91), Distance: 1.4085092019923948\n",
      "Pair: (13, 38), Distance: 1.4085092019923948\n",
      "Pair: (91, 46), Distance: 1.4085092019923948\n",
      "Pair: (31, 45), Distance: 1.4085092019923948\n",
      "Pair: (31, 41), Distance: 1.4085092019923948\n",
      "Pair: (13, 71), Distance: 1.4085092019923948\n",
      "Pair: (91, 97), Distance: 1.4085092019923948\n",
      "Pair: (91, 38), Distance: 1.4085092019923948\n",
      "Pair: (77, 6), Distance: 1.4085092019923948\n",
      "Pair: (77, 19), Distance: 1.4085092019923948\n",
      "Pair: (31, 16), Distance: 1.4085092019923948\n",
      "Pair: (46, 82), Distance: 1.4085092019923948\n",
      "Pair: (46, 13), Distance: 1.4085092019923948\n",
      "Pair: (13, 46), Distance: 1.4085092019923948\n",
      "Pair: (16, 83), Distance: 1.4085092019923948\n",
      "Pair: (83, 45), Distance: 1.4085092019923948\n",
      "Pair: (13, 97), Distance: 1.4085092019923948\n",
      "Pair: (97, 13), Distance: 1.4085092019923948\n",
      "Pair: (71, 82), Distance: 1.4085092019923948\n",
      "Pair: (71, 13), Distance: 1.4085092019923948\n",
      "Pair: (83, 16), Distance: 1.4085092019923948\n",
      "Pair: (71, 91), Distance: 1.4085092019923948\n",
      "Pair: (82, 97), Distance: 1.4085092019923948\n",
      "Pair: (38, 82), Distance: 1.4085092019923948\n",
      "Pair: (68, 19), Distance: 1.4085092019923948\n",
      "Pair: (68, 6), Distance: 1.4085092019923948\n",
      "Pair: (6, 68), Distance: 1.4085092019923948\n",
      "Pair: (83, 41), Distance: 1.4085092019923948\n",
      "Pair: (6, 77), Distance: 1.4085092019923948\n",
      "Pair: (41, 31), Distance: 1.4085092019923948\n",
      "Pair: (38, 13), Distance: 1.4085092019923948\n",
      "Pair: (41, 83), Distance: 1.4085092019923948\n",
      "Pair: (97, 82), Distance: 1.4085092019923948\n",
      "Pair: (97, 91), Distance: 1.4085092019923948\n",
      "Pair: (82, 71), Distance: 1.4085092019923948\n",
      "Pair: (38, 91), Distance: 1.4085092019923948\n",
      "Pair: (12, 41), Distance: 1.408154949143943\n",
      "Pair: (41, 12), Distance: 1.408154949143943\n",
      "Pair: (75, 7), Distance: 1.4079885620191814\n",
      "Pair: (90, 7), Distance: 1.4079885620191814\n",
      "Pair: (7, 75), Distance: 1.4079885620191814\n",
      "Pair: (12, 7), Distance: 1.4079885620191814\n",
      "Pair: (7, 90), Distance: 1.4079885620191814\n",
      "Pair: (7, 48), Distance: 1.4079885620191814\n",
      "Pair: (48, 7), Distance: 1.4079885620191814\n",
      "Pair: (7, 12), Distance: 1.4079885620191814\n",
      "Pair: (83, 31), Distance: 1.4072297490113201\n",
      "Pair: (19, 6), Distance: 1.4072297490113201\n",
      "Pair: (91, 13), Distance: 1.4072297490113201\n",
      "Pair: (31, 83), Distance: 1.4072297490113201\n",
      "Pair: (6, 19), Distance: 1.4072297490113201\n",
      "Pair: (82, 91), Distance: 1.4072297490113201\n",
      "Pair: (82, 13), Distance: 1.4072297490113201\n",
      "Pair: (13, 91), Distance: 1.4072297490113201\n",
      "Pair: (13, 82), Distance: 1.4072297490113201\n",
      "Pair: (91, 82), Distance: 1.4072297490113201\n",
      "Pair: (29, 7), Distance: 1.407026056034022\n",
      "Pair: (11, 7), Distance: 1.407026056034022\n",
      "Pair: (7, 41), Distance: 1.407026056034022\n",
      "Pair: (7, 29), Distance: 1.407026056034022\n",
      "Pair: (7, 11), Distance: 1.407026056034022\n",
      "Pair: (41, 7), Distance: 1.407026056034022\n",
      "Pair: (55, 7), Distance: 1.3131407380223985\n",
      "Pair: (7, 55), Distance: 1.3131407380223985\n",
      "Pair: (23, 30), Distance: 1.216496016585934\n",
      "Pair: (30, 23), Distance: 1.216496016585934\n",
      "Pair: (24, 53), Distance: 1.1527997954636584\n",
      "Pair: (53, 24), Distance: 1.1527997954636584\n",
      "Pair: (0, 0), Distance: 0.0\n",
      "Pair: (97, 97), Distance: 0.0\n",
      "Pair: (26, 26), Distance: 0.0\n",
      "Pair: (27, 27), Distance: 0.0\n",
      "Pair: (28, 28), Distance: 0.0\n",
      "Pair: (29, 29), Distance: 0.0\n",
      "Pair: (30, 30), Distance: 0.0\n",
      "Pair: (31, 31), Distance: 0.0\n",
      "Pair: (32, 32), Distance: 0.0\n",
      "Pair: (33, 33), Distance: 0.0\n",
      "Pair: (34, 34), Distance: 0.0\n",
      "Pair: (35, 35), Distance: 0.0\n",
      "Pair: (36, 36), Distance: 0.0\n",
      "Pair: (37, 37), Distance: 0.0\n",
      "Pair: (38, 38), Distance: 0.0\n",
      "Pair: (39, 39), Distance: 0.0\n",
      "Pair: (40, 40), Distance: 0.0\n",
      "Pair: (41, 41), Distance: 0.0\n",
      "Pair: (42, 42), Distance: 0.0\n",
      "Pair: (43, 43), Distance: 0.0\n",
      "Pair: (44, 44), Distance: 0.0\n",
      "Pair: (45, 45), Distance: 0.0\n",
      "Pair: (46, 46), Distance: 0.0\n",
      "Pair: (25, 25), Distance: 0.0\n",
      "Pair: (47, 47), Distance: 0.0\n",
      "Pair: (24, 24), Distance: 0.0\n",
      "Pair: (22, 22), Distance: 0.0\n",
      "Pair: (1, 1), Distance: 0.0\n",
      "Pair: (2, 2), Distance: 0.0\n",
      "Pair: (3, 3), Distance: 0.0\n",
      "Pair: (4, 4), Distance: 0.0\n",
      "Pair: (5, 5), Distance: 0.0\n",
      "Pair: (6, 6), Distance: 0.0\n",
      "Pair: (7, 7), Distance: 0.0\n",
      "Pair: (8, 8), Distance: 0.0\n",
      "Pair: (9, 9), Distance: 0.0\n",
      "Pair: (10, 10), Distance: 0.0\n",
      "Pair: (11, 11), Distance: 0.0\n",
      "Pair: (12, 12), Distance: 0.0\n",
      "Pair: (13, 13), Distance: 0.0\n",
      "Pair: (14, 14), Distance: 0.0\n",
      "Pair: (15, 15), Distance: 0.0\n",
      "Pair: (16, 16), Distance: 0.0\n",
      "Pair: (17, 17), Distance: 0.0\n",
      "Pair: (18, 18), Distance: 0.0\n",
      "Pair: (19, 19), Distance: 0.0\n",
      "Pair: (20, 20), Distance: 0.0\n",
      "Pair: (21, 21), Distance: 0.0\n",
      "Pair: (23, 23), Distance: 0.0\n",
      "Pair: (98, 98), Distance: 0.0\n",
      "Pair: (48, 48), Distance: 0.0\n",
      "Pair: (50, 50), Distance: 0.0\n",
      "Pair: (76, 76), Distance: 0.0\n",
      "Pair: (77, 77), Distance: 0.0\n",
      "Pair: (78, 78), Distance: 0.0\n",
      "Pair: (79, 79), Distance: 0.0\n",
      "Pair: (80, 80), Distance: 0.0\n",
      "Pair: (81, 81), Distance: 0.0\n",
      "Pair: (82, 82), Distance: 0.0\n",
      "Pair: (83, 83), Distance: 0.0\n",
      "Pair: (84, 84), Distance: 0.0\n",
      "Pair: (85, 85), Distance: 0.0\n",
      "Pair: (86, 86), Distance: 0.0\n",
      "Pair: (87, 87), Distance: 0.0\n",
      "Pair: (88, 88), Distance: 0.0\n",
      "Pair: (89, 89), Distance: 0.0\n",
      "Pair: (90, 90), Distance: 0.0\n",
      "Pair: (91, 91), Distance: 0.0\n",
      "Pair: (92, 92), Distance: 0.0\n",
      "Pair: (93, 93), Distance: 0.0\n",
      "Pair: (94, 94), Distance: 0.0\n",
      "Pair: (95, 95), Distance: 0.0\n",
      "Pair: (96, 96), Distance: 0.0\n",
      "Pair: (75, 75), Distance: 0.0\n",
      "Pair: (49, 49), Distance: 0.0\n",
      "Pair: (74, 74), Distance: 0.0\n",
      "Pair: (72, 72), Distance: 0.0\n",
      "Pair: (51, 51), Distance: 0.0\n",
      "Pair: (52, 52), Distance: 0.0\n",
      "Pair: (53, 53), Distance: 0.0\n",
      "Pair: (54, 54), Distance: 0.0\n",
      "Pair: (55, 55), Distance: 0.0\n",
      "Pair: (56, 56), Distance: 0.0\n",
      "Pair: (57, 57), Distance: 0.0\n",
      "Pair: (58, 58), Distance: 0.0\n",
      "Pair: (59, 59), Distance: 0.0\n",
      "Pair: (60, 60), Distance: 0.0\n",
      "Pair: (61, 61), Distance: 0.0\n",
      "Pair: (62, 62), Distance: 0.0\n",
      "Pair: (63, 63), Distance: 0.0\n",
      "Pair: (64, 64), Distance: 0.0\n",
      "Pair: (65, 65), Distance: 0.0\n",
      "Pair: (66, 66), Distance: 0.0\n",
      "Pair: (67, 67), Distance: 0.0\n",
      "Pair: (68, 68), Distance: 0.0\n",
      "Pair: (69, 69), Distance: 0.0\n",
      "Pair: (70, 70), Distance: 0.0\n",
      "Pair: (71, 71), Distance: 0.0\n",
      "Pair: (73, 73), Distance: 0.0\n",
      "Pair: (99, 99), Distance: 0.0\n"
     ]
    }
   ],
   "source": [
    "# Get the flattened indices sorted by their corresponding values in ascending order\n",
    "sorted_indices = np.argsort(-dist_matrix.flatten())\n",
    "\n",
    "# Convert the sorted flattened indices back to row and column format\n",
    "sorted_pairs = np.array(np.unravel_index(sorted_indices, dist_matrix.shape)).T\n",
    "\n",
    "# Print the pairs from most to least similar (smallest to largest distance)\n",
    "for pair in sorted_pairs[9800:10000]:\n",
    "    row_idx, col_idx = pair\n",
    "    print(f\"Pair: ({row_idx}, {col_idx}), Distance: {dist_matrix[row_idx, col_idx]}\")"
   ]
  },
  {
   "cell_type": "code",
   "execution_count": 12,
   "metadata": {},
   "outputs": [
    {
     "data": {
      "image/png": "[encoded data removed]",
      "text/plain": [
       "<Figure size 640x480 with 2 Axes>"
      ]
     },
     "metadata": {},
     "output_type": "display_data"
    }
   ],
   "source": [
    "import seaborn as sns\n",
    "import matplotlib.pyplot as plt\n",
    "\n",
    "# Create heatmap from dist_matrix\n",
    "sns.heatmap(K, cmap='magma')\n",
    "plt.show()"
   ]
  },
  {
   "cell_type": "code",
   "execution_count": null,
   "metadata": {},
   "outputs": [],
   "source": []
  },
  {
   "cell_type": "code",
   "execution_count": 76,
   "metadata": {},
   "outputs": [],
   "source": [
    "from sklearn.cluster import KMeans\n",
    "# Determine the optimal number of clusters\n",
    "distortions = []\n",
    "K = range(1, 100)\n",
    "for k in K:\n",
    "    kmeanModel = KMeans(n_clusters=k, n_init='auto').fit(dist_matrix)\n",
    "    distortions.append(kmeanModel.inertia_)"
   ]
  },
  {
   "cell_type": "code",
   "execution_count": 77,
   "metadata": {},
   "outputs": [
    {
     "data": {
      "image/png": "[encoded data removed]",
      "text/plain": [
       "<Figure size 640x480 with 1 Axes>"
      ]
     },
     "metadata": {},
     "output_type": "display_data"
    }
   ],
   "source": [
    "import matplotlib.pyplot as plt\n",
    "# Plot the elbow curve to determine the optimal number of clusters\n",
    "plt.plot(K, distortions, 'bx-')\n",
    "plt.xlabel('k')\n",
    "plt.ylabel('Distortion')\n",
    "plt.title('GED Elbow Curve')\n",
    "plt.show()"
   ]
  },
  {
   "cell_type": "code",
   "execution_count": 28,
   "metadata": {},
   "outputs": [
    {
     "name": "stdout",
     "output_type": "stream",
     "text": [
      "[6 4 6 9 6 2 1 4 6 3 4 4 4 3 6 6 8 0 6 1 6 6 6 5 7 6 6 6 6 4 5 8 6 3 6 6 6\n",
      " 6 3 4 6 4 6 6 6 8 3 6 0 6 6 6 6 7 6 4 6 6 8 4 6 6 9 6 6 6 6 6 1 6 6 3 6 6\n",
      " 6 4 6 1 0 0 6 3 3 8 6 6 6 6 6 6 4 3 6 6 6 6 6 3 6 6]\n"
     ]
    }
   ],
   "source": [
    "from sklearn.cluster import KMeans\n",
    "from sklearn.preprocessing import StandardScaler\n",
    "# Use the optimal number of clusters to perform K-means clustering\n",
    "n_clusters = 10 # Example of using 3 clusters\n",
    "scaler = StandardScaler()\n",
    "dist_matrix_scaled = scaler.fit_transform(dist_matrix)\n",
    "kmeans = KMeans(n_clusters=n_clusters, init='k-means++', random_state=0, n_init=10)\n",
    "labels = kmeans.fit_predict(dist_matrix_scaled)\n",
    "\n",
    "# Print the labels assigned to each data point\n",
    "print(labels)"
   ]
  },
  {
   "cell_type": "code",
   "execution_count": 34,
   "metadata": {},
   "outputs": [
    {
     "data": {
      "text/plain": [
       "10"
      ]
     },
     "execution_count": 34,
     "metadata": {},
     "output_type": "execute_result"
    }
   ],
   "source": [
    "# Get unique values and count them\n",
    "unique_values = set(labels)\n",
    "len(unique_values)"
   ]
  },
  {
   "cell_type": "code",
   "execution_count": 33,
   "metadata": {},
   "outputs": [
    {
     "data": {
      "image/png": "[encoded data removed]",
      "text/plain": [
       "<Figure size 640x480 with 1 Axes>"
      ]
     },
     "metadata": {},
     "output_type": "display_data"
    }
   ],
   "source": [
    "import seaborn as sns\n",
    "import matplotlib.pyplot as plt\n",
    "\n",
    "sns.set_style('whitegrid')\n",
    "ax = sns.countplot(x=labels)\n",
    "ax.set_xlabel('Cluster Label')\n",
    "ax.set_ylabel('Count')\n",
    "ax.set_xticks(range(0, n_clusters, 10))\n",
    "ax.set_xticklabels(range(0, n_clusters, 10))\n",
    "\n",
    "plt.show()"
   ]
  },
  {
   "cell_type": "code",
   "execution_count": 31,
   "metadata": {},
   "outputs": [],
   "source": [
    "ndf['guess'] = labels"
   ]
  },
  {
   "cell_type": "code",
   "execution_count": 35,
   "metadata": {},
   "outputs": [
    {
     "name": "stdout",
     "output_type": "stream",
     "text": [
      "6    58\n",
      "4    12\n",
      "3    10\n",
      "8     5\n",
      "1     4\n",
      "0     4\n",
      "9     2\n",
      "5     2\n",
      "7     2\n",
      "2     1\n",
      "Name: guess, dtype: int64\n"
     ]
    }
   ],
   "source": [
    "# Get the count of each label\n",
    "label_counts = ndf['guess'].value_counts()\n",
    "\n",
    "# Print the label counts\n",
    "print(label_counts)"
   ]
  },
  {
   "cell_type": "code",
   "execution_count": 36,
   "metadata": {},
   "outputs": [
    {
     "data": {
      "text/plain": [
       "Int64Index([ 0,  2,  4,  8, 14, 15, 18, 20, 21, 22, 25, 26, 27, 28, 32, 34, 35,\n",
       "            36, 37, 40, 42, 43, 44, 47, 49, 50, 51, 52, 54, 56, 57, 60, 61, 63,\n",
       "            64, 65, 66, 67, 69, 70, 72, 73, 74, 76, 80, 84, 85, 86, 87, 88, 89,\n",
       "            92, 93, 94, 95, 96, 98, 99],\n",
       "           dtype='int64')"
      ]
     },
     "execution_count": 36,
     "metadata": {},
     "output_type": "execute_result"
    }
   ],
   "source": [
    "ndf[ndf['guess'] == 6].index"
   ]
  },
  {
   "cell_type": "code",
   "execution_count": null,
   "metadata": {},
   "outputs": [],
   "source": []
  },
  {
   "cell_type": "code",
   "execution_count": 13,
   "metadata": {},
   "outputs": [
    {
     "name": "stdout",
     "output_type": "stream",
     "text": [
      "0.00048619650067497884\n",
      "0.004423197632456154\n",
      "0.007306819971018715\n",
      "0.007403725637183916\n",
      "0.007433250593032591\n",
      "0.008690019625418786\n",
      "0.008695109819203175\n",
      "0.008697962296896747\n",
      "0.008750258749631468\n",
      "0.008788767464073357\n"
     ]
    }
   ],
   "source": [
    "from sklearn.cluster import KMeans\n",
    "from sklearn.preprocessing import StandardScaler\n",
    "from sklearn.metrics import silhouette_score\n",
    "\n",
    "# Scale the data\n",
    "scaler = StandardScaler()\n",
    "dist_matrix_scaled = scaler.fit_transform(dist_matrix)\n",
    "\n",
    "# Determine the optimal number of clusters using silhouette analysis\n",
    "best_n_clusters = 2\n",
    "best_silhouette_score = -1\n",
    "\n",
    "for n_clusters in range(2, 100):  # Assuming you want to test from 2 to 10 clusters\n",
    "    kmeans = KMeans(n_clusters=n_clusters, init='k-means++', random_state=0, n_init=10)\n",
    "    labels = kmeans.fit_predict(dist_matrix_scaled)\n",
    "    silhouette_avg = silhouette_score(dist_matrix_scaled, labels)\n",
    "    \n",
    "    if silhouette_avg > best_silhouette_score:\n",
    "        best_silhouette_score = silhouette_avg\n",
    "        best_n_clusters = n_clusters\n",
    "        print(silhouette_avg)\n",
    "\n",
    "# Perform K-means clustering with the optimal number of clusters\n",
    "kmeans = KMeans(n_clusters=best_n_clusters, init='k-means++', random_state=0, n_init=10)\n",
    "labels = kmeans.fit_predict(dist_matrix_scaled)"
   ]
  },
  {
   "cell_type": "code",
   "execution_count": 25,
   "metadata": {},
   "outputs": [
    {
     "data": {
      "text/plain": [
       "25"
      ]
     },
     "execution_count": 25,
     "metadata": {},
     "output_type": "execute_result"
    }
   ],
   "source": [
    "# Get unique values and count them\n",
    "unique_values = set(labels)\n",
    "len(unique_values)"
   ]
  },
  {
   "cell_type": "code",
   "execution_count": 26,
   "metadata": {},
   "outputs": [
    {
     "data": {
      "image/png": "[encoded data removed]",
      "text/plain": [
       "<Figure size 640x480 with 1 Axes>"
      ]
     },
     "metadata": {},
     "output_type": "display_data"
    }
   ],
   "source": [
    "import seaborn as sns\n",
    "import matplotlib.pyplot as plt\n",
    "\n",
    "sns.set_style('whitegrid')\n",
    "ax = sns.countplot(x=labels)\n",
    "ax.set_xlabel('Cluster Label')\n",
    "ax.set_ylabel('Count')\n",
    "ax.set_xticks(range(0, n_clusters, 10))\n",
    "ax.set_xticklabels(range(0, n_clusters, 10))\n",
    "\n",
    "plt.show()"
   ]
  },
  {
   "cell_type": "code",
   "execution_count": 22,
   "metadata": {},
   "outputs": [],
   "source": [
    "ndf['sil'] = labels"
   ]
  },
  {
   "cell_type": "code",
   "execution_count": 23,
   "metadata": {},
   "outputs": [
    {
     "name": "stdout",
     "output_type": "stream",
     "text": [
      "0     36\n",
      "1     10\n",
      "3      8\n",
      "13     5\n",
      "5      5\n",
      "12     4\n",
      "20     4\n",
      "6      3\n",
      "7      2\n",
      "4      2\n",
      "10     2\n",
      "17     2\n",
      "2      2\n",
      "23     2\n",
      "8      2\n",
      "11     2\n",
      "22     1\n",
      "15     1\n",
      "9      1\n",
      "16     1\n",
      "14     1\n",
      "24     1\n",
      "21     1\n",
      "18     1\n",
      "19     1\n",
      "Name: sil, dtype: int64\n"
     ]
    }
   ],
   "source": [
    "# Get the count of each label\n",
    "label_counts = ndf['sil'].value_counts()\n",
    "\n",
    "# Print the label counts\n",
    "print(label_counts)"
   ]
  },
  {
   "cell_type": "code",
   "execution_count": 37,
   "metadata": {},
   "outputs": [
    {
     "data": {
      "text/plain": [
       "Int64Index([ 2,  4, 14, 18, 20, 21, 25, 28, 37, 40, 42, 43, 44, 47, 49, 50, 51,\n",
       "            52, 56, 57, 60, 63, 65, 66, 67, 70, 74, 76, 85, 86, 87, 89, 92, 94,\n",
       "            95, 98],\n",
       "           dtype='int64')"
      ]
     },
     "execution_count": 37,
     "metadata": {},
     "output_type": "execute_result"
    }
   ],
   "source": [
    "ndf[ndf['sil'] == 0].index"
   ]
  },
  {
   "cell_type": "code",
   "execution_count": 42,
   "metadata": {},
   "outputs": [],
   "source": [
    "ndf.to_pickle('gk_results.pickle')"
   ]
  },
  {
   "cell_type": "code",
   "execution_count": 43,
   "metadata": {},
   "outputs": [],
   "source": [
    "df = pd.read_pickle('gk_results.pickle')"
   ]
  },
  {
   "cell_type": "code",
   "execution_count": 44,
   "metadata": {},
   "outputs": [
    {
     "data": {
      "text/html": [
       "<div>\n",
       "<style scoped>\n",
       "    .dataframe tbody tr th:only-of-type {\n",
       "        vertical-align: middle;\n",
       "    }\n",
       "\n",
       "    .dataframe tbody tr th {\n",
       "        vertical-align: top;\n",
       "    }\n",
       "\n",
       "    .dataframe thead th {\n",
       "        text-align: right;\n",
       "    }\n",
       "</style>\n",
       "<table border=\"1\" class=\"dataframe\">\n",
       "  <thead>\n",
       "    <tr style=\"text-align: right;\">\n",
       "      <th></th>\n",
       "      <th>path</th>\n",
       "      <th>inter</th>\n",
       "      <th>dot_graph</th>\n",
       "      <th>graph_nx</th>\n",
       "      <th>graph_grakel</th>\n",
       "      <th>sil</th>\n",
       "      <th>guess</th>\n",
       "    </tr>\n",
       "  </thead>\n",
       "  <tbody>\n",
       "    <tr>\n",
       "      <th>0</th>\n",
       "      <td>/data/minh/CompilierFuzzing/similarity/YAML/ch...</td>\n",
       "      <td>digraph graphname {\\n1644 [label=\"category_nam...</td>\n",
       "      <td>digraph graphname {\\n1644 [label=\"category_nam...</td>\n",
       "      <td>(1644, 1643, 1642, \\n)</td>\n",
       "      <td>&lt;grakel.graph.Graph object at 0x7fe32f19a740&gt;</td>\n",
       "      <td>9</td>\n",
       "      <td>6</td>\n",
       "    </tr>\n",
       "    <tr>\n",
       "      <th>1</th>\n",
       "      <td>/data/minh/CompilierFuzzing/similarity/YAML/ch...</td>\n",
       "      <td>digraph graphname {\\n1647 [label=\"var: db.secr...</td>\n",
       "      <td>digraph graphname {\\n1647 [label=\"var: db.secr...</td>\n",
       "      <td>(1647, 1646, 1649, 1648, 1645, \\n)</td>\n",
       "      <td>&lt;grakel.graph.Graph object at 0x7fe32f19a7d0&gt;</td>\n",
       "      <td>3</td>\n",
       "      <td>4</td>\n",
       "    </tr>\n",
       "    <tr>\n",
       "      <th>2</th>\n",
       "      <td>/data/minh/CompilierFuzzing/similarity/YAML/ch...</td>\n",
       "      <td>digraph graphname {\\n1651 [label=\"enabled: Tru...</td>\n",
       "      <td>digraph graphname {\\n1651 [label=\"enabled: Tru...</td>\n",
       "      <td>(1651, 1650, \\n)</td>\n",
       "      <td>&lt;grakel.graph.Graph object at 0x7fe32f19a8c0&gt;</td>\n",
       "      <td>0</td>\n",
       "      <td>6</td>\n",
       "    </tr>\n",
       "    <tr>\n",
       "      <th>3</th>\n",
       "      <td>/data/minh/CompilierFuzzing/similarity/YAML/ch...</td>\n",
       "      <td>digraph graphname {\\n1654 [label=\"msg: This is...</td>\n",
       "      <td>digraph graphname {\\n1654 [label=\"msg: This is...</td>\n",
       "      <td>(1654, 1653, 1656, 1655, 1658, 1657, 1652, \\n)</td>\n",
       "      <td>&lt;grakel.graph.Graph object at 0x7fe32f19a920&gt;</td>\n",
       "      <td>8</td>\n",
       "      <td>9</td>\n",
       "    </tr>\n",
       "    <tr>\n",
       "      <th>4</th>\n",
       "      <td>/data/minh/CompilierFuzzing/similarity/YAML/ch...</td>\n",
       "      <td>digraph graphname {\\n1660 [label=\"repo: deb ht...</td>\n",
       "      <td>digraph graphname {\\n1660 [label=\"repo: deb ht...</td>\n",
       "      <td>(1660, 1659, \\n)</td>\n",
       "      <td>&lt;grakel.graph.Graph object at 0x7fe32f19aad0&gt;</td>\n",
       "      <td>0</td>\n",
       "      <td>6</td>\n",
       "    </tr>\n",
       "    <tr>\n",
       "      <th>...</th>\n",
       "      <td>...</td>\n",
       "      <td>...</td>\n",
       "      <td>...</td>\n",
       "      <td>...</td>\n",
       "      <td>...</td>\n",
       "      <td>...</td>\n",
       "      <td>...</td>\n",
       "    </tr>\n",
       "    <tr>\n",
       "      <th>95</th>\n",
       "      <td>/data/minh/CompilierFuzzing/similarity/YAML/ch...</td>\n",
       "      <td>digraph graphname {\\n1961 [label=\"name: Displa...</td>\n",
       "      <td>digraph graphname {\\n1961 [label=\"name: Displa...</td>\n",
       "      <td>(1961, 1960, \\n)</td>\n",
       "      <td>&lt;grakel.graph.Graph object at 0x7fe32f1872b0&gt;</td>\n",
       "      <td>0</td>\n",
       "      <td>6</td>\n",
       "    </tr>\n",
       "    <tr>\n",
       "      <th>96</th>\n",
       "      <td>/data/minh/CompilierFuzzing/similarity/YAML/ch...</td>\n",
       "      <td>digraph graphname {\\n1964 [label=\"var: {{ rand...</td>\n",
       "      <td>digraph graphname {\\n1964 [label=\"var: {{ rand...</td>\n",
       "      <td>(1964, 1963, 1965, 1962, \\n)</td>\n",
       "      <td>&lt;grakel.graph.Graph object at 0x7fe32efe92a0&gt;</td>\n",
       "      <td>19</td>\n",
       "      <td>6</td>\n",
       "    </tr>\n",
       "    <tr>\n",
       "      <th>97</th>\n",
       "      <td>/data/minh/CompilierFuzzing/similarity/YAML/ch...</td>\n",
       "      <td>digraph graphname {\\n1968 [label=\"image: nginx...</td>\n",
       "      <td>digraph graphname {\\n1968 [label=\"image: nginx...</td>\n",
       "      <td>(1968, 1967, 1966, \\n)</td>\n",
       "      <td>&lt;grakel.graph.Graph object at 0x7fe32f1871f0&gt;</td>\n",
       "      <td>1</td>\n",
       "      <td>3</td>\n",
       "    </tr>\n",
       "    <tr>\n",
       "      <th>98</th>\n",
       "      <td>/data/minh/CompilierFuzzing/similarity/YAML/ch...</td>\n",
       "      <td>digraph graphname {\\n1970 [label=\"command: ans...</td>\n",
       "      <td>digraph graphname {\\n1970 [label=\"command: ans...</td>\n",
       "      <td>(1970, 1969, \\n)</td>\n",
       "      <td>&lt;grakel.graph.Graph object at 0x7fe32f187160&gt;</td>\n",
       "      <td>0</td>\n",
       "      <td>6</td>\n",
       "    </tr>\n",
       "    <tr>\n",
       "      <th>99</th>\n",
       "      <td>/data/minh/CompilierFuzzing/similarity/YAML/ch...</td>\n",
       "      <td>digraph graphname {\\n1973 [label=\"msg: Hello, ...</td>\n",
       "      <td>digraph graphname {\\n1973 [label=\"msg: Hello, ...</td>\n",
       "      <td>(1973, 1972, 1971, \\n)</td>\n",
       "      <td>&lt;grakel.graph.Graph object at 0x7fe32f187100&gt;</td>\n",
       "      <td>23</td>\n",
       "      <td>6</td>\n",
       "    </tr>\n",
       "  </tbody>\n",
       "</table>\n",
       "<p>100 rows × 7 columns</p>\n",
       "</div>"
      ],
      "text/plain": [
       "                                                 path  \\\n",
       "0   /data/minh/CompilierFuzzing/similarity/YAML/ch...   \n",
       "1   /data/minh/CompilierFuzzing/similarity/YAML/ch...   \n",
       "2   /data/minh/CompilierFuzzing/similarity/YAML/ch...   \n",
       "3   /data/minh/CompilierFuzzing/similarity/YAML/ch...   \n",
       "4   /data/minh/CompilierFuzzing/similarity/YAML/ch...   \n",
       "..                                                ...   \n",
       "95  /data/minh/CompilierFuzzing/similarity/YAML/ch...   \n",
       "96  /data/minh/CompilierFuzzing/similarity/YAML/ch...   \n",
       "97  /data/minh/CompilierFuzzing/similarity/YAML/ch...   \n",
       "98  /data/minh/CompilierFuzzing/similarity/YAML/ch...   \n",
       "99  /data/minh/CompilierFuzzing/similarity/YAML/ch...   \n",
       "\n",
       "                                                inter  \\\n",
       "0   digraph graphname {\\n1644 [label=\"category_nam...   \n",
       "1   digraph graphname {\\n1647 [label=\"var: db.secr...   \n",
       "2   digraph graphname {\\n1651 [label=\"enabled: Tru...   \n",
       "3   digraph graphname {\\n1654 [label=\"msg: This is...   \n",
       "4   digraph graphname {\\n1660 [label=\"repo: deb ht...   \n",
       "..                                                ...   \n",
       "95  digraph graphname {\\n1961 [label=\"name: Displa...   \n",
       "96  digraph graphname {\\n1964 [label=\"var: {{ rand...   \n",
       "97  digraph graphname {\\n1968 [label=\"image: nginx...   \n",
       "98  digraph graphname {\\n1970 [label=\"command: ans...   \n",
       "99  digraph graphname {\\n1973 [label=\"msg: Hello, ...   \n",
       "\n",
       "                                            dot_graph  \\\n",
       "0   digraph graphname {\\n1644 [label=\"category_nam...   \n",
       "1   digraph graphname {\\n1647 [label=\"var: db.secr...   \n",
       "2   digraph graphname {\\n1651 [label=\"enabled: Tru...   \n",
       "3   digraph graphname {\\n1654 [label=\"msg: This is...   \n",
       "4   digraph graphname {\\n1660 [label=\"repo: deb ht...   \n",
       "..                                                ...   \n",
       "95  digraph graphname {\\n1961 [label=\"name: Displa...   \n",
       "96  digraph graphname {\\n1964 [label=\"var: {{ rand...   \n",
       "97  digraph graphname {\\n1968 [label=\"image: nginx...   \n",
       "98  digraph graphname {\\n1970 [label=\"command: ans...   \n",
       "99  digraph graphname {\\n1973 [label=\"msg: Hello, ...   \n",
       "\n",
       "                                          graph_nx  \\\n",
       "0                           (1644, 1643, 1642, \\n)   \n",
       "1               (1647, 1646, 1649, 1648, 1645, \\n)   \n",
       "2                                 (1651, 1650, \\n)   \n",
       "3   (1654, 1653, 1656, 1655, 1658, 1657, 1652, \\n)   \n",
       "4                                 (1660, 1659, \\n)   \n",
       "..                                             ...   \n",
       "95                                (1961, 1960, \\n)   \n",
       "96                    (1964, 1963, 1965, 1962, \\n)   \n",
       "97                          (1968, 1967, 1966, \\n)   \n",
       "98                                (1970, 1969, \\n)   \n",
       "99                          (1973, 1972, 1971, \\n)   \n",
       "\n",
       "                                     graph_grakel  sil  guess  \n",
       "0   <grakel.graph.Graph object at 0x7fe32f19a740>    9      6  \n",
       "1   <grakel.graph.Graph object at 0x7fe32f19a7d0>    3      4  \n",
       "2   <grakel.graph.Graph object at 0x7fe32f19a8c0>    0      6  \n",
       "3   <grakel.graph.Graph object at 0x7fe32f19a920>    8      9  \n",
       "4   <grakel.graph.Graph object at 0x7fe32f19aad0>    0      6  \n",
       "..                                            ...  ...    ...  \n",
       "95  <grakel.graph.Graph object at 0x7fe32f1872b0>    0      6  \n",
       "96  <grakel.graph.Graph object at 0x7fe32efe92a0>   19      6  \n",
       "97  <grakel.graph.Graph object at 0x7fe32f1871f0>    1      3  \n",
       "98  <grakel.graph.Graph object at 0x7fe32f187160>    0      6  \n",
       "99  <grakel.graph.Graph object at 0x7fe32f187100>   23      6  \n",
       "\n",
       "[100 rows x 7 columns]"
      ]
     },
     "execution_count": 44,
     "metadata": {},
     "output_type": "execute_result"
    }
   ],
   "source": [
    "df"
   ]
  },
  {
   "cell_type": "code",
   "execution_count": 47,
   "metadata": {},
   "outputs": [
    {
     "data": {
      "image/png": "[encoded data removed]",
      "text/plain": [
       "<Figure size 640x480 with 1 Axes>"
      ]
     },
     "metadata": {},
     "output_type": "display_data"
    }
   ],
   "source": [
    "# Assume you have a distance matrix called 'dist_matrix'\n",
    "\n",
    "# Use t-SNE for dimensionality reduction\n",
    "tsne = TSNE(n_components=2, random_state=42)\n",
    "reduced_data = tsne.fit_transform(dist_matrix)\n",
    "\n",
    "# Separate the 2D coordinates\n",
    "x_coords = reduced_data[:, 0]\n",
    "y_coords = reduced_data[:, 1]\n",
    "\n",
    "# Create a scatter plot\n",
    "plt.scatter(x_coords, y_coords)\n",
    "\n",
    "# Label each point with its index (optional)\n",
    "for i, txt in enumerate(range(len(x_coords))):\n",
    "    plt.annotate(txt, (x_coords[i], y_coords[i]))\n",
    "\n",
    "# Display the plot\n",
    "plt.xlabel('t-SNE 1')\n",
    "plt.ylabel('t-SNE 2')\n",
    "plt.title('YAML Graphs - t-SNE Visualization')\n",
    "plt.show()"
   ]
  },
  {
   "cell_type": "code",
   "execution_count": 51,
   "metadata": {},
   "outputs": [
    {
     "ename": "AttributeError",
     "evalue": "module 'umap' has no attribute 'UMAP'",
     "output_type": "error",
     "traceback": [
      "\u001b[0;31m---------------------------------------------------------------------------\u001b[0m",
      "\u001b[0;31mAttributeError\u001b[0m                            Traceback (most recent call last)",
      "Cell \u001b[0;32mIn[51], line 8\u001b[0m\n\u001b[1;32m      3\u001b[0m \u001b[39mimport\u001b[39;00m \u001b[39mumap\u001b[39;00m\n\u001b[1;32m      5\u001b[0m \u001b[39m# Assume you have a distance matrix called 'dist_matrix'\u001b[39;00m\n\u001b[1;32m      6\u001b[0m \n\u001b[1;32m      7\u001b[0m \u001b[39m# Use UMAP for dimensionality reduction\u001b[39;00m\n\u001b[0;32m----> 8\u001b[0m reducer \u001b[39m=\u001b[39m umap\u001b[39m.\u001b[39;49mUMAP(n_components\u001b[39m=\u001b[39m\u001b[39m2\u001b[39m, metric\u001b[39m=\u001b[39m\u001b[39m'\u001b[39m\u001b[39mprecomputed\u001b[39m\u001b[39m'\u001b[39m, random_state\u001b[39m=\u001b[39m\u001b[39m42\u001b[39m)\n\u001b[1;32m      9\u001b[0m reduced_data \u001b[39m=\u001b[39m reducer\u001b[39m.\u001b[39mfit_transform(dist_matrix)\n\u001b[1;32m     11\u001b[0m \u001b[39m# Separate the 2D coordinates\u001b[39;00m\n",
      "\u001b[0;31mAttributeError\u001b[0m: module 'umap' has no attribute 'UMAP'"
     ]
    }
   ],
   "source": [
    "import numpy as np\n",
    "import matplotlib.pyplot as plt\n",
    "import umap\n",
    "\n",
    "# Assume you have a distance matrix called 'dist_matrix'\n",
    "\n",
    "# Use UMAP for dimensionality reduction\n",
    "reducer = umap.UMAP(n_components=2, metric='precomputed', random_state=42)\n",
    "reduced_data = reducer.fit_transform(dist_matrix)\n",
    "\n",
    "# Separate the 2D coordinates\n",
    "x_coords = reduced_data[:, 0]\n",
    "y_coords = reduced_data[:, 1]\n",
    "\n",
    "# Create a scatter plot\n",
    "plt.scatter(x_coords, y_coords)\n",
    "\n",
    "# Label each point with its index (optional)\n",
    "for i, txt in enumerate(range(len(x_coords))):\n",
    "    plt.annotate(txt, (x_coords[i], y_coords[i]))\n",
    "\n",
    "# Display the plot\n",
    "plt.xlabel('UMAP 1')\n",
    "plt.ylabel('UMAP 2')\n",
    "plt.title('YAML Graphs - UMAP Visualization')\n",
    "plt.show()"
   ]
  }
 ],
 "metadata": {
  "kernelspec": {
   "display_name": "fuzz",
   "language": "python",
   "name": "python3"
  },
  "language_info": {
   "codemirror_mode": {
    "name": "ipython",
    "version": 3
   },
   "file_extension": ".py",
   "mimetype": "text/x-python",
   "name": "python",
   "nbconvert_exporter": "python",
   "pygments_lexer": "ipython3",
   "version": "3.10.9"
  },
  "orig_nbformat": 4,
  "vscode": {
   "interpreter": {
    "hash": "724a360e4b1668c4bd0799b375a72d1784ce9ecca15a60916be0b4894d1ed324"
   }
  }
 },
 "nbformat": 4,
 "nbformat_minor": 2
}
