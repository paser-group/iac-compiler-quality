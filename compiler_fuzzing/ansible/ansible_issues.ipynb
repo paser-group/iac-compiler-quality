{
 "cells": [
  {
   "cell_type": "code",
   "execution_count": 2,
   "metadata": {},
   "outputs": [],
   "source": [
    "import pandas as pd\n",
    "import requests\n",
    "from tqdm import tqdm\n",
    "import csv"
   ]
  },
  {
   "cell_type": "code",
   "execution_count": 13,
   "metadata": {},
   "outputs": [],
   "source": [
    "def download_issues(repo_owner, repo_name, label, token=None):\n",
    "    issues = []\n",
    "    page = 1\n",
    "    headers = {}\n",
    "    if token:\n",
    "        headers = {\n",
    "            \"Authorization\": f\"Token {token}\"\n",
    "        }\n",
    "    with tqdm(total=None, desc=\"Fetching Issues\") as pbar:\n",
    "        while True:\n",
    "            url = f\"https://api.github.com/repos/{repo_owner}/{repo_name}/issues?state=closed&labels={label}&exclude=pulls&page={page}&per_page=100\"\n",
    "            response = requests.get(url, headers=headers)\n",
    "            if response.status_code == 200:\n",
    "                data = response.json()\n",
    "                if not data:\n",
    "                    break\n",
    "                #IssueID: id,  IssueTitle: title, IssueBody: body, CreationTimestamp: created_at, Comment Count: comments\n",
    "                issues.extend([{\"IssueNumber\": issue[\"number\"], \"IssueTitle\": issue[\"title\"], \"IssueBody\": issue[\"body\"], \"CreationTimestamp\": issue[\"created_at\"] , \"CommentCount\": issue[\"comments\"]} for issue in data if \"pull_request\" not in issue])\n",
    "                pbar.update(len(data))\n",
    "                page += 1\n",
    "            else:\n",
    "                break\n",
    "        return issues"
   ]
  },
  {
   "cell_type": "code",
   "execution_count": 14,
   "metadata": {},
   "outputs": [
    {
     "name": "stderr",
     "output_type": "stream",
     "text": [
      "Fetching Issues: 39186it [19:25, 33.62it/s]"
     ]
    },
    {
     "name": "stdout",
     "output_type": "stream",
     "text": [
      "Number of issues: 18846\n"
     ]
    },
    {
     "name": "stderr",
     "output_type": "stream",
     "text": [
      "\n"
     ]
    }
   ],
   "source": [
    "repo_owner = \"ansible\"\n",
    "repo_name = \"ansible\"\n",
    "token = 'add_token_here'\n",
    "issues = download_issues(repo_owner, repo_name,  label='bug', token=token)\n",
    "print(\"Number of issues:\", len(issues))"
   ]
  },
  {
   "cell_type": "code",
   "execution_count": null,
   "metadata": {},
   "outputs": [],
   "source": [
    "#IssueID: id,  IssueTitle: title, IssueBody: body, CreationTimestamp: created_at, Comment Count:comments"
   ]
  },
  {
   "cell_type": "code",
   "execution_count": null,
   "metadata": {},
   "outputs": [],
   "source": [
    "df = pd.DataFrame(issues)\n",
    "df.to_csv('../data/github/github_issues.csv', encoding=\"utf-8\")"
   ]
  },
  {
   "cell_type": "code",
   "execution_count": 16,
   "metadata": {},
   "outputs": [],
   "source": [
    "df = pd.DataFrame(issues)\n",
    "df.to_feather('../data/github/github_issues.feather')"
   ]
  },
  {
   "cell_type": "code",
   "execution_count": 3,
   "metadata": {},
   "outputs": [],
   "source": [
    "ndf = pd.read_feather('../data/github/github_issues.feather')"
   ]
  },
  {
   "cell_type": "code",
   "execution_count": 6,
   "metadata": {},
   "outputs": [
    {
     "data": {
      "text/plain": [
       "\"### Summary\\r\\n\\r\\nWe used `ansible.builtin.meta: refresh_inventory` extensivly to remove hosts added by host_add.  I see in the changelog that was intentional.  What's the best way to remove hosts from within a playbook now?\\r\\n\\r\\n### Issue Type\\r\\n\\r\\nBug Report\\r\\n\\r\\n### Component Name\\r\\n\\r\\nansible.builtin.meta\\r\\n\\r\\n### Ansible Version\\r\\n\\r\\n```console\\r\\n$ ansible --version\\r\\nansible [core 2.14.2]\\r\\n  config file = None\\r\\n  configured module search path = ['/home/chylarides/.ansible/plugins/modules', '/usr/share/ansible/plugins/modules']\\r\\n  ansible python module location = /usr/local/lib/python3.10/dist-packages/ansible\\r\\n  ansible collection location = /home/chylarides/.ansible/collections:/usr/share/ansible/collections\\r\\n  executable location = /usr/local/bin/ansible\\r\\n  python version = 3.10.6 (main, Nov 14 2022, 16:10:14) [GCC 11.3.0] (/usr/bin/python3)\\r\\n  jinja version = 3.0.3\\r\\n  libyaml = True\\r\\n```\\r\\n\\r\\n\\r\\n### Configuration\\r\\n\\r\\n```console\\r\\n# if using a version older than ansible-core 2.12 you should omit the '-t all'\\r\\n$ ansible-config dump --only-changed -t all\\r\\n```\\r\\n\\r\\n\\r\\n### OS / Environment\\r\\n\\r\\nUbuntu 22.04\\r\\n\\r\\n### Steps to Reproduce\\r\\n\\r\\n<!--- Paste example playbooks or commands between quotes below -->\\r\\n```yaml (paste below)\\r\\n    - name: Refresh Inventory so upgrade_group gets reset for next include_playbook\\r\\n      ansible.builtin.meta: refresh_inventory\\r\\n```\\r\\n\\r\\nThen hosts added via host_add have historically been removed, but now they don't\\r\\n\\r\\n### Expected Results\\r\\n\\r\\nHosts/groups added by host_add get removed\\r\\n\\r\\n### Actual Results\\r\\n\\r\\n```console\\r\\nThe hosts remain and continue in subsequent plays, causing chaos.\\r\\n```\\r\\n\\r\\n\\r\\n### Code of Conduct\\r\\n\\r\\n- [X] I agree to follow the Ansible Code of Conduct\""
      ]
     },
     "execution_count": 6,
     "metadata": {},
     "output_type": "execute_result"
    }
   ],
   "source": [
    "ndf.loc[37, 'IssueBody']"
   ]
  },
  {
   "cell_type": "code",
   "execution_count": 7,
   "metadata": {},
   "outputs": [
    {
     "data": {
      "text/plain": [
       "'Ansible suddenly changes SSH user in the middle of'"
      ]
     },
     "execution_count": 7,
     "metadata": {},
     "output_type": "execute_result"
    }
   ],
   "source": [
    "ndf.loc[48, 'IssueTitle'][:50]"
   ]
  },
  {
   "cell_type": "code",
   "execution_count": 8,
   "metadata": {},
   "outputs": [],
   "source": [
    "ndf['IssueBody'] = ndf['IssueBody'].str.slice(stop=30000)"
   ]
  },
  {
   "cell_type": "code",
   "execution_count": 9,
   "metadata": {},
   "outputs": [],
   "source": [
    "ndf['IssueTitle'] = ndf['IssueTitle'].apply(lambda x: \"`\" + x if x is not None else '')\n",
    "ndf['IssueBody'] = ndf['IssueBody'].apply(lambda x: \"`\" + x if x is not None else '')"
   ]
  },
  {
   "cell_type": "code",
   "execution_count": 169,
   "metadata": {},
   "outputs": [],
   "source": [
    "ndf['IssueTitle'] = ndf['IssueTitle'].apply(lambda x: \"'\" + x + \"'\" if x.startswith('-') else x)"
   ]
  },
  {
   "cell_type": "code",
   "execution_count": 10,
   "metadata": {},
   "outputs": [],
   "source": [
    "ndf.to_csv('../data/github/github_issues.csv')"
   ]
  }
 ],
 "metadata": {
  "kernelspec": {
   "display_name": "fuzz",
   "language": "python",
   "name": "python3"
  },
  "language_info": {
   "codemirror_mode": {
    "name": "ipython",
    "version": 3
   },
   "file_extension": ".py",
   "mimetype": "text/x-python",
   "name": "python",
   "nbconvert_exporter": "python",
   "pygments_lexer": "ipython3",
   "version": "3.10.9"
  },
  "orig_nbformat": 4
 },
 "nbformat": 4,
 "nbformat_minor": 2
}
