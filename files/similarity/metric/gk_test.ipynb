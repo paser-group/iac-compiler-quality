{
 "cells": [
  {
   "cell_type": "code",
   "execution_count": 2,
   "metadata": {},
   "outputs": [
    {
     "ename": "ModuleNotFoundError",
     "evalue": "No module named 'graphkernels'",
     "output_type": "error",
     "traceback": [
      "\u001b[0;31m---------------------------------------------------------------------------\u001b[0m",
      "\u001b[0;31mModuleNotFoundError\u001b[0m                       Traceback (most recent call last)",
      "Cell \u001b[0;32mIn[2], line 4\u001b[0m\n\u001b[1;32m      2\u001b[0m \u001b[39mimport\u001b[39;00m \u001b[39mnumpy\u001b[39;00m \u001b[39mas\u001b[39;00m \u001b[39mnp\u001b[39;00m\n\u001b[1;32m      3\u001b[0m \u001b[39mimport\u001b[39;00m \u001b[39mpydot\u001b[39;00m\n\u001b[0;32m----> 4\u001b[0m \u001b[39mfrom\u001b[39;00m \u001b[39mgraphkernels\u001b[39;00m\u001b[39m.\u001b[39;00m\u001b[39mkernels\u001b[39;00m \u001b[39mimport\u001b[39;00m RWKernel\n\u001b[1;32m      5\u001b[0m \u001b[39mfrom\u001b[39;00m \u001b[39msklearn\u001b[39;00m\u001b[39m.\u001b[39;00m\u001b[39mmetrics\u001b[39;00m\u001b[39m.\u001b[39;00m\u001b[39mpairwise\u001b[39;00m \u001b[39mimport\u001b[39;00m euclidean_distances\n\u001b[1;32m      7\u001b[0m \u001b[39mdef\u001b[39;00m \u001b[39mdot_to_networkx\u001b[39m(dot_graph):\n",
      "\u001b[0;31mModuleNotFoundError\u001b[0m: No module named 'graphkernels'"
     ]
    }
   ],
   "source": [
    "import networkx as nx\n",
    "import numpy as np\n",
    "import pydot\n",
    "from graphkernels.kernels import RWKernel\n",
    "from sklearn.metrics.pairwise import euclidean_distances\n",
    "\n",
    "def dot_to_networkx(dot_graph):\n",
    "    return nx.nx_pydot.from_pydot(dot_graph)\n",
    "\n",
    "def adjacency_matrix(graph):\n",
    "    return nx.to_numpy_array(graph, dtype=np.float64)\n",
    "\n",
    "def random_walk_kernel(graph1, graph2, l=1):\n",
    "    adjacency_matrices = [adjacency_matrix(graph1), adjacency_matrix(graph2)]\n",
    "    kernel_matrix = RWKernel(adjacency_matrices, l=l)\n",
    "    return kernel_matrix\n",
    "\n",
    "def kernel_distance(kernel_matrix):\n",
    "    return euclidean_distances(kernel_matrix)\n",
    "\n",
    "# Example usage\n",
    "dot_graph1 = pydot.graph_from_dot_data('''\n",
    "digraph graphname {\n",
    "2 [label=\"category_names: ['SecurityUpdates', 'CriticalUpdates']\\ncategory_names: ['SecurityUpdates', 'CriticalUpdates']\\nreboot: True\\n\"];\n",
    "1 [label=\"name: Attempt to install Windows updates\\n\"];\n",
    "1 -> 2 [label=\"win_updates\"];\n",
    "}\n",
    "''')[0]\n",
    "\n",
    "dot_graph2 = pydot.graph_from_dot_data('''\n",
    "digraph graphname {\n",
    "2 [label=\"category_names: ['SecurityUpdates', 'CriticalUpdates']\\ncategory_names: ['SecurityUpdates', 'CriticalUpdates']\\nreboot: True\\n\"];\n",
    "1 [label=\"name: Attempt to install Windows updates\\n\"];\n",
    "1 -> 2 [label=\"win_updates\"];\n",
    "}\n",
    "''')[0]"
   ]
  },
  {
   "cell_type": "code",
   "execution_count": null,
   "metadata": {},
   "outputs": [],
   "source": [
    "graph1 = dot_to_networkx(dot_graph1)\n",
    "graph2 = dot_to_networkx(dot_graph2)\n",
    "\n",
    "kernel_matrix = random_walk_kernel(graph1, graph2, l=1)\n",
    "dist = kernel_distance(kernel_matrix)\n",
    "print(\"Kernel distance:\", dist[0, 1])"
   ]
  },
  {
   "cell_type": "code",
   "execution_count": 18,
   "metadata": {},
   "outputs": [
    {
     "name": "stdout",
     "output_type": "stream",
     "text": [
      "\n",
      "=============================================================\n",
      "Graph classification on MUTAG using the shortest path kernel.\n",
      "=============================================================\n",
      "Script makes use of :class:`grakel.ShortestPath`\n",
      "\n",
      "Accuracy: 94.74%\n"
     ]
    }
   ],
   "source": [
    "\"\"\"\n",
    "=============================================================\n",
    "Graph classification on MUTAG using the shortest path kernel.\n",
    "=============================================================\n",
    "Script makes use of :class:`grakel.ShortestPath`\n",
    "\"\"\"\n",
    "from __future__ import print_function\n",
    "print(__doc__)\n",
    "\n",
    "import numpy as np\n",
    "\n",
    "from sklearn.model_selection import train_test_split\n",
    "from sklearn.svm import SVC\n",
    "from sklearn.metrics import accuracy_score\n",
    "\n",
    "from grakel.datasets import fetch_dataset\n",
    "from grakel.kernels import ShortestPath\n",
    "\n",
    "# Loads the MUTAG dataset\n",
    "MUTAG = fetch_dataset('MUTAG', data_home='/data/minh/CompilierFuzzing/similarity/metric/', verbose=False, download_if_missing=False)\n",
    "G, y = MUTAG.data, MUTAG.target\n",
    "\n",
    "# Splits the dataset into a training and a test set\n",
    "G_train, G_test, y_train, y_test = train_test_split(G, y, test_size=0.1, random_state=42)\n",
    "\n",
    "# Uses the shortest path kernel to generate the kernel matrices\n",
    "gk = ShortestPath(normalize=True)\n",
    "K_train = gk.fit_transform(G_train)\n",
    "K_test = gk.transform(G_test)\n",
    "\n",
    "# Uses the SVM classifier to perform classification\n",
    "clf = SVC(kernel=\"precomputed\")\n",
    "clf.fit(K_train, y_train)\n",
    "y_pred = clf.predict(K_test)\n",
    "\n",
    "# Computes and prints the classification accuracy\n",
    "acc = accuracy_score(y_test, y_pred)\n",
    "print(\"Accuracy:\", str(round(acc*100, 2)) + \"%\")"
   ]
  },
  {
   "cell_type": "code",
   "execution_count": 15,
   "metadata": {},
   "outputs": [],
   "source": [
    "import networkx as nx\n",
    "import pydot\n",
    "from grakel import GraphKernel, Graph\n",
    "from grakel.kernels import WeisfeilerLehman\n",
    "\n",
    "def dot_to_networkx(dot_graph):\n",
    "    return nx.nx_pydot.from_pydot(dot_graph)\n",
    "\n",
    "def networkx_to_grakel(graph):\n",
    "    nodes = sorted(graph.nodes(data=True))\n",
    "    node_mapping = {old: new for new, old in enumerate(graph.nodes())}\n",
    "    node_labels = {node_mapping[n[0]]: n[1].get('label', str(n[0])) for n in nodes}\n",
    "    edge_labels = {(node_mapping[u], node_mapping[v]): graph[u][v].get('label', 'edge') for u, v in graph.edges()}\n",
    "    numerical_edge_labels = {k: hash(v) for k, v in edge_labels.items()}\n",
    "    edges = [(node_mapping[u], node_mapping[v], numerical_edge_labels.get((node_mapping[u], node_mapping[v]), 0)) for u, v in graph.edges()]\n",
    "    return Graph(edges, node_labels)\n",
    "\n",
    "# Example DOT graphs\n",
    "dot_graph1_str = '''\n",
    "digraph graphname {\n",
    "4 [label=\"CriticalUpdates\"];\n",
    "5 [label=\"SecurityUpdates\"];\n",
    "3 [label=\"\"];\n",
    "3 -> 4 [label=\"category_names\"];\n",
    "3 -> 5 [label=\"category_names\"];\n",
    "4 -> 5 [style=\"dashed\"];\n",
    "2 [label=\"name: Run Windows Update\\n\"];\n",
    "2 -> 3 [label=\"win_updates\"];\n",
    "1 [label=\"become: True\\nhosts: windows_servers\\nname: Example playbook\\n\"];\n",
    "1 -> 2 [label=\"tasks\"];\n",
    "}\n",
    "'''\n",
    "\n",
    "dot_graph2_str = '''\n",
    "digraph graphname {\n",
    "8 [label=\"msg: my_var is defined\\n\"];\n",
    "7 [label=\"when: my_var is defined\\n\"];\n",
    "7 -> 8 [label=\"debug\"];\n",
    "10 [label=\"nested_var: {{ undefined_var }}\\n\"];\n",
    "9 [label=\"\"];\n",
    "9 -> 10 [label=\"my_var\"];\n",
    "6 [label=\"gather_facts: False\\nhosts: localhost\\n\"];\n",
    "6 -> 7 [label=\"tasks\"];\n",
    "6 -> 9 [label=\"vars\"];\n",
    "}\n",
    "'''\n",
    "\n",
    "dot_graph3_str = '''\n",
    "digraph graphname {\n",
    "161 [label=\"msg: Important value is less than 5. Bug report may not be accurate.\\n\"];\n",
    "160 [label=\"name: Check important value\\nwhen: important_value < 5\\n\"];\n",
    "160 -> 161 [label=\"debug\"];\n",
    "163 [label=\"msg: Bug report generated.\\n\"];\n",
    "162 [label=\"name: Generate bug report\\n\"];\n",
    "162 -> 163 [label=\"debug\"];\n",
    "164 [label=\"important_value: 10\\n\"];\n",
    "159 [label=\"gather_facts: False\\nhosts: localhost\\nname: Conditional bug report\\n\"];\n",
    "159 -> 160 [label=\"tasks\"];\n",
    "159 -> 162 [label=\"tasks\"];\n",
    "160 -> 162 [style=\"dashed\"];\n",
    "159 -> 164 [label=\"vars\"];\n",
    "}\n",
    "'''"
   ]
  },
  {
   "cell_type": "code",
   "execution_count": 16,
   "metadata": {},
   "outputs": [],
   "source": [
    "dot_graph1 = pydot.graph_from_dot_data(dot_graph1_str)[0]\n",
    "dot_graph2 = pydot.graph_from_dot_data(dot_graph2_str)[0]\n",
    "dot_graph3 = pydot.graph_from_dot_data(dot_graph3_str)[0]"
   ]
  },
  {
   "cell_type": "code",
   "execution_count": 17,
   "metadata": {},
   "outputs": [
    {
     "name": "stderr",
     "output_type": "stream",
     "text": [
      "/tmp/ipykernel_377831/2320508653.py:7: DeprecationWarning: nx.nx_pydot.from_pydot depends on the pydot package, which hasknown issues and is not actively maintained.\n",
      "\n",
      "See https://github.com/networkx/networkx/issues/5723\n",
      "  return nx.nx_pydot.from_pydot(dot_graph)\n"
     ]
    }
   ],
   "source": [
    "# Convert DOT to NetworkX and then to GraKeL\n",
    "graph1_nx = dot_to_networkx(dot_graph1)\n",
    "graph2_nx = dot_to_networkx(dot_graph2)\n",
    "graph3_nx = dot_to_networkx(dot_graph3)"
   ]
  },
  {
   "cell_type": "code",
   "execution_count": 25,
   "metadata": {},
   "outputs": [],
   "source": [
    "from networkx.drawing.nx_pydot import read_dot\n",
    "import io\n",
    "graph1_nx = read_dot(io.StringIO(dot_graph1_str))\n",
    "graph2_nx = read_dot(io.StringIO(dot_graph2_str))\n",
    "graph3_nx = read_dot(io.StringIO(dot_graph3_str))"
   ]
  },
  {
   "cell_type": "code",
   "execution_count": 18,
   "metadata": {},
   "outputs": [],
   "source": [
    "graph1_grakel = networkx_to_grakel(graph1_nx)\n",
    "graph2_grakel = networkx_to_grakel(graph2_nx)\n",
    "graph3_grakel = networkx_to_grakel(graph3_nx)"
   ]
  },
  {
   "cell_type": "code",
   "execution_count": 19,
   "metadata": {},
   "outputs": [
    {
     "name": "stdout",
     "output_type": "stream",
     "text": [
      "Kernel matrix: [[1.         0.06451613 0.02952693]\n",
      " [0.06451613 1.         0.02952693]\n",
      " [0.02952693 0.02952693 1.        ]]\n"
     ]
    }
   ],
   "source": [
    "# Compute the Weisfeiler-Lehman kernel\n",
    "from grakel.kernels import WeisfeilerLehman\n",
    "gk = WeisfeilerLehman(n_iter=5, normalize=True)\n",
    "K = gk.fit_transform([graph1_grakel, graph2_grakel, graph3_grakel])\n",
    "\n",
    "print(\"Kernel matrix:\", K)"
   ]
  },
  {
   "cell_type": "code",
   "execution_count": 26,
   "metadata": {},
   "outputs": [],
   "source": [
    "data = {\n",
    "    'dot_graph': [dot_graph1, dot_graph2_str, dot_graph3_str],\n",
    "    'graph_nx': [graph1_nx, graph2_nx, graph3_nx],\n",
    "    'graph_grakel': [graph1_grakel, graph2_grakel, graph3_grakel]\n",
    "}"
   ]
  },
  {
   "cell_type": "code",
   "execution_count": 27,
   "metadata": {},
   "outputs": [],
   "source": [
    "import pandas as pd\n",
    "ndf = pd.DataFrame(data)"
   ]
  },
  {
   "cell_type": "code",
   "execution_count": 28,
   "metadata": {},
   "outputs": [
    {
     "data": {
      "text/html": [
       "<div>\n",
       "<style scoped>\n",
       "    .dataframe tbody tr th:only-of-type {\n",
       "        vertical-align: middle;\n",
       "    }\n",
       "\n",
       "    .dataframe tbody tr th {\n",
       "        vertical-align: top;\n",
       "    }\n",
       "\n",
       "    .dataframe thead th {\n",
       "        text-align: right;\n",
       "    }\n",
       "</style>\n",
       "<table border=\"1\" class=\"dataframe\">\n",
       "  <thead>\n",
       "    <tr style=\"text-align: right;\">\n",
       "      <th></th>\n",
       "      <th>dot_graph</th>\n",
       "      <th>graph_nx</th>\n",
       "      <th>graph_grakel</th>\n",
       "    </tr>\n",
       "  </thead>\n",
       "  <tbody>\n",
       "    <tr>\n",
       "      <th>0</th>\n",
       "      <td>digraph graphname {\\n4 [label=\"CriticalUpdates...</td>\n",
       "      <td>(4, 5, 3, 2, 1, \\n)</td>\n",
       "      <td>&lt;grakel.graph.Graph object at 0x7efb9f4ea4a0&gt;</td>\n",
       "    </tr>\n",
       "    <tr>\n",
       "      <th>1</th>\n",
       "      <td>\\ndigraph graphname {\\n8 [label=\"msg: my_var i...</td>\n",
       "      <td>(8, 7, 10, 9, 6, \\n)</td>\n",
       "      <td>&lt;grakel.graph.Graph object at 0x7efb9f4ea710&gt;</td>\n",
       "    </tr>\n",
       "    <tr>\n",
       "      <th>2</th>\n",
       "      <td>\\ndigraph graphname {\\n161 [label=\"msg: Import...</td>\n",
       "      <td>(161, 160, 163, 162, 164, 159, \\n)</td>\n",
       "      <td>&lt;grakel.graph.Graph object at 0x7efb9f4ea440&gt;</td>\n",
       "    </tr>\n",
       "  </tbody>\n",
       "</table>\n",
       "</div>"
      ],
      "text/plain": [
       "                                           dot_graph  \\\n",
       "0  digraph graphname {\\n4 [label=\"CriticalUpdates...   \n",
       "1  \\ndigraph graphname {\\n8 [label=\"msg: my_var i...   \n",
       "2  \\ndigraph graphname {\\n161 [label=\"msg: Import...   \n",
       "\n",
       "                             graph_nx  \\\n",
       "0                 (4, 5, 3, 2, 1, \\n)   \n",
       "1                (8, 7, 10, 9, 6, \\n)   \n",
       "2  (161, 160, 163, 162, 164, 159, \\n)   \n",
       "\n",
       "                                    graph_grakel  \n",
       "0  <grakel.graph.Graph object at 0x7efb9f4ea4a0>  \n",
       "1  <grakel.graph.Graph object at 0x7efb9f4ea710>  \n",
       "2  <grakel.graph.Graph object at 0x7efb9f4ea440>  "
      ]
     },
     "execution_count": 28,
     "metadata": {},
     "output_type": "execute_result"
    }
   ],
   "source": [
    "ndf"
   ]
  },
  {
   "cell_type": "code",
   "execution_count": 14,
   "metadata": {},
   "outputs": [
    {
     "name": "stdout",
     "output_type": "stream",
     "text": [
      "Kernel matrix: [[-1. -1.]\n",
      " [-1. -1.]]\n"
     ]
    }
   ],
   "source": [
    "# Compute the Random Walk\n",
    "from grakel.kernels import RandomWalk\n",
    "gk = RandomWalk(lamda=0.01, normalize=True)\n",
    "K = gk.fit_transform([graph1_grakel, graph2_grakel])\n",
    "\n",
    "import numpy as np\n",
    "K = np.nan_to_num(K)\n",
    "\n",
    "print(\"Kernel matrix:\", K)"
   ]
  },
  {
   "cell_type": "code",
   "execution_count": 47,
   "metadata": {},
   "outputs": [
    {
     "name": "stdout",
     "output_type": "stream",
     "text": [
      "Kernel matrix: [[1. 0.]\n",
      " [0. 1.]]\n"
     ]
    }
   ],
   "source": [
    "# Compute the ShortestPath\n",
    "from grakel.kernels import ShortestPath\n",
    "gk = ShortestPath(normalize=True)\n",
    "K = gk.fit_transform([graph1_grakel, graph2_grakel])\n",
    "\n",
    "import numpy as np\n",
    "K = np.nan_to_num(K)\n",
    "\n",
    "print(\"Kernel matrix:\", K)"
   ]
  },
  {
   "cell_type": "code",
   "execution_count": 30,
   "metadata": {},
   "outputs": [],
   "source": []
  }
 ],
 "metadata": {
  "kernelspec": {
   "display_name": "fuzz",
   "language": "python",
   "name": "python3"
  },
  "language_info": {
   "codemirror_mode": {
    "name": "ipython",
    "version": 3
   },
   "file_extension": ".py",
   "mimetype": "text/x-python",
   "name": "python",
   "nbconvert_exporter": "python",
   "pygments_lexer": "ipython3",
   "version": "3.10.9"
  },
  "orig_nbformat": 4
 },
 "nbformat": 4,
 "nbformat_minor": 2
}
