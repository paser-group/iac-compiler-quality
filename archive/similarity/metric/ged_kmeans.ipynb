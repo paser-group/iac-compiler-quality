{
 "cells": [
  {
   "cell_type": "code",
   "execution_count": 2,
   "metadata": {},
   "outputs": [],
   "source": [
    "import pandas as pd\n",
    "ndf = pd.read_pickle('../IR/graph_IR.pickle')\n",
    "import warnings\n",
    "# Ignore DeprecationWarning\n",
    "warnings.filterwarnings(\"ignore\", category=DeprecationWarning)"
   ]
  },
  {
   "cell_type": "code",
   "execution_count": 3,
   "metadata": {},
   "outputs": [
    {
     "data": {
      "text/html": [
       "<div>\n",
       "<style scoped>\n",
       "    .dataframe tbody tr th:only-of-type {\n",
       "        vertical-align: middle;\n",
       "    }\n",
       "\n",
       "    .dataframe tbody tr th {\n",
       "        vertical-align: top;\n",
       "    }\n",
       "\n",
       "    .dataframe thead th {\n",
       "        text-align: right;\n",
       "    }\n",
       "</style>\n",
       "<table border=\"1\" class=\"dataframe\">\n",
       "  <thead>\n",
       "    <tr style=\"text-align: right;\">\n",
       "      <th></th>\n",
       "      <th>path</th>\n",
       "      <th>inter</th>\n",
       "    </tr>\n",
       "  </thead>\n",
       "  <tbody>\n",
       "    <tr>\n",
       "      <th>0</th>\n",
       "      <td>/data/minh/CompilierFuzzing/similarity/YAML/ch...</td>\n",
       "      <td>digraph graphname {\\n1644 [label=\"category_nam...</td>\n",
       "    </tr>\n",
       "    <tr>\n",
       "      <th>1</th>\n",
       "      <td>/data/minh/CompilierFuzzing/similarity/YAML/ch...</td>\n",
       "      <td>digraph graphname {\\n1647 [label=\"var: db.secr...</td>\n",
       "    </tr>\n",
       "    <tr>\n",
       "      <th>2</th>\n",
       "      <td>/data/minh/CompilierFuzzing/similarity/YAML/ch...</td>\n",
       "      <td>digraph graphname {\\n1651 [label=\"enabled: Tru...</td>\n",
       "    </tr>\n",
       "    <tr>\n",
       "      <th>3</th>\n",
       "      <td>/data/minh/CompilierFuzzing/similarity/YAML/ch...</td>\n",
       "      <td>digraph graphname {\\n1654 [label=\"msg: This is...</td>\n",
       "    </tr>\n",
       "    <tr>\n",
       "      <th>4</th>\n",
       "      <td>/data/minh/CompilierFuzzing/similarity/YAML/ch...</td>\n",
       "      <td>digraph graphname {\\n1660 [label=\"repo: deb ht...</td>\n",
       "    </tr>\n",
       "  </tbody>\n",
       "</table>\n",
       "</div>"
      ],
      "text/plain": [
       "                                                path  \\\n",
       "0  /data/minh/CompilierFuzzing/similarity/YAML/ch...   \n",
       "1  /data/minh/CompilierFuzzing/similarity/YAML/ch...   \n",
       "2  /data/minh/CompilierFuzzing/similarity/YAML/ch...   \n",
       "3  /data/minh/CompilierFuzzing/similarity/YAML/ch...   \n",
       "4  /data/minh/CompilierFuzzing/similarity/YAML/ch...   \n",
       "\n",
       "                                               inter  \n",
       "0  digraph graphname {\\n1644 [label=\"category_nam...  \n",
       "1  digraph graphname {\\n1647 [label=\"var: db.secr...  \n",
       "2  digraph graphname {\\n1651 [label=\"enabled: Tru...  \n",
       "3  digraph graphname {\\n1654 [label=\"msg: This is...  \n",
       "4  digraph graphname {\\n1660 [label=\"repo: deb ht...  "
      ]
     },
     "execution_count": 3,
     "metadata": {},
     "output_type": "execute_result"
    }
   ],
   "source": [
    "ndf.head()"
   ]
  },
  {
   "cell_type": "code",
   "execution_count": 4,
   "metadata": {},
   "outputs": [],
   "source": [
    "import networkx as nx\n",
    "import pydot\n",
    "dists = []\n",
    "for i in range(len(ndf)):\n",
    "    gi = nx.nx_pydot.from_pydot(pydot.graph_from_dot_data(ndf.loc[i, 'inter'])[0])\n",
    "    for j in range(i+1, len(ndf)):\n",
    "        gj = nx.nx_pydot.from_pydot(pydot.graph_from_dot_data(ndf.loc[j, 'inter'])[0])\n",
    "        dists.append([v for v in nx.optimize_graph_edit_distance(gi, gj)][-1])"
   ]
  },
  {
   "cell_type": "code",
   "execution_count": 5,
   "metadata": {},
   "outputs": [],
   "source": [
    "from scipy.spatial.distance import squareform\n",
    "# Create distance matrix\n",
    "dist_matrix = squareform(dists)"
   ]
  },
  {
   "cell_type": "code",
   "execution_count": 6,
   "metadata": {},
   "outputs": [
    {
     "data": {
      "text/plain": [
       "array([[0., 4., 2., ..., 0., 2., 0.],\n",
       "       [4., 0., 6., ..., 4., 6., 4.],\n",
       "       [2., 6., 0., ..., 2., 0., 2.],\n",
       "       ...,\n",
       "       [0., 4., 2., ..., 0., 2., 0.],\n",
       "       [2., 6., 0., ..., 2., 0., 2.],\n",
       "       [0., 4., 2., ..., 0., 2., 0.]])"
      ]
     },
     "execution_count": 6,
     "metadata": {},
     "output_type": "execute_result"
    }
   ],
   "source": [
    "dist_matrix"
   ]
  },
  {
   "cell_type": "code",
   "execution_count": 7,
   "metadata": {},
   "outputs": [
    {
     "data": {
      "image/png": "[encoded data removed]",
      "text/plain": [
       "<Figure size 640x480 with 2 Axes>"
      ]
     },
     "metadata": {},
     "output_type": "display_data"
    }
   ],
   "source": [
    "import seaborn as sns\n",
    "import matplotlib.pyplot as plt\n",
    "\n",
    "# Create heatmap from dist_matrix\n",
    "sns.heatmap(dist_matrix, cmap='magma')\n",
    "plt.show()"
   ]
  },
  {
   "cell_type": "code",
   "execution_count": 8,
   "metadata": {},
   "outputs": [
    {
     "name": "stdout",
     "output_type": "stream",
     "text": [
      "The maximum value is at row 2 and column 55, with a value of 22.0\n"
     ]
    }
   ],
   "source": [
    "import numpy as np\n",
    "\n",
    "# Set the diagonal elements to infinity so they won't be considered as the minimum value\n",
    "np.fill_diagonal(dist_matrix, 0)\n",
    "\n",
    "# Get the row and column indices of the maximum value\n",
    "row_idx, col_idx = np.unravel_index(np.argmax(dist_matrix, axis=None), dist_matrix.shape)\n",
    "\n",
    "# Print the indices and the maximum value\n",
    "print(f\"The maximum value is at row {row_idx} and column {col_idx}, with a value of {dist_matrix[row_idx, col_idx]}\")"
   ]
  },
  {
   "cell_type": "code",
   "execution_count": null,
   "metadata": {},
   "outputs": [],
   "source": []
  },
  {
   "cell_type": "code",
   "execution_count": 69,
   "metadata": {},
   "outputs": [
    {
     "name": "stdout",
     "output_type": "stream",
     "text": [
      "[ 0 12  2  3  2  0  2 12  0  3 16  0 19  2  2 23  0 10  2  2  2  0  0  0\n",
      "  0  2  0  0  0  0 12  2  0 19 43  0  0 47  0 50  2  0 19 23  0  0  0  2\n",
      " 60  2 47  0  0  0  0 96  2  0 19 12  0  0 43 10  0  0  1  0  0  1  0  0\n",
      "  0  0  2  7  0  0  0  0 43 43  2  2 60  2 19  0 60  0 60  2  2  2  0  2\n",
      " 19  0  2  0]\n"
     ]
    },
    {
     "name": "stderr",
     "output_type": "stream",
     "text": [
      "/data/minh/anaconda3/envs/fuzz/lib/python3.10/site-packages/sklearn/cluster/_kmeans.py:1033: ConvergenceWarning: Number of distinct clusters (15) found smaller than n_clusters (100). Possibly due to duplicate points in X.\n",
      "  return self.fit(X, sample_weight=sample_weight).labels_\n"
     ]
    }
   ],
   "source": [
    "from sklearn.cluster import KMeans\n",
    "from sklearn.preprocessing import StandardScaler\n",
    "# Use the optimal number of clusters to perform K-means clustering\n",
    "n_clusters = 100 # Example of using 3 clusters\n",
    "scaler = StandardScaler()\n",
    "dist_matrix_scaled = scaler.fit_transform(dist_matrix)\n",
    "kmeans = KMeans(n_clusters=n_clusters, init='k-means++', random_state=0, n_init=10)\n",
    "labels = kmeans.fit_predict(dist_matrix_scaled)\n",
    "\n",
    "# Print the labels assigned to each data point\n",
    "print(labels)"
   ]
  },
  {
   "cell_type": "code",
   "execution_count": 75,
   "metadata": {},
   "outputs": [
    {
     "data": {
      "text/plain": [
       "15"
      ]
     },
     "execution_count": 75,
     "metadata": {},
     "output_type": "execute_result"
    }
   ],
   "source": [
    "# Get unique values and count them\n",
    "unique_values = set(labels)\n",
    "len(unique_values)"
   ]
  },
  {
   "cell_type": "code",
   "execution_count": 71,
   "metadata": {},
   "outputs": [
    {
     "data": {
      "image/png": "[encoded data removed]",
      "text/plain": [
       "<Figure size 640x480 with 1 Axes>"
      ]
     },
     "metadata": {},
     "output_type": "display_data"
    }
   ],
   "source": [
    "import seaborn as sns\n",
    "import matplotlib.pyplot as plt\n",
    "\n",
    "sns.set_style('whitegrid')\n",
    "ax = sns.countplot(x=labels)\n",
    "ax.set_xlabel('Cluster Label')\n",
    "ax.set_ylabel('Count')\n",
    "ax.set_xticks(range(0, n_clusters, 10))\n",
    "ax.set_xticklabels(range(0, n_clusters, 10))\n",
    "\n",
    "plt.show()"
   ]
  },
  {
   "cell_type": "code",
   "execution_count": 72,
   "metadata": {},
   "outputs": [],
   "source": [
    "ndf['over'] = labels"
   ]
  },
  {
   "cell_type": "code",
   "execution_count": 73,
   "metadata": {},
   "outputs": [
    {
     "name": "stdout",
     "output_type": "stream",
     "text": [
      "0     45\n",
      "2     23\n",
      "19     6\n",
      "12     4\n",
      "43     4\n",
      "60     4\n",
      "3      2\n",
      "23     2\n",
      "10     2\n",
      "47     2\n",
      "1      2\n",
      "16     1\n",
      "50     1\n",
      "96     1\n",
      "7      1\n",
      "Name: over, dtype: int64\n"
     ]
    }
   ],
   "source": [
    "# Get the count of each label\n",
    "label_counts = ndf['over'].value_counts()\n",
    "\n",
    "# Print the label counts\n",
    "print(label_counts)"
   ]
  },
  {
   "cell_type": "code",
   "execution_count": 74,
   "metadata": {},
   "outputs": [
    {
     "data": {
      "text/plain": [
       "Int64Index([ 0,  5,  8, 11, 16, 21, 22, 23, 24, 26, 27, 28, 29, 32, 35, 36, 38,\n",
       "            41, 44, 45, 46, 51, 52, 53, 54, 57, 60, 61, 64, 65, 67, 68, 70, 71,\n",
       "            72, 73, 76, 77, 78, 79, 87, 89, 94, 97, 99],\n",
       "           dtype='int64')"
      ]
     },
     "execution_count": 74,
     "metadata": {},
     "output_type": "execute_result"
    }
   ],
   "source": [
    "ndf[ndf['over'] == 0].index"
   ]
  },
  {
   "cell_type": "code",
   "execution_count": null,
   "metadata": {},
   "outputs": [],
   "source": []
  },
  {
   "cell_type": "code",
   "execution_count": 9,
   "metadata": {},
   "outputs": [],
   "source": [
    "from sklearn.cluster import KMeans\n",
    "# Determine the optimal number of clusters\n",
    "distortions = []\n",
    "K = range(1, 10)\n",
    "for k in K:\n",
    "    kmeanModel = KMeans(n_clusters=k, n_init='auto').fit(dist_matrix)\n",
    "    distortions.append(kmeanModel.inertia_)"
   ]
  },
  {
   "cell_type": "code",
   "execution_count": 78,
   "metadata": {},
   "outputs": [
    {
     "data": {
      "image/png": "[encoded data removed]",
      "text/plain": [
       "<Figure size 640x480 with 1 Axes>"
      ]
     },
     "metadata": {},
     "output_type": "display_data"
    }
   ],
   "source": [
    "import matplotlib.pyplot as plt\n",
    "# Plot the elbow curve to determine the optimal number of clusters\n",
    "plt.plot(K, distortions, 'bx-')\n",
    "plt.xlabel('k')\n",
    "plt.ylabel('Distortion')\n",
    "plt.title('GED Elbow Curve')\n",
    "plt.show()"
   ]
  },
  {
   "cell_type": "code",
   "execution_count": 76,
   "metadata": {},
   "outputs": [
    {
     "name": "stdout",
     "output_type": "stream",
     "text": [
      "[0 2 3 4 3 0 3 2 0 4 2 0 5 3 3 8 0 8 3 3 3 0 0 0 0 3 0 0 0 0 2 3 0 5 2 0 0\n",
      " 5 0 2 3 0 5 8 0 0 0 3 7 3 5 0 0 0 0 1 3 0 5 2 0 0 2 8 0 0 6 0 0 6 0 0 0 0\n",
      " 3 5 0 0 0 0 2 2 3 3 7 3 5 0 7 0 7 3 3 3 0 3 5 0 3 0]\n"
     ]
    }
   ],
   "source": [
    "from sklearn.cluster import KMeans\n",
    "from sklearn.preprocessing import StandardScaler\n",
    "# Use the optimal number of clusters to perform K-means clustering\n",
    "n_clusters = 9 # Example of using 3 clusters\n",
    "scaler = StandardScaler()\n",
    "dist_matrix_scaled = scaler.fit_transform(dist_matrix)\n",
    "kmeans = KMeans(n_clusters=n_clusters, init='k-means++', random_state=0, n_init=10)\n",
    "labels = kmeans.fit_predict(dist_matrix_scaled)\n",
    "\n",
    "# Print the labels assigned to each data point\n",
    "print(labels)"
   ]
  },
  {
   "cell_type": "code",
   "execution_count": 77,
   "metadata": {},
   "outputs": [
    {
     "data": {
      "text/plain": [
       "9"
      ]
     },
     "execution_count": 77,
     "metadata": {},
     "output_type": "execute_result"
    }
   ],
   "source": [
    "# Get unique values and count them\n",
    "unique_values = set(labels)\n",
    "len(unique_values)"
   ]
  },
  {
   "cell_type": "code",
   "execution_count": 78,
   "metadata": {},
   "outputs": [
    {
     "data": {
      "image/png": "[encoded data removed]",
      "text/plain": [
       "<Figure size 640x480 with 1 Axes>"
      ]
     },
     "metadata": {},
     "output_type": "display_data"
    }
   ],
   "source": [
    "import seaborn as sns\n",
    "import matplotlib.pyplot as plt\n",
    "\n",
    "sns.set_style('whitegrid')\n",
    "ax = sns.countplot(x=labels)\n",
    "ax.set_xlabel('Cluster Label')\n",
    "ax.set_ylabel('Count')\n",
    "ax.set_xticks(range(0, n_clusters, 10))\n",
    "ax.set_xticklabels(range(0, n_clusters, 10))\n",
    "\n",
    "plt.show()"
   ]
  },
  {
   "cell_type": "code",
   "execution_count": 79,
   "metadata": {},
   "outputs": [],
   "source": [
    "ndf['elbow'] = labels"
   ]
  },
  {
   "cell_type": "code",
   "execution_count": 80,
   "metadata": {},
   "outputs": [
    {
     "name": "stdout",
     "output_type": "stream",
     "text": [
      "0    45\n",
      "3    23\n",
      "2    10\n",
      "5     9\n",
      "8     4\n",
      "7     4\n",
      "4     2\n",
      "6     2\n",
      "1     1\n",
      "Name: elbow, dtype: int64\n"
     ]
    }
   ],
   "source": [
    "# Get the count of each label\n",
    "label_counts = ndf['elbow'].value_counts()\n",
    "\n",
    "# Print the label counts\n",
    "print(label_counts)"
   ]
  },
  {
   "cell_type": "code",
   "execution_count": 81,
   "metadata": {},
   "outputs": [
    {
     "data": {
      "text/plain": [
       "Int64Index([ 0,  5,  8, 11, 16, 21, 22, 23, 24, 26, 27, 28, 29, 32, 35, 36, 38,\n",
       "            41, 44, 45, 46, 51, 52, 53, 54, 57, 60, 61, 64, 65, 67, 68, 70, 71,\n",
       "            72, 73, 76, 77, 78, 79, 87, 89, 94, 97, 99],\n",
       "           dtype='int64')"
      ]
     },
     "execution_count": 81,
     "metadata": {},
     "output_type": "execute_result"
    }
   ],
   "source": [
    "ndf[ndf['elbow'] == 0].index"
   ]
  },
  {
   "cell_type": "code",
   "execution_count": null,
   "metadata": {},
   "outputs": [],
   "source": []
  },
  {
   "cell_type": "code",
   "execution_count": 58,
   "metadata": {},
   "outputs": [
    {
     "name": "stdout",
     "output_type": "stream",
     "text": [
      "0.7660572833037562\n",
      "0.7948315325027633\n",
      "0.8307547691305288\n",
      "0.8454424224542707\n",
      "0.8539504906260162\n",
      "0.8722962403865108\n",
      "0.881510189288929\n",
      "0.8944195774204414\n",
      "0.9249015147435514\n",
      "0.9485634921359163\n",
      "0.9548495134798665\n",
      "0.9599999710045114\n"
     ]
    },
    {
     "name": "stderr",
     "output_type": "stream",
     "text": [
      "/data/minh/anaconda3/envs/fuzz/lib/python3.10/site-packages/sklearn/cluster/_kmeans.py:1033: ConvergenceWarning: Number of distinct clusters (15) found smaller than n_clusters (16). Possibly due to duplicate points in X.\n",
      "  return self.fit(X, sample_weight=sample_weight).labels_\n",
      "/data/minh/anaconda3/envs/fuzz/lib/python3.10/site-packages/sklearn/cluster/_kmeans.py:1033: ConvergenceWarning: Number of distinct clusters (15) found smaller than n_clusters (17). Possibly due to duplicate points in X.\n",
      "  return self.fit(X, sample_weight=sample_weight).labels_\n",
      "/data/minh/anaconda3/envs/fuzz/lib/python3.10/site-packages/sklearn/cluster/_kmeans.py:1033: ConvergenceWarning: Number of distinct clusters (15) found smaller than n_clusters (18). Possibly due to duplicate points in X.\n",
      "  return self.fit(X, sample_weight=sample_weight).labels_\n",
      "/data/minh/anaconda3/envs/fuzz/lib/python3.10/site-packages/sklearn/cluster/_kmeans.py:1033: ConvergenceWarning: Number of distinct clusters (15) found smaller than n_clusters (19). Possibly due to duplicate points in X.\n",
      "  return self.fit(X, sample_weight=sample_weight).labels_\n"
     ]
    }
   ],
   "source": [
    "from sklearn.cluster import KMeans\n",
    "from sklearn.preprocessing import StandardScaler\n",
    "from sklearn.metrics import silhouette_score\n",
    "\n",
    "# Scale the data\n",
    "scaler = StandardScaler()\n",
    "dist_matrix_scaled = scaler.fit_transform(dist_matrix)\n",
    "\n",
    "# Determine the optimal number of clusters using silhouette analysis\n",
    "best_n_clusters = 2\n",
    "best_silhouette_score = -1\n",
    "\n",
    "for n_clusters in range(2, 20):  # Assuming you want to test from 2 to 10 clusters\n",
    "    kmeans = KMeans(n_clusters=n_clusters, init='k-means++', random_state=0, n_init=10)\n",
    "    labels = kmeans.fit_predict(dist_matrix_scaled)\n",
    "    silhouette_avg = silhouette_score(dist_matrix_scaled, labels)\n",
    "    \n",
    "    if silhouette_avg > best_silhouette_score:\n",
    "        best_silhouette_score = silhouette_avg\n",
    "        best_n_clusters = n_clusters\n",
    "        print(silhouette_avg)\n",
    "\n",
    "# Perform K-means clustering with the optimal number of clusters\n",
    "kmeans = KMeans(n_clusters=best_n_clusters, init='k-means++', random_state=0, n_init=10)\n",
    "labels = kmeans.fit_predict(dist_matrix_scaled)"
   ]
  },
  {
   "cell_type": "code",
   "execution_count": 37,
   "metadata": {},
   "outputs": [
    {
     "data": {
      "text/plain": [
       "array([ 0,  4,  3,  8,  3,  0,  3,  4,  0,  8, 13,  0,  5,  3,  3,  9,  0,\n",
       "       12,  3,  3,  3,  0,  0,  0,  0,  3,  0,  0,  0,  0,  4,  3,  0,  5,\n",
       "        6,  0,  0, 10,  0, 11,  3,  0,  5,  9,  0,  0,  0,  3,  7,  3, 10,\n",
       "        0,  0,  0,  0,  2,  3,  0,  5,  4,  0,  0,  6, 12,  0,  0,  1,  0,\n",
       "        0,  1,  0,  0,  0,  0,  3, 14,  0,  0,  0,  0,  6,  6,  3,  3,  7,\n",
       "        3,  5,  0,  7,  0,  7,  3,  3,  3,  0,  3,  5,  0,  3,  0],\n",
       "      dtype=int32)"
      ]
     },
     "execution_count": 37,
     "metadata": {},
     "output_type": "execute_result"
    }
   ],
   "source": [
    "labels"
   ]
  },
  {
   "cell_type": "code",
   "execution_count": 59,
   "metadata": {},
   "outputs": [
    {
     "data": {
      "text/plain": [
       "15"
      ]
     },
     "execution_count": 59,
     "metadata": {},
     "output_type": "execute_result"
    }
   ],
   "source": [
    "# Get unique values and count them\n",
    "unique_values = set(labels)\n",
    "len(unique_values)"
   ]
  },
  {
   "cell_type": "code",
   "execution_count": 64,
   "metadata": {},
   "outputs": [
    {
     "data": {
      "image/png": "[encoded data removed]",
      "text/plain": [
       "<Figure size 640x480 with 1 Axes>"
      ]
     },
     "metadata": {},
     "output_type": "display_data"
    }
   ],
   "source": [
    "import seaborn as sns\n",
    "import matplotlib.pyplot as plt\n",
    "\n",
    "sns.set_style('whitegrid')\n",
    "ax = sns.countplot(x=labels)\n",
    "ax.set_xlabel('Cluster Label')\n",
    "ax.set_ylabel('Count')\n",
    "ax.set_xticks(range(0, best_n_clusters, 10))\n",
    "ax.set_xticklabels(range(0, best_n_clusters, 10))\n",
    "\n",
    "plt.show()"
   ]
  },
  {
   "cell_type": "code",
   "execution_count": 65,
   "metadata": {},
   "outputs": [],
   "source": [
    "ndf['sil'] = labels"
   ]
  },
  {
   "cell_type": "code",
   "execution_count": 66,
   "metadata": {},
   "outputs": [
    {
     "name": "stdout",
     "output_type": "stream",
     "text": [
      "0     45\n",
      "3     23\n",
      "5      6\n",
      "4      4\n",
      "6      4\n",
      "7      4\n",
      "8      2\n",
      "9      2\n",
      "12     2\n",
      "10     2\n",
      "1      2\n",
      "13     1\n",
      "11     1\n",
      "2      1\n",
      "14     1\n",
      "Name: sil, dtype: int64\n"
     ]
    }
   ],
   "source": [
    "# Get the count of each label\n",
    "label_counts = ndf['sil'].value_counts()\n",
    "\n",
    "# Print the label counts\n",
    "print(label_counts)"
   ]
  },
  {
   "cell_type": "code",
   "execution_count": 68,
   "metadata": {},
   "outputs": [
    {
     "data": {
      "text/plain": [
       "Int64Index([ 0,  5,  8, 11, 16, 21, 22, 23, 24, 26, 27, 28, 29, 32, 35, 36, 38,\n",
       "            41, 44, 45, 46, 51, 52, 53, 54, 57, 60, 61, 64, 65, 67, 68, 70, 71,\n",
       "            72, 73, 76, 77, 78, 79, 87, 89, 94, 97, 99],\n",
       "           dtype='int64')"
      ]
     },
     "execution_count": 68,
     "metadata": {},
     "output_type": "execute_result"
    }
   ],
   "source": [
    "ndf[ndf['sil'] == 0].index"
   ]
  },
  {
   "cell_type": "code",
   "execution_count": 85,
   "metadata": {},
   "outputs": [
    {
     "data": {
      "text/html": [
       "<div>\n",
       "<style scoped>\n",
       "    .dataframe tbody tr th:only-of-type {\n",
       "        vertical-align: middle;\n",
       "    }\n",
       "\n",
       "    .dataframe tbody tr th {\n",
       "        vertical-align: top;\n",
       "    }\n",
       "\n",
       "    .dataframe thead th {\n",
       "        text-align: right;\n",
       "    }\n",
       "</style>\n",
       "<table border=\"1\" class=\"dataframe\">\n",
       "  <thead>\n",
       "    <tr style=\"text-align: right;\">\n",
       "      <th></th>\n",
       "      <th>path</th>\n",
       "      <th>inter</th>\n",
       "      <th>over</th>\n",
       "      <th>sil</th>\n",
       "      <th>elbow</th>\n",
       "    </tr>\n",
       "  </thead>\n",
       "  <tbody>\n",
       "    <tr>\n",
       "      <th>0</th>\n",
       "      <td>/data/minh/CompilierFuzzing/similarity/YAML/ch...</td>\n",
       "      <td>digraph graphname {\\n1644 [label=\"category_nam...</td>\n",
       "      <td>0</td>\n",
       "      <td>0</td>\n",
       "      <td>0</td>\n",
       "    </tr>\n",
       "    <tr>\n",
       "      <th>1</th>\n",
       "      <td>/data/minh/CompilierFuzzing/similarity/YAML/ch...</td>\n",
       "      <td>digraph graphname {\\n1647 [label=\"var: db.secr...</td>\n",
       "      <td>12</td>\n",
       "      <td>4</td>\n",
       "      <td>2</td>\n",
       "    </tr>\n",
       "    <tr>\n",
       "      <th>2</th>\n",
       "      <td>/data/minh/CompilierFuzzing/similarity/YAML/ch...</td>\n",
       "      <td>digraph graphname {\\n1651 [label=\"enabled: Tru...</td>\n",
       "      <td>2</td>\n",
       "      <td>3</td>\n",
       "      <td>3</td>\n",
       "    </tr>\n",
       "    <tr>\n",
       "      <th>3</th>\n",
       "      <td>/data/minh/CompilierFuzzing/similarity/YAML/ch...</td>\n",
       "      <td>digraph graphname {\\n1654 [label=\"msg: This is...</td>\n",
       "      <td>3</td>\n",
       "      <td>8</td>\n",
       "      <td>4</td>\n",
       "    </tr>\n",
       "    <tr>\n",
       "      <th>4</th>\n",
       "      <td>/data/minh/CompilierFuzzing/similarity/YAML/ch...</td>\n",
       "      <td>digraph graphname {\\n1660 [label=\"repo: deb ht...</td>\n",
       "      <td>2</td>\n",
       "      <td>3</td>\n",
       "      <td>3</td>\n",
       "    </tr>\n",
       "    <tr>\n",
       "      <th>...</th>\n",
       "      <td>...</td>\n",
       "      <td>...</td>\n",
       "      <td>...</td>\n",
       "      <td>...</td>\n",
       "      <td>...</td>\n",
       "    </tr>\n",
       "    <tr>\n",
       "      <th>95</th>\n",
       "      <td>/data/minh/CompilierFuzzing/similarity/YAML/ch...</td>\n",
       "      <td>digraph graphname {\\n1961 [label=\"name: Displa...</td>\n",
       "      <td>2</td>\n",
       "      <td>3</td>\n",
       "      <td>3</td>\n",
       "    </tr>\n",
       "    <tr>\n",
       "      <th>96</th>\n",
       "      <td>/data/minh/CompilierFuzzing/similarity/YAML/ch...</td>\n",
       "      <td>digraph graphname {\\n1964 [label=\"var: {{ rand...</td>\n",
       "      <td>19</td>\n",
       "      <td>5</td>\n",
       "      <td>5</td>\n",
       "    </tr>\n",
       "    <tr>\n",
       "      <th>97</th>\n",
       "      <td>/data/minh/CompilierFuzzing/similarity/YAML/ch...</td>\n",
       "      <td>digraph graphname {\\n1968 [label=\"image: nginx...</td>\n",
       "      <td>0</td>\n",
       "      <td>0</td>\n",
       "      <td>0</td>\n",
       "    </tr>\n",
       "    <tr>\n",
       "      <th>98</th>\n",
       "      <td>/data/minh/CompilierFuzzing/similarity/YAML/ch...</td>\n",
       "      <td>digraph graphname {\\n1970 [label=\"command: ans...</td>\n",
       "      <td>2</td>\n",
       "      <td>3</td>\n",
       "      <td>3</td>\n",
       "    </tr>\n",
       "    <tr>\n",
       "      <th>99</th>\n",
       "      <td>/data/minh/CompilierFuzzing/similarity/YAML/ch...</td>\n",
       "      <td>digraph graphname {\\n1973 [label=\"msg: Hello, ...</td>\n",
       "      <td>0</td>\n",
       "      <td>0</td>\n",
       "      <td>0</td>\n",
       "    </tr>\n",
       "  </tbody>\n",
       "</table>\n",
       "<p>100 rows × 5 columns</p>\n",
       "</div>"
      ],
      "text/plain": [
       "                                                 path  \\\n",
       "0   /data/minh/CompilierFuzzing/similarity/YAML/ch...   \n",
       "1   /data/minh/CompilierFuzzing/similarity/YAML/ch...   \n",
       "2   /data/minh/CompilierFuzzing/similarity/YAML/ch...   \n",
       "3   /data/minh/CompilierFuzzing/similarity/YAML/ch...   \n",
       "4   /data/minh/CompilierFuzzing/similarity/YAML/ch...   \n",
       "..                                                ...   \n",
       "95  /data/minh/CompilierFuzzing/similarity/YAML/ch...   \n",
       "96  /data/minh/CompilierFuzzing/similarity/YAML/ch...   \n",
       "97  /data/minh/CompilierFuzzing/similarity/YAML/ch...   \n",
       "98  /data/minh/CompilierFuzzing/similarity/YAML/ch...   \n",
       "99  /data/minh/CompilierFuzzing/similarity/YAML/ch...   \n",
       "\n",
       "                                                inter  over  sil  elbow  \n",
       "0   digraph graphname {\\n1644 [label=\"category_nam...     0    0      0  \n",
       "1   digraph graphname {\\n1647 [label=\"var: db.secr...    12    4      2  \n",
       "2   digraph graphname {\\n1651 [label=\"enabled: Tru...     2    3      3  \n",
       "3   digraph graphname {\\n1654 [label=\"msg: This is...     3    8      4  \n",
       "4   digraph graphname {\\n1660 [label=\"repo: deb ht...     2    3      3  \n",
       "..                                                ...   ...  ...    ...  \n",
       "95  digraph graphname {\\n1961 [label=\"name: Displa...     2    3      3  \n",
       "96  digraph graphname {\\n1964 [label=\"var: {{ rand...    19    5      5  \n",
       "97  digraph graphname {\\n1968 [label=\"image: nginx...     0    0      0  \n",
       "98  digraph graphname {\\n1970 [label=\"command: ans...     2    3      3  \n",
       "99  digraph graphname {\\n1973 [label=\"msg: Hello, ...     0    0      0  \n",
       "\n",
       "[100 rows x 5 columns]"
      ]
     },
     "execution_count": 85,
     "metadata": {},
     "output_type": "execute_result"
    }
   ],
   "source": [
    "ndf"
   ]
  },
  {
   "cell_type": "code",
   "execution_count": 91,
   "metadata": {},
   "outputs": [
    {
     "data": {
      "text/plain": [
       "Int64Index([ 0,  5,  8, 11, 16, 21, 22, 23, 24, 26, 27, 28, 29, 32, 35, 36, 38,\n",
       "            41, 44, 45, 46, 51, 52, 53, 54, 57, 60, 61, 64, 65, 67, 68, 70, 71,\n",
       "            72, 73, 76, 77, 78, 79, 87, 89, 94, 97, 99],\n",
       "           dtype='int64')"
      ]
     },
     "execution_count": 91,
     "metadata": {},
     "output_type": "execute_result"
    }
   ],
   "source": [
    "ndf[ndf['sil'] == 0].index"
   ]
  },
  {
   "cell_type": "code",
   "execution_count": null,
   "metadata": {},
   "outputs": [],
   "source": []
  },
  {
   "cell_type": "code",
   "execution_count": 92,
   "metadata": {},
   "outputs": [],
   "source": [
    "ndf.to_pickle('ged_results.pickle')"
   ]
  },
  {
   "cell_type": "code",
   "execution_count": 93,
   "metadata": {},
   "outputs": [],
   "source": [
    "df = pd.read_pickle('ged_results.pickle')"
   ]
  },
  {
   "cell_type": "code",
   "execution_count": 94,
   "metadata": {},
   "outputs": [
    {
     "data": {
      "text/html": [
       "<div>\n",
       "<style scoped>\n",
       "    .dataframe tbody tr th:only-of-type {\n",
       "        vertical-align: middle;\n",
       "    }\n",
       "\n",
       "    .dataframe tbody tr th {\n",
       "        vertical-align: top;\n",
       "    }\n",
       "\n",
       "    .dataframe thead th {\n",
       "        text-align: right;\n",
       "    }\n",
       "</style>\n",
       "<table border=\"1\" class=\"dataframe\">\n",
       "  <thead>\n",
       "    <tr style=\"text-align: right;\">\n",
       "      <th></th>\n",
       "      <th>path</th>\n",
       "      <th>inter</th>\n",
       "      <th>over</th>\n",
       "      <th>sil</th>\n",
       "      <th>elbow</th>\n",
       "    </tr>\n",
       "  </thead>\n",
       "  <tbody>\n",
       "    <tr>\n",
       "      <th>0</th>\n",
       "      <td>/data/minh/CompilierFuzzing/similarity/YAML/ch...</td>\n",
       "      <td>digraph graphname {\\n1644 [label=\"category_nam...</td>\n",
       "      <td>0</td>\n",
       "      <td>0</td>\n",
       "      <td>0</td>\n",
       "    </tr>\n",
       "    <tr>\n",
       "      <th>1</th>\n",
       "      <td>/data/minh/CompilierFuzzing/similarity/YAML/ch...</td>\n",
       "      <td>digraph graphname {\\n1647 [label=\"var: db.secr...</td>\n",
       "      <td>12</td>\n",
       "      <td>4</td>\n",
       "      <td>2</td>\n",
       "    </tr>\n",
       "    <tr>\n",
       "      <th>2</th>\n",
       "      <td>/data/minh/CompilierFuzzing/similarity/YAML/ch...</td>\n",
       "      <td>digraph graphname {\\n1651 [label=\"enabled: Tru...</td>\n",
       "      <td>2</td>\n",
       "      <td>3</td>\n",
       "      <td>3</td>\n",
       "    </tr>\n",
       "    <tr>\n",
       "      <th>3</th>\n",
       "      <td>/data/minh/CompilierFuzzing/similarity/YAML/ch...</td>\n",
       "      <td>digraph graphname {\\n1654 [label=\"msg: This is...</td>\n",
       "      <td>3</td>\n",
       "      <td>8</td>\n",
       "      <td>4</td>\n",
       "    </tr>\n",
       "    <tr>\n",
       "      <th>4</th>\n",
       "      <td>/data/minh/CompilierFuzzing/similarity/YAML/ch...</td>\n",
       "      <td>digraph graphname {\\n1660 [label=\"repo: deb ht...</td>\n",
       "      <td>2</td>\n",
       "      <td>3</td>\n",
       "      <td>3</td>\n",
       "    </tr>\n",
       "    <tr>\n",
       "      <th>...</th>\n",
       "      <td>...</td>\n",
       "      <td>...</td>\n",
       "      <td>...</td>\n",
       "      <td>...</td>\n",
       "      <td>...</td>\n",
       "    </tr>\n",
       "    <tr>\n",
       "      <th>95</th>\n",
       "      <td>/data/minh/CompilierFuzzing/similarity/YAML/ch...</td>\n",
       "      <td>digraph graphname {\\n1961 [label=\"name: Displa...</td>\n",
       "      <td>2</td>\n",
       "      <td>3</td>\n",
       "      <td>3</td>\n",
       "    </tr>\n",
       "    <tr>\n",
       "      <th>96</th>\n",
       "      <td>/data/minh/CompilierFuzzing/similarity/YAML/ch...</td>\n",
       "      <td>digraph graphname {\\n1964 [label=\"var: {{ rand...</td>\n",
       "      <td>19</td>\n",
       "      <td>5</td>\n",
       "      <td>5</td>\n",
       "    </tr>\n",
       "    <tr>\n",
       "      <th>97</th>\n",
       "      <td>/data/minh/CompilierFuzzing/similarity/YAML/ch...</td>\n",
       "      <td>digraph graphname {\\n1968 [label=\"image: nginx...</td>\n",
       "      <td>0</td>\n",
       "      <td>0</td>\n",
       "      <td>0</td>\n",
       "    </tr>\n",
       "    <tr>\n",
       "      <th>98</th>\n",
       "      <td>/data/minh/CompilierFuzzing/similarity/YAML/ch...</td>\n",
       "      <td>digraph graphname {\\n1970 [label=\"command: ans...</td>\n",
       "      <td>2</td>\n",
       "      <td>3</td>\n",
       "      <td>3</td>\n",
       "    </tr>\n",
       "    <tr>\n",
       "      <th>99</th>\n",
       "      <td>/data/minh/CompilierFuzzing/similarity/YAML/ch...</td>\n",
       "      <td>digraph graphname {\\n1973 [label=\"msg: Hello, ...</td>\n",
       "      <td>0</td>\n",
       "      <td>0</td>\n",
       "      <td>0</td>\n",
       "    </tr>\n",
       "  </tbody>\n",
       "</table>\n",
       "<p>100 rows × 5 columns</p>\n",
       "</div>"
      ],
      "text/plain": [
       "                                                 path  \\\n",
       "0   /data/minh/CompilierFuzzing/similarity/YAML/ch...   \n",
       "1   /data/minh/CompilierFuzzing/similarity/YAML/ch...   \n",
       "2   /data/minh/CompilierFuzzing/similarity/YAML/ch...   \n",
       "3   /data/minh/CompilierFuzzing/similarity/YAML/ch...   \n",
       "4   /data/minh/CompilierFuzzing/similarity/YAML/ch...   \n",
       "..                                                ...   \n",
       "95  /data/minh/CompilierFuzzing/similarity/YAML/ch...   \n",
       "96  /data/minh/CompilierFuzzing/similarity/YAML/ch...   \n",
       "97  /data/minh/CompilierFuzzing/similarity/YAML/ch...   \n",
       "98  /data/minh/CompilierFuzzing/similarity/YAML/ch...   \n",
       "99  /data/minh/CompilierFuzzing/similarity/YAML/ch...   \n",
       "\n",
       "                                                inter  over  sil  elbow  \n",
       "0   digraph graphname {\\n1644 [label=\"category_nam...     0    0      0  \n",
       "1   digraph graphname {\\n1647 [label=\"var: db.secr...    12    4      2  \n",
       "2   digraph graphname {\\n1651 [label=\"enabled: Tru...     2    3      3  \n",
       "3   digraph graphname {\\n1654 [label=\"msg: This is...     3    8      4  \n",
       "4   digraph graphname {\\n1660 [label=\"repo: deb ht...     2    3      3  \n",
       "..                                                ...   ...  ...    ...  \n",
       "95  digraph graphname {\\n1961 [label=\"name: Displa...     2    3      3  \n",
       "96  digraph graphname {\\n1964 [label=\"var: {{ rand...    19    5      5  \n",
       "97  digraph graphname {\\n1968 [label=\"image: nginx...     0    0      0  \n",
       "98  digraph graphname {\\n1970 [label=\"command: ans...     2    3      3  \n",
       "99  digraph graphname {\\n1973 [label=\"msg: Hello, ...     0    0      0  \n",
       "\n",
       "[100 rows x 5 columns]"
      ]
     },
     "execution_count": 94,
     "metadata": {},
     "output_type": "execute_result"
    }
   ],
   "source": [
    "df"
   ]
  },
  {
   "cell_type": "code",
   "execution_count": 97,
   "metadata": {},
   "outputs": [
    {
     "data": {
      "image/png": "[encoded data removed]",
      "text/plain": [
       "<Figure size 640x480 with 1 Axes>"
      ]
     },
     "metadata": {},
     "output_type": "display_data"
    }
   ],
   "source": [
    "import numpy as np\n",
    "import matplotlib.pyplot as plt\n",
    "from sklearn.manifold import TSNE\n",
    "\n",
    "# Assume you have a distance matrix called 'dist_matrix'\n",
    "\n",
    "# Use t-SNE for dimensionality reduction\n",
    "tsne = TSNE(n_components=2, random_state=42)\n",
    "reduced_data = tsne.fit_transform(dist_matrix)\n",
    "\n",
    "# Separate the 2D coordinates\n",
    "x_coords = reduced_data[:, 0]\n",
    "y_coords = reduced_data[:, 1]\n",
    "\n",
    "# Create a scatter plot\n",
    "plt.scatter(x_coords, y_coords)\n",
    "\n",
    "# Label each point with its index (optional)\n",
    "for i, txt in enumerate(range(len(x_coords))):\n",
    "    plt.annotate(txt, (x_coords[i], y_coords[i]))\n",
    "\n",
    "# Display the plot\n",
    "plt.xlabel('t-SNE 1')\n",
    "plt.ylabel('t-SNE 2')\n",
    "plt.title('YAML Graphs - t-SNE Visualization')\n",
    "plt.show()"
   ]
  },
  {
   "cell_type": "code",
   "execution_count": 98,
   "metadata": {},
   "outputs": [
    {
     "ename": "SystemError",
     "evalue": "initialization of _internal failed without raising an exception",
     "output_type": "error",
     "traceback": [
      "\u001b[0;31m---------------------------------------------------------------------------\u001b[0m",
      "\u001b[0;31mSystemError\u001b[0m                               Traceback (most recent call last)",
      "Cell \u001b[0;32mIn[98], line 3\u001b[0m\n\u001b[1;32m      1\u001b[0m \u001b[39mimport\u001b[39;00m \u001b[39mnumpy\u001b[39;00m \u001b[39mas\u001b[39;00m \u001b[39mnp\u001b[39;00m\n\u001b[1;32m      2\u001b[0m \u001b[39mimport\u001b[39;00m \u001b[39mmatplotlib\u001b[39;00m\u001b[39m.\u001b[39;00m\u001b[39mpyplot\u001b[39;00m \u001b[39mas\u001b[39;00m \u001b[39mplt\u001b[39;00m\n\u001b[0;32m----> 3\u001b[0m \u001b[39mimport\u001b[39;00m \u001b[39mumap\u001b[39;00m\n\u001b[1;32m      5\u001b[0m \u001b[39m# Assume you have a distance matrix called 'dist_matrix'\u001b[39;00m\n\u001b[1;32m      6\u001b[0m \n\u001b[1;32m      7\u001b[0m \u001b[39m# Use UMAP for dimensionality reduction\u001b[39;00m\n\u001b[1;32m      8\u001b[0m reducer \u001b[39m=\u001b[39m umap\u001b[39m.\u001b[39mUMAP(n_components\u001b[39m=\u001b[39m\u001b[39m2\u001b[39m, metric\u001b[39m=\u001b[39m\u001b[39m'\u001b[39m\u001b[39mprecomputed\u001b[39m\u001b[39m'\u001b[39m, random_state\u001b[39m=\u001b[39m\u001b[39m42\u001b[39m)\n",
      "File \u001b[0;32m/data/minh/anaconda3/envs/fuzz/lib/python3.10/site-packages/umap/__init__.py:2\u001b[0m\n\u001b[1;32m      1\u001b[0m \u001b[39mfrom\u001b[39;00m \u001b[39mwarnings\u001b[39;00m \u001b[39mimport\u001b[39;00m warn, catch_warnings, simplefilter\n\u001b[0;32m----> 2\u001b[0m \u001b[39mfrom\u001b[39;00m \u001b[39m.\u001b[39;00m\u001b[39mumap_\u001b[39;00m \u001b[39mimport\u001b[39;00m UMAP\n\u001b[1;32m      4\u001b[0m \u001b[39mtry\u001b[39;00m:\n\u001b[1;32m      5\u001b[0m     \u001b[39mwith\u001b[39;00m catch_warnings():\n",
      "File \u001b[0;32m/data/minh/anaconda3/envs/fuzz/lib/python3.10/site-packages/umap/umap_.py:28\u001b[0m\n\u001b[1;32m     26\u001b[0m \u001b[39mfrom\u001b[39;00m \u001b[39mscipy\u001b[39;00m\u001b[39m.\u001b[39;00m\u001b[39msparse\u001b[39;00m \u001b[39mimport\u001b[39;00m tril \u001b[39mas\u001b[39;00m sparse_tril, triu \u001b[39mas\u001b[39;00m sparse_triu\n\u001b[1;32m     27\u001b[0m \u001b[39mimport\u001b[39;00m \u001b[39mscipy\u001b[39;00m\u001b[39m.\u001b[39;00m\u001b[39msparse\u001b[39;00m\u001b[39m.\u001b[39;00m\u001b[39mcsgraph\u001b[39;00m\n\u001b[0;32m---> 28\u001b[0m \u001b[39mimport\u001b[39;00m \u001b[39mnumba\u001b[39;00m\n\u001b[1;32m     30\u001b[0m \u001b[39mimport\u001b[39;00m \u001b[39mumap\u001b[39;00m\u001b[39m.\u001b[39;00m\u001b[39mdistances\u001b[39;00m \u001b[39mas\u001b[39;00m \u001b[39mdist\u001b[39;00m\n\u001b[1;32m     32\u001b[0m \u001b[39mimport\u001b[39;00m \u001b[39mumap\u001b[39;00m\u001b[39m.\u001b[39;00m\u001b[39msparse\u001b[39;00m \u001b[39mas\u001b[39;00m \u001b[39msparse\u001b[39;00m\n",
      "File \u001b[0;32m/data/minh/anaconda3/envs/fuzz/lib/python3.10/site-packages/numba/__init__.py:42\u001b[0m\n\u001b[1;32m     38\u001b[0m \u001b[39mfrom\u001b[39;00m \u001b[39mnumba\u001b[39;00m\u001b[39m.\u001b[39;00m\u001b[39mcore\u001b[39;00m\u001b[39m.\u001b[39;00m\u001b[39mdecorators\u001b[39;00m \u001b[39mimport\u001b[39;00m (cfunc, generated_jit, jit, njit, stencil,\n\u001b[1;32m     39\u001b[0m                                    jit_module)\n\u001b[1;32m     41\u001b[0m \u001b[39m# Re-export vectorize decorators and the thread layer querying function\u001b[39;00m\n\u001b[0;32m---> 42\u001b[0m \u001b[39mfrom\u001b[39;00m \u001b[39mnumba\u001b[39;00m\u001b[39m.\u001b[39;00m\u001b[39mnp\u001b[39;00m\u001b[39m.\u001b[39;00m\u001b[39mufunc\u001b[39;00m \u001b[39mimport\u001b[39;00m (vectorize, guvectorize, threading_layer,\n\u001b[1;32m     43\u001b[0m                             get_num_threads, set_num_threads,\n\u001b[1;32m     44\u001b[0m                             set_parallel_chunksize, get_parallel_chunksize,\n\u001b[1;32m     45\u001b[0m                             get_thread_id)\n\u001b[1;32m     47\u001b[0m \u001b[39m# Re-export Numpy helpers\u001b[39;00m\n\u001b[1;32m     48\u001b[0m \u001b[39mfrom\u001b[39;00m \u001b[39mnumba\u001b[39;00m\u001b[39m.\u001b[39;00m\u001b[39mnp\u001b[39;00m\u001b[39m.\u001b[39;00m\u001b[39mnumpy_support\u001b[39;00m \u001b[39mimport\u001b[39;00m carray, farray, from_dtype\n",
      "File \u001b[0;32m/data/minh/anaconda3/envs/fuzz/lib/python3.10/site-packages/numba/np/ufunc/__init__.py:3\u001b[0m\n\u001b[1;32m      1\u001b[0m \u001b[39m# -*- coding: utf-8 -*-\u001b[39;00m\n\u001b[0;32m----> 3\u001b[0m \u001b[39mfrom\u001b[39;00m \u001b[39mnumba\u001b[39;00m\u001b[39m.\u001b[39;00m\u001b[39mnp\u001b[39;00m\u001b[39m.\u001b[39;00m\u001b[39mufunc\u001b[39;00m\u001b[39m.\u001b[39;00m\u001b[39mdecorators\u001b[39;00m \u001b[39mimport\u001b[39;00m Vectorize, GUVectorize, vectorize, guvectorize\n\u001b[1;32m      4\u001b[0m \u001b[39mfrom\u001b[39;00m \u001b[39mnumba\u001b[39;00m\u001b[39m.\u001b[39;00m\u001b[39mnp\u001b[39;00m\u001b[39m.\u001b[39;00m\u001b[39mufunc\u001b[39;00m\u001b[39m.\u001b[39;00m\u001b[39m_internal\u001b[39;00m \u001b[39mimport\u001b[39;00m PyUFunc_None, PyUFunc_Zero, PyUFunc_One\n\u001b[1;32m      5\u001b[0m \u001b[39mfrom\u001b[39;00m \u001b[39mnumba\u001b[39;00m\u001b[39m.\u001b[39;00m\u001b[39mnp\u001b[39;00m\u001b[39m.\u001b[39;00m\u001b[39mufunc\u001b[39;00m \u001b[39mimport\u001b[39;00m _internal, array_exprs\n",
      "File \u001b[0;32m/data/minh/anaconda3/envs/fuzz/lib/python3.10/site-packages/numba/np/ufunc/decorators.py:3\u001b[0m\n\u001b[1;32m      1\u001b[0m \u001b[39mimport\u001b[39;00m \u001b[39minspect\u001b[39;00m\n\u001b[0;32m----> 3\u001b[0m \u001b[39mfrom\u001b[39;00m \u001b[39mnumba\u001b[39;00m\u001b[39m.\u001b[39;00m\u001b[39mnp\u001b[39;00m\u001b[39m.\u001b[39;00m\u001b[39mufunc\u001b[39;00m \u001b[39mimport\u001b[39;00m _internal\n\u001b[1;32m      4\u001b[0m \u001b[39mfrom\u001b[39;00m \u001b[39mnumba\u001b[39;00m\u001b[39m.\u001b[39;00m\u001b[39mnp\u001b[39;00m\u001b[39m.\u001b[39;00m\u001b[39mufunc\u001b[39;00m\u001b[39m.\u001b[39;00m\u001b[39mparallel\u001b[39;00m \u001b[39mimport\u001b[39;00m ParallelUFuncBuilder, ParallelGUFuncBuilder\n\u001b[1;32m      6\u001b[0m \u001b[39mfrom\u001b[39;00m \u001b[39mnumba\u001b[39;00m\u001b[39m.\u001b[39;00m\u001b[39mcore\u001b[39;00m\u001b[39m.\u001b[39;00m\u001b[39mregistry\u001b[39;00m \u001b[39mimport\u001b[39;00m DelayedRegistry\n",
      "\u001b[0;31mSystemError\u001b[0m: initialization of _internal failed without raising an exception"
     ]
    }
   ],
   "source": [
    "import numpy as np\n",
    "import matplotlib.pyplot as plt\n",
    "import umap\n",
    "\n",
    "# Assume you have a distance matrix called 'dist_matrix'\n",
    "\n",
    "# Use UMAP for dimensionality reduction\n",
    "reducer = umap.UMAP(n_components=2, metric='precomputed', random_state=42)\n",
    "reduced_data = reducer.fit_transform(dist_matrix)\n",
    "\n",
    "# Separate the 2D coordinates\n",
    "x_coords = reduced_data[:, 0]\n",
    "y_coords = reduced_data[:, 1]\n",
    "\n",
    "# Create a scatter plot\n",
    "plt.scatter(x_coords, y_coords)\n",
    "\n",
    "# Label each point with its index (optional)\n",
    "for i, txt in enumerate(range(len(x_coords))):\n",
    "    plt.annotate(txt, (x_coords[i], y_coords[i]))\n",
    "\n",
    "# Display the plot\n",
    "plt.xlabel('UMAP 1')\n",
    "plt.ylabel('UMAP 2')\n",
    "plt.title('YAML Graphs - UMAP Visualization')\n",
    "plt.show()"
   ]
  }
 ],
 "metadata": {
  "kernelspec": {
   "display_name": "fuzz",
   "language": "python",
   "name": "python3"
  },
  "language_info": {
   "codemirror_mode": {
    "name": "ipython",
    "version": 3
   },
   "file_extension": ".py",
   "mimetype": "text/x-python",
   "name": "python",
   "nbconvert_exporter": "python",
   "pygments_lexer": "ipython3",
   "version": "3.10.9"
  },
  "orig_nbformat": 4,
  "vscode": {
   "interpreter": {
    "hash": "724a360e4b1668c4bd0799b375a72d1784ce9ecca15a60916be0b4894d1ed324"
   }
  }
 },
 "nbformat": 4,
 "nbformat_minor": 2
}
