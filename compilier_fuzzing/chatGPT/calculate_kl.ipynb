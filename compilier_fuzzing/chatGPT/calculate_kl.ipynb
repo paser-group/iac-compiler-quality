{
 "cells": [
  {
   "cell_type": "code",
   "execution_count": 1,
   "metadata": {},
   "outputs": [],
   "source": [
    "import pandas as pd\n",
    "df = pd.read_feather('../data/chatgpt/chatgpt_yaml.feather')"
   ]
  },
  {
   "cell_type": "code",
   "execution_count": 2,
   "metadata": {},
   "outputs": [
    {
     "name": "stdout",
     "output_type": "stream",
     "text": [
      "Number of playbooks created: 11\n"
     ]
    }
   ],
   "source": [
    "print(\"Number of playbooks created:\", (df.output != '').sum())"
   ]
  },
  {
   "cell_type": "code",
   "execution_count": 3,
   "metadata": {},
   "outputs": [
    {
     "data": {
      "text/html": [
       "<div>\n",
       "<style scoped>\n",
       "    .dataframe tbody tr th:only-of-type {\n",
       "        vertical-align: middle;\n",
       "    }\n",
       "\n",
       "    .dataframe tbody tr th {\n",
       "        vertical-align: top;\n",
       "    }\n",
       "\n",
       "    .dataframe thead th {\n",
       "        text-align: right;\n",
       "    }\n",
       "</style>\n",
       "<table border=\"1\" class=\"dataframe\">\n",
       "  <thead>\n",
       "    <tr style=\"text-align: right;\">\n",
       "      <th></th>\n",
       "      <th>title</th>\n",
       "      <th>body</th>\n",
       "      <th>prompt</th>\n",
       "      <th>output</th>\n",
       "    </tr>\n",
       "  </thead>\n",
       "  <tbody>\n",
       "    <tr>\n",
       "      <th>0</th>\n",
       "      <td>ansible windows update module does not work in...</td>\n",
       "      <td>### Summary\\r\\n\\r\\nWhen running playbook for w...</td>\n",
       "      <td>Create an Ansible playbook to exhibit the foll...</td>\n",
       "      <td>\\n\\n---\\n- hosts: all\\n  become: true\\n  tasks...</td>\n",
       "    </tr>\n",
       "    <tr>\n",
       "      <th>1</th>\n",
       "      <td>\"is defined\" reporting false for variable that...</td>\n",
       "      <td>### Summary\\n\\nGiven the following variable:\\r...</td>\n",
       "      <td>Create an Ansible playbook to exhibit the foll...</td>\n",
       "      <td>\\n\\n---\\n\\n- hosts: all\\n  become: true\\n  tas...</td>\n",
       "    </tr>\n",
       "    <tr>\n",
       "      <th>2</th>\n",
       "      <td>Systemd user services cannot be enabled globally</td>\n",
       "      <td>### Summary\\n\\nWhen trying to install a system...</td>\n",
       "      <td>Create an Ansible playbook to exhibit the foll...</td>\n",
       "      <td>\\n\\n---\\n- name: Install yum on RHEL5\\n  hosts...</td>\n",
       "    </tr>\n",
       "    <tr>\n",
       "      <th>3</th>\n",
       "      <td>Conditionnal bug report</td>\n",
       "      <td>### Summary\\n\\nHello, I am just trying to chec...</td>\n",
       "      <td>Create an Ansible playbook to exhibit the foll...</td>\n",
       "      <td>\\n\\n---\\n- name: install yum package on RHEL5\\...</td>\n",
       "    </tr>\n",
       "    <tr>\n",
       "      <th>4</th>\n",
       "      <td>apt_repository: The repository ...  does not h...</td>\n",
       "      <td>### Summary\\r\\n\\r\\nGiven:  \\r\\n\\r\\n```\\r\\n- na...</td>\n",
       "      <td>Create an Ansible playbook to exhibit the foll...</td>\n",
       "      <td>\\n\\n---\\n- name: Install yum package on RHEL5\\...</td>\n",
       "    </tr>\n",
       "    <tr>\n",
       "      <th>...</th>\n",
       "      <td>...</td>\n",
       "      <td>...</td>\n",
       "      <td>...</td>\n",
       "      <td>...</td>\n",
       "    </tr>\n",
       "    <tr>\n",
       "      <th>18764</th>\n",
       "      <td>aysnc Throws jid Error When Using with_pipe Lo...</td>\n",
       "      <td>Using this task definition:\\n\\n```\\n 33   - co...</td>\n",
       "      <td>Create an Ansible playbook to exhibit the foll...</td>\n",
       "      <td></td>\n",
       "    </tr>\n",
       "    <tr>\n",
       "      <th>18765</th>\n",
       "      <td>Problem running playbook with path that includ...</td>\n",
       "      <td>I'm just learning Ansible and ran into a probl...</td>\n",
       "      <td>Create an Ansible playbook to exhibit the foll...</td>\n",
       "      <td></td>\n",
       "    </tr>\n",
       "    <tr>\n",
       "      <th>18766</th>\n",
       "      <td>Gem install fails on installing current versio...</td>\n",
       "      <td>It seems to be pulling the wrong requirements ...</td>\n",
       "      <td>Create an Ansible playbook to exhibit the foll...</td>\n",
       "      <td></td>\n",
       "    </tr>\n",
       "    <tr>\n",
       "      <th>18767</th>\n",
       "      <td>git module doesn't handle switching repos</td>\n",
       "      <td>If git module is used without \"remote\" paramet...</td>\n",
       "      <td>Create an Ansible playbook to exhibit the foll...</td>\n",
       "      <td></td>\n",
       "    </tr>\n",
       "    <tr>\n",
       "      <th>18768</th>\n",
       "      <td>yum package installation fails on RHEL5 with R...</td>\n",
       "      <td>When using a playbook to install a package I g...</td>\n",
       "      <td>Create an Ansible playbook to exhibit the foll...</td>\n",
       "      <td></td>\n",
       "    </tr>\n",
       "  </tbody>\n",
       "</table>\n",
       "<p>18769 rows × 4 columns</p>\n",
       "</div>"
      ],
      "text/plain": [
       "                                                   title  \\\n",
       "0      ansible windows update module does not work in...   \n",
       "1      \"is defined\" reporting false for variable that...   \n",
       "2       Systemd user services cannot be enabled globally   \n",
       "3                                Conditionnal bug report   \n",
       "4      apt_repository: The repository ...  does not h...   \n",
       "...                                                  ...   \n",
       "18764  aysnc Throws jid Error When Using with_pipe Lo...   \n",
       "18765  Problem running playbook with path that includ...   \n",
       "18766  Gem install fails on installing current versio...   \n",
       "18767          git module doesn't handle switching repos   \n",
       "18768  yum package installation fails on RHEL5 with R...   \n",
       "\n",
       "                                                    body  \\\n",
       "0      ### Summary\\r\\n\\r\\nWhen running playbook for w...   \n",
       "1      ### Summary\\n\\nGiven the following variable:\\r...   \n",
       "2      ### Summary\\n\\nWhen trying to install a system...   \n",
       "3      ### Summary\\n\\nHello, I am just trying to chec...   \n",
       "4      ### Summary\\r\\n\\r\\nGiven:  \\r\\n\\r\\n```\\r\\n- na...   \n",
       "...                                                  ...   \n",
       "18764  Using this task definition:\\n\\n```\\n 33   - co...   \n",
       "18765  I'm just learning Ansible and ran into a probl...   \n",
       "18766  It seems to be pulling the wrong requirements ...   \n",
       "18767  If git module is used without \"remote\" paramet...   \n",
       "18768  When using a playbook to install a package I g...   \n",
       "\n",
       "                                                  prompt  \\\n",
       "0      Create an Ansible playbook to exhibit the foll...   \n",
       "1      Create an Ansible playbook to exhibit the foll...   \n",
       "2      Create an Ansible playbook to exhibit the foll...   \n",
       "3      Create an Ansible playbook to exhibit the foll...   \n",
       "4      Create an Ansible playbook to exhibit the foll...   \n",
       "...                                                  ...   \n",
       "18764  Create an Ansible playbook to exhibit the foll...   \n",
       "18765  Create an Ansible playbook to exhibit the foll...   \n",
       "18766  Create an Ansible playbook to exhibit the foll...   \n",
       "18767  Create an Ansible playbook to exhibit the foll...   \n",
       "18768  Create an Ansible playbook to exhibit the foll...   \n",
       "\n",
       "                                                  output  \n",
       "0      \\n\\n---\\n- hosts: all\\n  become: true\\n  tasks...  \n",
       "1      \\n\\n---\\n\\n- hosts: all\\n  become: true\\n  tas...  \n",
       "2      \\n\\n---\\n- name: Install yum on RHEL5\\n  hosts...  \n",
       "3      \\n\\n---\\n- name: install yum package on RHEL5\\...  \n",
       "4      \\n\\n---\\n- name: Install yum package on RHEL5\\...  \n",
       "...                                                  ...  \n",
       "18764                                                     \n",
       "18765                                                     \n",
       "18766                                                     \n",
       "18767                                                     \n",
       "18768                                                     \n",
       "\n",
       "[18769 rows x 4 columns]"
      ]
     },
     "execution_count": 3,
     "metadata": {},
     "output_type": "execute_result"
    }
   ],
   "source": [
    "df"
   ]
  },
  {
   "cell_type": "code",
   "execution_count": null,
   "metadata": {},
   "outputs": [],
   "source": []
  },
  {
   "cell_type": "code",
   "execution_count": 30,
   "metadata": {},
   "outputs": [],
   "source": [
    "from sklearn.feature_extraction.text import CountVectorizer\n",
    "import numpy as np\n",
    "\n",
    "def calculate_kl(sentence1, sentence2):\n",
    "\n",
    "    corpus = [sentence1, sentence2]\n",
    "    vectorizer = CountVectorizer()\n",
    "    bow_matrix = vectorizer.fit_transform(corpus)\n",
    "\n",
    "    smoothing_factor = 0.0001\n",
    "    hist1 = (bow_matrix[0].toarray().flatten() + smoothing_factor) / (sum(bow_matrix[0].toarray().flatten()) + smoothing_factor * bow_matrix.shape[1])\n",
    "    hist2 = (bow_matrix[1].toarray().flatten() + smoothing_factor) / (sum(bow_matrix[1].toarray().flatten()) + smoothing_factor * bow_matrix.shape[1])\n",
    "\n",
    "    kl_divergence = np.sum(hist1 * np.log2(hist1 / hist2))\n",
    "    \n",
    "    return kl_divergence"
   ]
  },
  {
   "cell_type": "code",
   "execution_count": null,
   "metadata": {},
   "outputs": [],
   "source": []
  },
  {
   "cell_type": "code",
   "execution_count": null,
   "metadata": {},
   "outputs": [],
   "source": [
    "df['kl'] = df['output'].apply(calculate_kl(), axis=1)"
   ]
  }
 ],
 "metadata": {
  "kernelspec": {
   "display_name": "ansible",
   "language": "python",
   "name": "python3"
  },
  "language_info": {
   "codemirror_mode": {
    "name": "ipython",
    "version": 3
   },
   "file_extension": ".py",
   "mimetype": "text/x-python",
   "name": "python",
   "nbconvert_exporter": "python",
   "pygments_lexer": "ipython3",
   "version": "3.10.9"
  },
  "orig_nbformat": 4,
  "vscode": {
   "interpreter": {
    "hash": "8e7d1722b9540128cc6c4f9aed36155fb4486e41c5d7b4b70de65ffd48074c1d"
   }
  }
 },
 "nbformat": 4,
 "nbformat_minor": 2
}
