{
 "cells": [
  {
   "cell_type": "code",
   "execution_count": 20,
   "metadata": {},
   "outputs": [],
   "source": [
    "import openai\n",
    "from tqdm import tqdm\n",
    "openai.api_key = \"your_key_here\"\n",
    "\n",
    "def generate_playbook(prompt):\n",
    "    completions = openai.Completion.create(\n",
    "        engine=\"text-davinci-003\",\n",
    "        prompt='prompt',\n",
    "        max_tokens=1024,\n",
    "        n=1,\n",
    "        stop=None,\n",
    "        temperature=0.5,\n",
    "    )\n",
    "    return completions"
   ]
  },
  {
   "cell_type": "code",
   "execution_count": 21,
   "metadata": {},
   "outputs": [],
   "source": [
    "answer = generate_playbook('can you create negation for this sentence : \" I go to school\"')"
   ]
  },
  {
   "cell_type": "code",
   "execution_count": 28,
   "metadata": {},
   "outputs": [
    {
     "data": {
      "text/plain": [
       "\"s/prompt_3.js\\n §§ 1000\\n+// Prompt 3\\n+\\n+// Write a function that takes a string as an argument and returns the same string with the first letter of each word capitalized.\\n+\\n+const capitalizeString = (string) => {\\n+  let wordsArray = string.split(' ');\\n+  let capitalizedString = '';\\n+\\n+  for(let i = 0; i < wordsArray.length; i++) {\\n+    let currentWord = wordsArray[i];\\n+    let capitalizedWord = currentWord.charAt(0).toUpperCase() + currentWord.slice(1);\\n+    capitalizedString += capitalizedWord + ' ';\\n+  }\\n+\\n+  return capitalizedString.trim();\\n+};\\n+\\n+console.log(capitalizeString('hello there my friend')); // 'Hello There My Friend'\\n\""
      ]
     },
     "execution_count": 28,
     "metadata": {},
     "output_type": "execute_result"
    }
   ],
   "source": [
    "answer.choices[0].text"
   ]
  },
  {
   "cell_type": "code",
   "execution_count": 7,
   "metadata": {},
   "outputs": [],
   "source": [
    "import pandas as pd\n",
    "df = pd.read_feather('../data/chatgpt/chatgpt_yaml.feather')"
   ]
  },
  {
   "cell_type": "code",
   "execution_count": 4,
   "metadata": {},
   "outputs": [],
   "source": [
    "df['prompt'] = \"Create an Ansible playbook to exhibit the following issue: \" + df['title']"
   ]
  },
  {
   "cell_type": "code",
   "execution_count": 5,
   "metadata": {},
   "outputs": [],
   "source": [
    "df['output'] = ''"
   ]
  },
  {
   "cell_type": "code",
   "execution_count": 14,
   "metadata": {},
   "outputs": [
    {
     "name": "stderr",
     "output_type": "stream",
     "text": [
      "Generating playbooks: 90it [15:50, 10.56s/it]\n"
     ]
    },
    {
     "ename": "KeyboardInterrupt",
     "evalue": "",
     "output_type": "error",
     "traceback": [
      "\u001b[0;31m---------------------------------------------------------------------------\u001b[0m",
      "\u001b[0;31mKeyboardInterrupt\u001b[0m                         Traceback (most recent call last)",
      "Cell \u001b[0;32mIn[14], line 4\u001b[0m\n\u001b[1;32m      2\u001b[0m \u001b[39mfor\u001b[39;00m ind \u001b[39min\u001b[39;00m df\u001b[39m.\u001b[39mindex:\n\u001b[1;32m      3\u001b[0m     \u001b[39mif\u001b[39;00m df\u001b[39m.\u001b[39miloc[ind][\u001b[39m'\u001b[39m\u001b[39moutput\u001b[39m\u001b[39m'\u001b[39m] \u001b[39m==\u001b[39m \u001b[39m'\u001b[39m\u001b[39m'\u001b[39m:\n\u001b[0;32m----> 4\u001b[0m         df\u001b[39m.\u001b[39miloc[ind][\u001b[39m'\u001b[39m\u001b[39moutput\u001b[39m\u001b[39m'\u001b[39m] \u001b[39m=\u001b[39m generate_playbook(df\u001b[39m.\u001b[39;49miloc[ind][\u001b[39m'\u001b[39;49m\u001b[39mprompt\u001b[39;49m\u001b[39m'\u001b[39;49m])\u001b[39m.\u001b[39mchoices[\u001b[39m0\u001b[39m]\u001b[39m.\u001b[39mtext\n\u001b[1;32m      5\u001b[0m         pbar\u001b[39m.\u001b[39mupdate(\u001b[39m1\u001b[39m)\n",
      "Cell \u001b[0;32mIn[1], line 6\u001b[0m, in \u001b[0;36mgenerate_playbook\u001b[0;34m(prompt)\u001b[0m\n\u001b[1;32m      5\u001b[0m \u001b[39mdef\u001b[39;00m \u001b[39mgenerate_playbook\u001b[39m(prompt):\n\u001b[0;32m----> 6\u001b[0m     completions \u001b[39m=\u001b[39m openai\u001b[39m.\u001b[39;49mCompletion\u001b[39m.\u001b[39;49mcreate(\n\u001b[1;32m      7\u001b[0m         engine\u001b[39m=\u001b[39;49m\u001b[39m\"\u001b[39;49m\u001b[39mtext-davinci-003\u001b[39;49m\u001b[39m\"\u001b[39;49m,\n\u001b[1;32m      8\u001b[0m         prompt\u001b[39m=\u001b[39;49mprompt,\n\u001b[1;32m      9\u001b[0m         max_tokens\u001b[39m=\u001b[39;49m\u001b[39m1024\u001b[39;49m,\n\u001b[1;32m     10\u001b[0m         n\u001b[39m=\u001b[39;49m\u001b[39m1\u001b[39;49m,\n\u001b[1;32m     11\u001b[0m         stop\u001b[39m=\u001b[39;49m\u001b[39mNone\u001b[39;49;00m,\n\u001b[1;32m     12\u001b[0m         temperature\u001b[39m=\u001b[39;49m\u001b[39m0.5\u001b[39;49m,\n\u001b[1;32m     13\u001b[0m     )\n\u001b[1;32m     14\u001b[0m     \u001b[39mreturn\u001b[39;00m completions\n",
      "File \u001b[0;32m/data/minh/anaconda3/envs/ansible/lib/python3.10/site-packages/openai/api_resources/completion.py:25\u001b[0m, in \u001b[0;36mCompletion.create\u001b[0;34m(cls, *args, **kwargs)\u001b[0m\n\u001b[1;32m     23\u001b[0m \u001b[39mwhile\u001b[39;00m \u001b[39mTrue\u001b[39;00m:\n\u001b[1;32m     24\u001b[0m     \u001b[39mtry\u001b[39;00m:\n\u001b[0;32m---> 25\u001b[0m         \u001b[39mreturn\u001b[39;00m \u001b[39msuper\u001b[39;49m()\u001b[39m.\u001b[39;49mcreate(\u001b[39m*\u001b[39;49margs, \u001b[39m*\u001b[39;49m\u001b[39m*\u001b[39;49mkwargs)\n\u001b[1;32m     26\u001b[0m     \u001b[39mexcept\u001b[39;00m TryAgain \u001b[39mas\u001b[39;00m e:\n\u001b[1;32m     27\u001b[0m         \u001b[39mif\u001b[39;00m timeout \u001b[39mis\u001b[39;00m \u001b[39mnot\u001b[39;00m \u001b[39mNone\u001b[39;00m \u001b[39mand\u001b[39;00m time\u001b[39m.\u001b[39mtime() \u001b[39m>\u001b[39m start \u001b[39m+\u001b[39m timeout:\n",
      "File \u001b[0;32m/data/minh/anaconda3/envs/ansible/lib/python3.10/site-packages/openai/api_resources/abstract/engine_api_resource.py:153\u001b[0m, in \u001b[0;36mEngineAPIResource.create\u001b[0;34m(cls, api_key, api_base, api_type, request_id, api_version, organization, **params)\u001b[0m\n\u001b[1;32m    127\u001b[0m \u001b[39m@classmethod\u001b[39m\n\u001b[1;32m    128\u001b[0m \u001b[39mdef\u001b[39;00m \u001b[39mcreate\u001b[39m(\n\u001b[1;32m    129\u001b[0m     \u001b[39mcls\u001b[39m,\n\u001b[0;32m   (...)\u001b[0m\n\u001b[1;32m    136\u001b[0m     \u001b[39m*\u001b[39m\u001b[39m*\u001b[39mparams,\n\u001b[1;32m    137\u001b[0m ):\n\u001b[1;32m    138\u001b[0m     (\n\u001b[1;32m    139\u001b[0m         deployment_id,\n\u001b[1;32m    140\u001b[0m         engine,\n\u001b[0;32m   (...)\u001b[0m\n\u001b[1;32m    150\u001b[0m         api_key, api_base, api_type, api_version, organization, \u001b[39m*\u001b[39m\u001b[39m*\u001b[39mparams\n\u001b[1;32m    151\u001b[0m     )\n\u001b[0;32m--> 153\u001b[0m     response, _, api_key \u001b[39m=\u001b[39m requestor\u001b[39m.\u001b[39;49mrequest(\n\u001b[1;32m    154\u001b[0m         \u001b[39m\"\u001b[39;49m\u001b[39mpost\u001b[39;49m\u001b[39m\"\u001b[39;49m,\n\u001b[1;32m    155\u001b[0m         url,\n\u001b[1;32m    156\u001b[0m         params\u001b[39m=\u001b[39;49mparams,\n\u001b[1;32m    157\u001b[0m         headers\u001b[39m=\u001b[39;49mheaders,\n\u001b[1;32m    158\u001b[0m         stream\u001b[39m=\u001b[39;49mstream,\n\u001b[1;32m    159\u001b[0m         request_id\u001b[39m=\u001b[39;49mrequest_id,\n\u001b[1;32m    160\u001b[0m         request_timeout\u001b[39m=\u001b[39;49mrequest_timeout,\n\u001b[1;32m    161\u001b[0m     )\n\u001b[1;32m    163\u001b[0m     \u001b[39mif\u001b[39;00m stream:\n\u001b[1;32m    164\u001b[0m         \u001b[39m# must be an iterator\u001b[39;00m\n\u001b[1;32m    165\u001b[0m         \u001b[39massert\u001b[39;00m \u001b[39mnot\u001b[39;00m \u001b[39misinstance\u001b[39m(response, OpenAIResponse)\n",
      "File \u001b[0;32m/data/minh/anaconda3/envs/ansible/lib/python3.10/site-packages/openai/api_requestor.py:217\u001b[0m, in \u001b[0;36mAPIRequestor.request\u001b[0;34m(self, method, url, params, headers, files, stream, request_id, request_timeout)\u001b[0m\n\u001b[1;32m    206\u001b[0m \u001b[39mdef\u001b[39;00m \u001b[39mrequest\u001b[39m(\n\u001b[1;32m    207\u001b[0m     \u001b[39mself\u001b[39m,\n\u001b[1;32m    208\u001b[0m     method,\n\u001b[0;32m   (...)\u001b[0m\n\u001b[1;32m    215\u001b[0m     request_timeout: Optional[Union[\u001b[39mfloat\u001b[39m, Tuple[\u001b[39mfloat\u001b[39m, \u001b[39mfloat\u001b[39m]]] \u001b[39m=\u001b[39m \u001b[39mNone\u001b[39;00m,\n\u001b[1;32m    216\u001b[0m ) \u001b[39m-\u001b[39m\u001b[39m>\u001b[39m Tuple[Union[OpenAIResponse, Iterator[OpenAIResponse]], \u001b[39mbool\u001b[39m, \u001b[39mstr\u001b[39m]:\n\u001b[0;32m--> 217\u001b[0m     result \u001b[39m=\u001b[39m \u001b[39mself\u001b[39;49m\u001b[39m.\u001b[39;49mrequest_raw(\n\u001b[1;32m    218\u001b[0m         method\u001b[39m.\u001b[39;49mlower(),\n\u001b[1;32m    219\u001b[0m         url,\n\u001b[1;32m    220\u001b[0m         params\u001b[39m=\u001b[39;49mparams,\n\u001b[1;32m    221\u001b[0m         supplied_headers\u001b[39m=\u001b[39;49mheaders,\n\u001b[1;32m    222\u001b[0m         files\u001b[39m=\u001b[39;49mfiles,\n\u001b[1;32m    223\u001b[0m         stream\u001b[39m=\u001b[39;49mstream,\n\u001b[1;32m    224\u001b[0m         request_id\u001b[39m=\u001b[39;49mrequest_id,\n\u001b[1;32m    225\u001b[0m         request_timeout\u001b[39m=\u001b[39;49mrequest_timeout,\n\u001b[1;32m    226\u001b[0m     )\n\u001b[1;32m    227\u001b[0m     resp, got_stream \u001b[39m=\u001b[39m \u001b[39mself\u001b[39m\u001b[39m.\u001b[39m_interpret_response(result, stream)\n\u001b[1;32m    228\u001b[0m     \u001b[39mreturn\u001b[39;00m resp, got_stream, \u001b[39mself\u001b[39m\u001b[39m.\u001b[39mapi_key\n",
      "File \u001b[0;32m/data/minh/anaconda3/envs/ansible/lib/python3.10/site-packages/openai/api_requestor.py:517\u001b[0m, in \u001b[0;36mAPIRequestor.request_raw\u001b[0;34m(self, method, url, params, supplied_headers, files, stream, request_id, request_timeout)\u001b[0m\n\u001b[1;32m    515\u001b[0m     _thread_context\u001b[39m.\u001b[39msession \u001b[39m=\u001b[39m _make_session()\n\u001b[1;32m    516\u001b[0m \u001b[39mtry\u001b[39;00m:\n\u001b[0;32m--> 517\u001b[0m     result \u001b[39m=\u001b[39m _thread_context\u001b[39m.\u001b[39;49msession\u001b[39m.\u001b[39;49mrequest(\n\u001b[1;32m    518\u001b[0m         method,\n\u001b[1;32m    519\u001b[0m         abs_url,\n\u001b[1;32m    520\u001b[0m         headers\u001b[39m=\u001b[39;49mheaders,\n\u001b[1;32m    521\u001b[0m         data\u001b[39m=\u001b[39;49mdata,\n\u001b[1;32m    522\u001b[0m         files\u001b[39m=\u001b[39;49mfiles,\n\u001b[1;32m    523\u001b[0m         stream\u001b[39m=\u001b[39;49mstream,\n\u001b[1;32m    524\u001b[0m         timeout\u001b[39m=\u001b[39;49mrequest_timeout \u001b[39mif\u001b[39;49;00m request_timeout \u001b[39melse\u001b[39;49;00m TIMEOUT_SECS,\n\u001b[1;32m    525\u001b[0m     )\n\u001b[1;32m    526\u001b[0m \u001b[39mexcept\u001b[39;00m requests\u001b[39m.\u001b[39mexceptions\u001b[39m.\u001b[39mTimeout \u001b[39mas\u001b[39;00m e:\n\u001b[1;32m    527\u001b[0m     \u001b[39mraise\u001b[39;00m error\u001b[39m.\u001b[39mTimeout(\u001b[39m\"\u001b[39m\u001b[39mRequest timed out: \u001b[39m\u001b[39m{}\u001b[39;00m\u001b[39m\"\u001b[39m\u001b[39m.\u001b[39mformat(e)) \u001b[39mfrom\u001b[39;00m \u001b[39me\u001b[39;00m\n",
      "File \u001b[0;32m/data/minh/anaconda3/envs/ansible/lib/python3.10/site-packages/requests/sessions.py:587\u001b[0m, in \u001b[0;36mSession.request\u001b[0;34m(self, method, url, params, data, headers, cookies, files, auth, timeout, allow_redirects, proxies, hooks, stream, verify, cert, json)\u001b[0m\n\u001b[1;32m    582\u001b[0m send_kwargs \u001b[39m=\u001b[39m {\n\u001b[1;32m    583\u001b[0m     \u001b[39m\"\u001b[39m\u001b[39mtimeout\u001b[39m\u001b[39m\"\u001b[39m: timeout,\n\u001b[1;32m    584\u001b[0m     \u001b[39m\"\u001b[39m\u001b[39mallow_redirects\u001b[39m\u001b[39m\"\u001b[39m: allow_redirects,\n\u001b[1;32m    585\u001b[0m }\n\u001b[1;32m    586\u001b[0m send_kwargs\u001b[39m.\u001b[39mupdate(settings)\n\u001b[0;32m--> 587\u001b[0m resp \u001b[39m=\u001b[39m \u001b[39mself\u001b[39;49m\u001b[39m.\u001b[39;49msend(prep, \u001b[39m*\u001b[39;49m\u001b[39m*\u001b[39;49msend_kwargs)\n\u001b[1;32m    589\u001b[0m \u001b[39mreturn\u001b[39;00m resp\n",
      "File \u001b[0;32m/data/minh/anaconda3/envs/ansible/lib/python3.10/site-packages/requests/sessions.py:701\u001b[0m, in \u001b[0;36mSession.send\u001b[0;34m(self, request, **kwargs)\u001b[0m\n\u001b[1;32m    698\u001b[0m start \u001b[39m=\u001b[39m preferred_clock()\n\u001b[1;32m    700\u001b[0m \u001b[39m# Send the request\u001b[39;00m\n\u001b[0;32m--> 701\u001b[0m r \u001b[39m=\u001b[39m adapter\u001b[39m.\u001b[39;49msend(request, \u001b[39m*\u001b[39;49m\u001b[39m*\u001b[39;49mkwargs)\n\u001b[1;32m    703\u001b[0m \u001b[39m# Total elapsed time of the request (approximately)\u001b[39;00m\n\u001b[1;32m    704\u001b[0m elapsed \u001b[39m=\u001b[39m preferred_clock() \u001b[39m-\u001b[39m start\n",
      "File \u001b[0;32m/data/minh/anaconda3/envs/ansible/lib/python3.10/site-packages/requests/adapters.py:489\u001b[0m, in \u001b[0;36mHTTPAdapter.send\u001b[0;34m(self, request, stream, timeout, verify, cert, proxies)\u001b[0m\n\u001b[1;32m    487\u001b[0m \u001b[39mtry\u001b[39;00m:\n\u001b[1;32m    488\u001b[0m     \u001b[39mif\u001b[39;00m \u001b[39mnot\u001b[39;00m chunked:\n\u001b[0;32m--> 489\u001b[0m         resp \u001b[39m=\u001b[39m conn\u001b[39m.\u001b[39;49murlopen(\n\u001b[1;32m    490\u001b[0m             method\u001b[39m=\u001b[39;49mrequest\u001b[39m.\u001b[39;49mmethod,\n\u001b[1;32m    491\u001b[0m             url\u001b[39m=\u001b[39;49murl,\n\u001b[1;32m    492\u001b[0m             body\u001b[39m=\u001b[39;49mrequest\u001b[39m.\u001b[39;49mbody,\n\u001b[1;32m    493\u001b[0m             headers\u001b[39m=\u001b[39;49mrequest\u001b[39m.\u001b[39;49mheaders,\n\u001b[1;32m    494\u001b[0m             redirect\u001b[39m=\u001b[39;49m\u001b[39mFalse\u001b[39;49;00m,\n\u001b[1;32m    495\u001b[0m             assert_same_host\u001b[39m=\u001b[39;49m\u001b[39mFalse\u001b[39;49;00m,\n\u001b[1;32m    496\u001b[0m             preload_content\u001b[39m=\u001b[39;49m\u001b[39mFalse\u001b[39;49;00m,\n\u001b[1;32m    497\u001b[0m             decode_content\u001b[39m=\u001b[39;49m\u001b[39mFalse\u001b[39;49;00m,\n\u001b[1;32m    498\u001b[0m             retries\u001b[39m=\u001b[39;49m\u001b[39mself\u001b[39;49m\u001b[39m.\u001b[39;49mmax_retries,\n\u001b[1;32m    499\u001b[0m             timeout\u001b[39m=\u001b[39;49mtimeout,\n\u001b[1;32m    500\u001b[0m         )\n\u001b[1;32m    502\u001b[0m     \u001b[39m# Send the request.\u001b[39;00m\n\u001b[1;32m    503\u001b[0m     \u001b[39melse\u001b[39;00m:\n\u001b[1;32m    504\u001b[0m         \u001b[39mif\u001b[39;00m \u001b[39mhasattr\u001b[39m(conn, \u001b[39m\"\u001b[39m\u001b[39mproxy_pool\u001b[39m\u001b[39m\"\u001b[39m):\n",
      "File \u001b[0;32m/data/minh/anaconda3/envs/ansible/lib/python3.10/site-packages/urllib3/connectionpool.py:703\u001b[0m, in \u001b[0;36mHTTPConnectionPool.urlopen\u001b[0;34m(self, method, url, body, headers, retries, redirect, assert_same_host, timeout, pool_timeout, release_conn, chunked, body_pos, **response_kw)\u001b[0m\n\u001b[1;32m    700\u001b[0m     \u001b[39mself\u001b[39m\u001b[39m.\u001b[39m_prepare_proxy(conn)\n\u001b[1;32m    702\u001b[0m \u001b[39m# Make the request on the httplib connection object.\u001b[39;00m\n\u001b[0;32m--> 703\u001b[0m httplib_response \u001b[39m=\u001b[39m \u001b[39mself\u001b[39;49m\u001b[39m.\u001b[39;49m_make_request(\n\u001b[1;32m    704\u001b[0m     conn,\n\u001b[1;32m    705\u001b[0m     method,\n\u001b[1;32m    706\u001b[0m     url,\n\u001b[1;32m    707\u001b[0m     timeout\u001b[39m=\u001b[39;49mtimeout_obj,\n\u001b[1;32m    708\u001b[0m     body\u001b[39m=\u001b[39;49mbody,\n\u001b[1;32m    709\u001b[0m     headers\u001b[39m=\u001b[39;49mheaders,\n\u001b[1;32m    710\u001b[0m     chunked\u001b[39m=\u001b[39;49mchunked,\n\u001b[1;32m    711\u001b[0m )\n\u001b[1;32m    713\u001b[0m \u001b[39m# If we're going to release the connection in ``finally:``, then\u001b[39;00m\n\u001b[1;32m    714\u001b[0m \u001b[39m# the response doesn't need to know about the connection. Otherwise\u001b[39;00m\n\u001b[1;32m    715\u001b[0m \u001b[39m# it will also try to release it and we'll have a double-release\u001b[39;00m\n\u001b[1;32m    716\u001b[0m \u001b[39m# mess.\u001b[39;00m\n\u001b[1;32m    717\u001b[0m response_conn \u001b[39m=\u001b[39m conn \u001b[39mif\u001b[39;00m \u001b[39mnot\u001b[39;00m release_conn \u001b[39melse\u001b[39;00m \u001b[39mNone\u001b[39;00m\n",
      "File \u001b[0;32m/data/minh/anaconda3/envs/ansible/lib/python3.10/site-packages/urllib3/connectionpool.py:449\u001b[0m, in \u001b[0;36mHTTPConnectionPool._make_request\u001b[0;34m(self, conn, method, url, timeout, chunked, **httplib_request_kw)\u001b[0m\n\u001b[1;32m    444\u001b[0m             httplib_response \u001b[39m=\u001b[39m conn\u001b[39m.\u001b[39mgetresponse()\n\u001b[1;32m    445\u001b[0m         \u001b[39mexcept\u001b[39;00m \u001b[39mBaseException\u001b[39;00m \u001b[39mas\u001b[39;00m e:\n\u001b[1;32m    446\u001b[0m             \u001b[39m# Remove the TypeError from the exception chain in\u001b[39;00m\n\u001b[1;32m    447\u001b[0m             \u001b[39m# Python 3 (including for exceptions like SystemExit).\u001b[39;00m\n\u001b[1;32m    448\u001b[0m             \u001b[39m# Otherwise it looks like a bug in the code.\u001b[39;00m\n\u001b[0;32m--> 449\u001b[0m             six\u001b[39m.\u001b[39;49mraise_from(e, \u001b[39mNone\u001b[39;49;00m)\n\u001b[1;32m    450\u001b[0m \u001b[39mexcept\u001b[39;00m (SocketTimeout, BaseSSLError, SocketError) \u001b[39mas\u001b[39;00m e:\n\u001b[1;32m    451\u001b[0m     \u001b[39mself\u001b[39m\u001b[39m.\u001b[39m_raise_timeout(err\u001b[39m=\u001b[39me, url\u001b[39m=\u001b[39murl, timeout_value\u001b[39m=\u001b[39mread_timeout)\n",
      "File \u001b[0;32m<string>:3\u001b[0m, in \u001b[0;36mraise_from\u001b[0;34m(value, from_value)\u001b[0m\n",
      "File \u001b[0;32m/data/minh/anaconda3/envs/ansible/lib/python3.10/site-packages/urllib3/connectionpool.py:444\u001b[0m, in \u001b[0;36mHTTPConnectionPool._make_request\u001b[0;34m(self, conn, method, url, timeout, chunked, **httplib_request_kw)\u001b[0m\n\u001b[1;32m    441\u001b[0m \u001b[39mexcept\u001b[39;00m \u001b[39mTypeError\u001b[39;00m:\n\u001b[1;32m    442\u001b[0m     \u001b[39m# Python 3\u001b[39;00m\n\u001b[1;32m    443\u001b[0m     \u001b[39mtry\u001b[39;00m:\n\u001b[0;32m--> 444\u001b[0m         httplib_response \u001b[39m=\u001b[39m conn\u001b[39m.\u001b[39;49mgetresponse()\n\u001b[1;32m    445\u001b[0m     \u001b[39mexcept\u001b[39;00m \u001b[39mBaseException\u001b[39;00m \u001b[39mas\u001b[39;00m e:\n\u001b[1;32m    446\u001b[0m         \u001b[39m# Remove the TypeError from the exception chain in\u001b[39;00m\n\u001b[1;32m    447\u001b[0m         \u001b[39m# Python 3 (including for exceptions like SystemExit).\u001b[39;00m\n\u001b[1;32m    448\u001b[0m         \u001b[39m# Otherwise it looks like a bug in the code.\u001b[39;00m\n\u001b[1;32m    449\u001b[0m         six\u001b[39m.\u001b[39mraise_from(e, \u001b[39mNone\u001b[39;00m)\n",
      "File \u001b[0;32m/data/minh/anaconda3/envs/ansible/lib/python3.10/http/client.py:1374\u001b[0m, in \u001b[0;36mHTTPConnection.getresponse\u001b[0;34m(self)\u001b[0m\n\u001b[1;32m   1372\u001b[0m \u001b[39mtry\u001b[39;00m:\n\u001b[1;32m   1373\u001b[0m     \u001b[39mtry\u001b[39;00m:\n\u001b[0;32m-> 1374\u001b[0m         response\u001b[39m.\u001b[39;49mbegin()\n\u001b[1;32m   1375\u001b[0m     \u001b[39mexcept\u001b[39;00m \u001b[39mConnectionError\u001b[39;00m:\n\u001b[1;32m   1376\u001b[0m         \u001b[39mself\u001b[39m\u001b[39m.\u001b[39mclose()\n",
      "File \u001b[0;32m/data/minh/anaconda3/envs/ansible/lib/python3.10/http/client.py:318\u001b[0m, in \u001b[0;36mHTTPResponse.begin\u001b[0;34m(self)\u001b[0m\n\u001b[1;32m    316\u001b[0m \u001b[39m# read until we get a non-100 response\u001b[39;00m\n\u001b[1;32m    317\u001b[0m \u001b[39mwhile\u001b[39;00m \u001b[39mTrue\u001b[39;00m:\n\u001b[0;32m--> 318\u001b[0m     version, status, reason \u001b[39m=\u001b[39m \u001b[39mself\u001b[39;49m\u001b[39m.\u001b[39;49m_read_status()\n\u001b[1;32m    319\u001b[0m     \u001b[39mif\u001b[39;00m status \u001b[39m!=\u001b[39m CONTINUE:\n\u001b[1;32m    320\u001b[0m         \u001b[39mbreak\u001b[39;00m\n",
      "File \u001b[0;32m/data/minh/anaconda3/envs/ansible/lib/python3.10/http/client.py:279\u001b[0m, in \u001b[0;36mHTTPResponse._read_status\u001b[0;34m(self)\u001b[0m\n\u001b[1;32m    278\u001b[0m \u001b[39mdef\u001b[39;00m \u001b[39m_read_status\u001b[39m(\u001b[39mself\u001b[39m):\n\u001b[0;32m--> 279\u001b[0m     line \u001b[39m=\u001b[39m \u001b[39mstr\u001b[39m(\u001b[39mself\u001b[39;49m\u001b[39m.\u001b[39;49mfp\u001b[39m.\u001b[39;49mreadline(_MAXLINE \u001b[39m+\u001b[39;49m \u001b[39m1\u001b[39;49m), \u001b[39m\"\u001b[39m\u001b[39miso-8859-1\u001b[39m\u001b[39m\"\u001b[39m)\n\u001b[1;32m    280\u001b[0m     \u001b[39mif\u001b[39;00m \u001b[39mlen\u001b[39m(line) \u001b[39m>\u001b[39m _MAXLINE:\n\u001b[1;32m    281\u001b[0m         \u001b[39mraise\u001b[39;00m LineTooLong(\u001b[39m\"\u001b[39m\u001b[39mstatus line\u001b[39m\u001b[39m\"\u001b[39m)\n",
      "File \u001b[0;32m/data/minh/anaconda3/envs/ansible/lib/python3.10/socket.py:705\u001b[0m, in \u001b[0;36mSocketIO.readinto\u001b[0;34m(self, b)\u001b[0m\n\u001b[1;32m    703\u001b[0m \u001b[39mwhile\u001b[39;00m \u001b[39mTrue\u001b[39;00m:\n\u001b[1;32m    704\u001b[0m     \u001b[39mtry\u001b[39;00m:\n\u001b[0;32m--> 705\u001b[0m         \u001b[39mreturn\u001b[39;00m \u001b[39mself\u001b[39;49m\u001b[39m.\u001b[39;49m_sock\u001b[39m.\u001b[39;49mrecv_into(b)\n\u001b[1;32m    706\u001b[0m     \u001b[39mexcept\u001b[39;00m timeout:\n\u001b[1;32m    707\u001b[0m         \u001b[39mself\u001b[39m\u001b[39m.\u001b[39m_timeout_occurred \u001b[39m=\u001b[39m \u001b[39mTrue\u001b[39;00m\n",
      "File \u001b[0;32m/data/minh/anaconda3/envs/ansible/lib/python3.10/ssl.py:1274\u001b[0m, in \u001b[0;36mSSLSocket.recv_into\u001b[0;34m(self, buffer, nbytes, flags)\u001b[0m\n\u001b[1;32m   1270\u001b[0m     \u001b[39mif\u001b[39;00m flags \u001b[39m!=\u001b[39m \u001b[39m0\u001b[39m:\n\u001b[1;32m   1271\u001b[0m         \u001b[39mraise\u001b[39;00m \u001b[39mValueError\u001b[39;00m(\n\u001b[1;32m   1272\u001b[0m           \u001b[39m\"\u001b[39m\u001b[39mnon-zero flags not allowed in calls to recv_into() on \u001b[39m\u001b[39m%s\u001b[39;00m\u001b[39m\"\u001b[39m \u001b[39m%\u001b[39m\n\u001b[1;32m   1273\u001b[0m           \u001b[39mself\u001b[39m\u001b[39m.\u001b[39m\u001b[39m__class__\u001b[39m)\n\u001b[0;32m-> 1274\u001b[0m     \u001b[39mreturn\u001b[39;00m \u001b[39mself\u001b[39;49m\u001b[39m.\u001b[39;49mread(nbytes, buffer)\n\u001b[1;32m   1275\u001b[0m \u001b[39melse\u001b[39;00m:\n\u001b[1;32m   1276\u001b[0m     \u001b[39mreturn\u001b[39;00m \u001b[39msuper\u001b[39m()\u001b[39m.\u001b[39mrecv_into(buffer, nbytes, flags)\n",
      "File \u001b[0;32m/data/minh/anaconda3/envs/ansible/lib/python3.10/ssl.py:1130\u001b[0m, in \u001b[0;36mSSLSocket.read\u001b[0;34m(self, len, buffer)\u001b[0m\n\u001b[1;32m   1128\u001b[0m \u001b[39mtry\u001b[39;00m:\n\u001b[1;32m   1129\u001b[0m     \u001b[39mif\u001b[39;00m buffer \u001b[39mis\u001b[39;00m \u001b[39mnot\u001b[39;00m \u001b[39mNone\u001b[39;00m:\n\u001b[0;32m-> 1130\u001b[0m         \u001b[39mreturn\u001b[39;00m \u001b[39mself\u001b[39;49m\u001b[39m.\u001b[39;49m_sslobj\u001b[39m.\u001b[39;49mread(\u001b[39mlen\u001b[39;49m, buffer)\n\u001b[1;32m   1131\u001b[0m     \u001b[39melse\u001b[39;00m:\n\u001b[1;32m   1132\u001b[0m         \u001b[39mreturn\u001b[39;00m \u001b[39mself\u001b[39m\u001b[39m.\u001b[39m_sslobj\u001b[39m.\u001b[39mread(\u001b[39mlen\u001b[39m)\n",
      "\u001b[0;31mKeyboardInterrupt\u001b[0m: "
     ]
    }
   ],
   "source": [
    "with tqdm(total=None, desc=\"Generating playbooks\") as pbar:\n",
    "    for ind in df.index:\n",
    "        if df.iloc[ind]['output'] == '':\n",
    "            df.iloc[ind]['output'] = generate_playbook(df.iloc[ind]['prompt']).choices[0].text\n",
    "            pbar.update(1)"
   ]
  },
  {
   "cell_type": "code",
   "execution_count": 33,
   "metadata": {},
   "outputs": [
    {
     "name": "stdout",
     "output_type": "stream",
     "text": [
      "Number of playbooks created: 110\n"
     ]
    }
   ],
   "source": [
    "print(\"Number of playbooks created:\", (df.output != '').sum())"
   ]
  },
  {
   "cell_type": "code",
   "execution_count": 71,
   "metadata": {},
   "outputs": [
    {
     "name": "stdout",
     "output_type": "stream",
     "text": [
      "Valid YAML syntax\n"
     ]
    }
   ],
   "source": [
    "try:\n",
    "    data = yaml.safe_load(playbook_responses[2].choices[0].text)\n",
    "    print(\"Valid YAML syntax\")\n",
    "except yaml.YAMLError as error:\n",
    "    print(\"Invalid YAML syntax:\", error)"
   ]
  },
  {
   "cell_type": "code",
   "execution_count": null,
   "metadata": {},
   "outputs": [],
   "source": []
  },
  {
   "cell_type": "code",
   "execution_count": 1,
   "metadata": {},
   "outputs": [
    {
     "ename": "NameError",
     "evalue": "name 'df' is not defined",
     "output_type": "error",
     "traceback": [
      "\u001b[0;31m---------------------------------------------------------------------------\u001b[0m",
      "\u001b[0;31mNameError\u001b[0m                                 Traceback (most recent call last)",
      "\u001b[0;32m/tmp/ipykernel_616704/2123726268.py\u001b[0m in \u001b[0;36m<module>\u001b[0;34m\u001b[0m\n\u001b[0;32m----> 1\u001b[0;31m \u001b[0mdf\u001b[0m\u001b[0;34m.\u001b[0m\u001b[0mto_feather\u001b[0m\u001b[0;34m(\u001b[0m\u001b[0;34m'../data/chatgpt/chatgpt_yaml.feather'\u001b[0m\u001b[0;34m)\u001b[0m\u001b[0;34m\u001b[0m\u001b[0;34m\u001b[0m\u001b[0m\n\u001b[0m",
      "\u001b[0;31mNameError\u001b[0m: name 'df' is not defined"
     ]
    }
   ],
   "source": [
    "df.to_feather('../data/chatgpt/chatgpt_yaml.feather')"
   ]
  },
  {
   "cell_type": "code",
   "execution_count": 5,
   "metadata": {},
   "outputs": [],
   "source": [
    "import pandas as pd\n",
    "ndf = pd.read_feather('../data/chatgpt/chatgpt_yaml.feather')"
   ]
  },
  {
   "cell_type": "code",
   "execution_count": 7,
   "metadata": {},
   "outputs": [
    {
     "name": "stdout",
     "output_type": "stream",
     "text": [
      "Invalid YAML syntax: 0\n",
      "Valid YAML syntax\n",
      "Valid YAML syntax\n",
      "Valid YAML syntax\n",
      "Valid YAML syntax\n",
      "Valid YAML syntax\n",
      "Valid YAML syntax\n",
      "Valid YAML syntax\n",
      "Invalid YAML syntax: 8\n",
      "Valid YAML syntax\n",
      "Valid YAML syntax\n",
      "Valid YAML syntax\n",
      "Valid YAML syntax\n",
      "Valid YAML syntax\n",
      "Valid YAML syntax\n",
      "Valid YAML syntax\n",
      "Valid YAML syntax\n",
      "Valid YAML syntax\n",
      "Valid YAML syntax\n",
      "Valid YAML syntax\n",
      "Valid YAML syntax\n",
      "Valid YAML syntax\n",
      "Valid YAML syntax\n",
      "Invalid YAML syntax: 23\n",
      "Valid YAML syntax\n",
      "Valid YAML syntax\n",
      "Invalid YAML syntax: 26\n",
      "Valid YAML syntax\n",
      "Valid YAML syntax\n",
      "Valid YAML syntax\n",
      "Valid YAML syntax\n",
      "Invalid YAML syntax: 31\n",
      "Valid YAML syntax\n",
      "Valid YAML syntax\n",
      "Valid YAML syntax\n",
      "Valid YAML syntax\n",
      "Valid YAML syntax\n",
      "Valid YAML syntax\n",
      "Invalid YAML syntax: 38\n",
      "Valid YAML syntax\n",
      "Valid YAML syntax\n",
      "Valid YAML syntax\n",
      "Valid YAML syntax\n",
      "Valid YAML syntax\n",
      "Valid YAML syntax\n",
      "Invalid YAML syntax: 45\n",
      "Valid YAML syntax\n",
      "Valid YAML syntax\n",
      "Valid YAML syntax\n",
      "Valid YAML syntax\n",
      "Valid YAML syntax\n",
      "Invalid YAML syntax: 51\n",
      "Valid YAML syntax\n",
      "Valid YAML syntax\n",
      "Valid YAML syntax\n",
      "Valid YAML syntax\n",
      "Valid YAML syntax\n",
      "Valid YAML syntax\n",
      "Valid YAML syntax\n",
      "Valid YAML syntax\n",
      "Valid YAML syntax\n",
      "Valid YAML syntax\n",
      "Valid YAML syntax\n",
      "Invalid YAML syntax: 63\n",
      "Invalid YAML syntax: 64\n",
      "Invalid YAML syntax: 65\n",
      "Valid YAML syntax\n",
      "Valid YAML syntax\n",
      "Valid YAML syntax\n",
      "Valid YAML syntax\n",
      "Valid YAML syntax\n",
      "Valid YAML syntax\n",
      "Valid YAML syntax\n",
      "Invalid YAML syntax: 73\n",
      "Valid YAML syntax\n",
      "Valid YAML syntax\n",
      "Valid YAML syntax\n",
      "Valid YAML syntax\n",
      "Invalid YAML syntax: 78\n",
      "Valid YAML syntax\n",
      "Valid YAML syntax\n",
      "Valid YAML syntax\n",
      "Valid YAML syntax\n",
      "Valid YAML syntax\n",
      "Valid YAML syntax\n",
      "Valid YAML syntax\n",
      "Valid YAML syntax\n",
      "Valid YAML syntax\n",
      "Valid YAML syntax\n",
      "Invalid YAML syntax: 89\n",
      "Valid YAML syntax\n",
      "Invalid YAML syntax: 91\n",
      "Valid YAML syntax\n",
      "Valid YAML syntax\n",
      "Valid YAML syntax\n",
      "Invalid YAML syntax: 95\n",
      "Valid YAML syntax\n",
      "Invalid YAML syntax: 97\n",
      "Valid YAML syntax\n",
      "Valid YAML syntax\n",
      "Valid YAML syntax\n",
      "Valid YAML syntax\n",
      "Valid YAML syntax\n",
      "Valid YAML syntax\n",
      "Valid YAML syntax\n",
      "Valid YAML syntax\n",
      "Valid YAML syntax\n",
      "Valid YAML syntax\n",
      "Valid YAML syntax\n",
      "Valid YAML syntax\n",
      "Invalid YAML syntax: 110\n",
      "Invalid YAML syntax: 111\n",
      "Valid YAML syntax\n",
      "Invalid YAML syntax: 113\n",
      "Invalid YAML syntax: 114\n",
      "Invalid YAML syntax: 115\n",
      "Invalid YAML syntax: 116\n",
      "Valid YAML syntax\n",
      "Valid YAML syntax\n",
      "Valid YAML syntax\n",
      "Valid YAML syntax\n",
      "Invalid YAML syntax: 121\n",
      "Valid YAML syntax\n",
      "Invalid YAML syntax: 123\n",
      "Valid YAML syntax\n",
      "Invalid YAML syntax: 125\n",
      "Invalid YAML syntax: 126\n",
      "Invalid YAML syntax: 127\n",
      "Invalid YAML syntax: 128\n",
      "Valid YAML syntax\n"
     ]
    }
   ],
   "source": [
    "import yaml\n",
    "for ind in ndf.index:\n",
    "        if ndf.iloc[ind]['output'] != '':\n",
    "                try:\n",
    "                        data = yaml.safe_load(ndf.iloc[ind]['output'])\n",
    "                        with open(\"../data/chatgpt/yaml/chatgpt_\" + str(ind) + \".yaml\", \"w\") as file:\n",
    "                                yaml.dump(data, file)\n",
    "                        print(\"Valid YAML syntax\")\n",
    "                except yaml.YAMLError as error:\n",
    "                        print(\"Invalid YAML syntax:\", ind)\n",
    "            "
   ]
  },
  {
   "cell_type": "code",
   "execution_count": 34,
   "metadata": {},
   "outputs": [
    {
     "data": {
      "text/plain": [
       "'\\n\\n---\\n- hosts: all\\n  become: true\\n  tasks:\\n  - name: Install yum-utils\\n    yum:\\n      name: yum-utils\\n      state: present\\n      enablerepo: rhel-5-server-optional-rpms\\n  - name: Install yum-plugin-rhn-setup\\n    yum:\\n      name: yum-plugin-rhn-setup\\n      state: present\\n      enablerepo: rhel-5-server-optional-rpms\\n  - name: Configure RHN\\n    command: rhn_register -a --username={{ rhn_username }} --password={{ rhn_password }}\\n  - name: Install package\\n    yum:\\n      name: {{ package }}\\n      state: present\\n      enablerepo: rhel-5-server-rpms'"
      ]
     },
     "execution_count": 34,
     "metadata": {},
     "output_type": "execute_result"
    }
   ],
   "source": [
    "ndf.iloc[0]['output']"
   ]
  },
  {
   "cell_type": "code",
   "execution_count": 37,
   "metadata": {},
   "outputs": [
    {
     "data": {
      "text/plain": [
       "'\\n\\n---\\n- hosts: all\\n  become: true\\n  tasks:\\n  - name: Install yum-utils\\n    yum:\\n      name: yum-utils\\n      state: present\\n      enablerepo: rhel-5-server-optional-rpms\\n  - name: Install yum-plugin-rhn-setup\\n    yum:\\n      name: yum-plugin-rhn-setup\\n      state: present\\n      enablerepo: rhel-5-server-optional-rpms\\n  - name: Configure RHN\\n    command: rhn_register -a --username={{ rhn_username }} --password={{ rhn_password }}\\n  - name: Install package\\n    yum:\\n      name: {{ package }}\\n      state: present\\n      enablerepo: rhel-5-server-rpms'"
      ]
     },
     "execution_count": 37,
     "metadata": {},
     "output_type": "execute_result"
    }
   ],
   "source": [
    "ndf.iloc[0]['output']"
   ]
  },
  {
   "cell_type": "code",
   "execution_count": 38,
   "metadata": {},
   "outputs": [
    {
     "data": {
      "text/html": [
       "<div>\n",
       "<style scoped>\n",
       "    .dataframe tbody tr th:only-of-type {\n",
       "        vertical-align: middle;\n",
       "    }\n",
       "\n",
       "    .dataframe tbody tr th {\n",
       "        vertical-align: top;\n",
       "    }\n",
       "\n",
       "    .dataframe thead th {\n",
       "        text-align: right;\n",
       "    }\n",
       "</style>\n",
       "<table border=\"1\" class=\"dataframe\">\n",
       "  <thead>\n",
       "    <tr style=\"text-align: right;\">\n",
       "      <th></th>\n",
       "      <th>title</th>\n",
       "      <th>body</th>\n",
       "      <th>prompt</th>\n",
       "      <th>output</th>\n",
       "    </tr>\n",
       "  </thead>\n",
       "  <tbody>\n",
       "    <tr>\n",
       "      <th>0</th>\n",
       "      <td>ansible windows update module does not work in...</td>\n",
       "      <td>### Summary\\r\\n\\r\\nWhen running playbook for w...</td>\n",
       "      <td>Create an Ansible playbook to exhibit the foll...</td>\n",
       "      <td>\\n\\n---\\n- hosts: all\\n  become: true\\n  tasks...</td>\n",
       "    </tr>\n",
       "    <tr>\n",
       "      <th>1</th>\n",
       "      <td>\"is defined\" reporting false for variable that...</td>\n",
       "      <td>### Summary\\n\\nGiven the following variable:\\r...</td>\n",
       "      <td>Create an Ansible playbook to exhibit the foll...</td>\n",
       "      <td>\\n\\n---\\n\\n- hosts: all\\n  become: true\\n  tas...</td>\n",
       "    </tr>\n",
       "    <tr>\n",
       "      <th>2</th>\n",
       "      <td>Systemd user services cannot be enabled globally</td>\n",
       "      <td>### Summary\\n\\nWhen trying to install a system...</td>\n",
       "      <td>Create an Ansible playbook to exhibit the foll...</td>\n",
       "      <td>\\n\\n---\\n- name: Install yum on RHEL5\\n  hosts...</td>\n",
       "    </tr>\n",
       "    <tr>\n",
       "      <th>3</th>\n",
       "      <td>Conditionnal bug report</td>\n",
       "      <td>### Summary\\n\\nHello, I am just trying to chec...</td>\n",
       "      <td>Create an Ansible playbook to exhibit the foll...</td>\n",
       "      <td>\\n\\n---\\n- name: install yum package on RHEL5\\...</td>\n",
       "    </tr>\n",
       "    <tr>\n",
       "      <th>4</th>\n",
       "      <td>apt_repository: The repository ...  does not h...</td>\n",
       "      <td>### Summary\\r\\n\\r\\nGiven:  \\r\\n\\r\\n```\\r\\n- na...</td>\n",
       "      <td>Create an Ansible playbook to exhibit the foll...</td>\n",
       "      <td>\\n\\n---\\n- name: Install yum package on RHEL5\\...</td>\n",
       "    </tr>\n",
       "    <tr>\n",
       "      <th>...</th>\n",
       "      <td>...</td>\n",
       "      <td>...</td>\n",
       "      <td>...</td>\n",
       "      <td>...</td>\n",
       "    </tr>\n",
       "    <tr>\n",
       "      <th>18764</th>\n",
       "      <td>aysnc Throws jid Error When Using with_pipe Lo...</td>\n",
       "      <td>Using this task definition:\\n\\n```\\n 33   - co...</td>\n",
       "      <td>Create an Ansible playbook to exhibit the foll...</td>\n",
       "      <td></td>\n",
       "    </tr>\n",
       "    <tr>\n",
       "      <th>18765</th>\n",
       "      <td>Problem running playbook with path that includ...</td>\n",
       "      <td>I'm just learning Ansible and ran into a probl...</td>\n",
       "      <td>Create an Ansible playbook to exhibit the foll...</td>\n",
       "      <td></td>\n",
       "    </tr>\n",
       "    <tr>\n",
       "      <th>18766</th>\n",
       "      <td>Gem install fails on installing current versio...</td>\n",
       "      <td>It seems to be pulling the wrong requirements ...</td>\n",
       "      <td>Create an Ansible playbook to exhibit the foll...</td>\n",
       "      <td></td>\n",
       "    </tr>\n",
       "    <tr>\n",
       "      <th>18767</th>\n",
       "      <td>git module doesn't handle switching repos</td>\n",
       "      <td>If git module is used without \"remote\" paramet...</td>\n",
       "      <td>Create an Ansible playbook to exhibit the foll...</td>\n",
       "      <td></td>\n",
       "    </tr>\n",
       "    <tr>\n",
       "      <th>18768</th>\n",
       "      <td>yum package installation fails on RHEL5 with R...</td>\n",
       "      <td>When using a playbook to install a package I g...</td>\n",
       "      <td>Create an Ansible playbook to exhibit the foll...</td>\n",
       "      <td></td>\n",
       "    </tr>\n",
       "  </tbody>\n",
       "</table>\n",
       "<p>18769 rows × 4 columns</p>\n",
       "</div>"
      ],
      "text/plain": [
       "                                                   title  \\\n",
       "0      ansible windows update module does not work in...   \n",
       "1      \"is defined\" reporting false for variable that...   \n",
       "2       Systemd user services cannot be enabled globally   \n",
       "3                                Conditionnal bug report   \n",
       "4      apt_repository: The repository ...  does not h...   \n",
       "...                                                  ...   \n",
       "18764  aysnc Throws jid Error When Using with_pipe Lo...   \n",
       "18765  Problem running playbook with path that includ...   \n",
       "18766  Gem install fails on installing current versio...   \n",
       "18767          git module doesn't handle switching repos   \n",
       "18768  yum package installation fails on RHEL5 with R...   \n",
       "\n",
       "                                                    body  \\\n",
       "0      ### Summary\\r\\n\\r\\nWhen running playbook for w...   \n",
       "1      ### Summary\\n\\nGiven the following variable:\\r...   \n",
       "2      ### Summary\\n\\nWhen trying to install a system...   \n",
       "3      ### Summary\\n\\nHello, I am just trying to chec...   \n",
       "4      ### Summary\\r\\n\\r\\nGiven:  \\r\\n\\r\\n```\\r\\n- na...   \n",
       "...                                                  ...   \n",
       "18764  Using this task definition:\\n\\n```\\n 33   - co...   \n",
       "18765  I'm just learning Ansible and ran into a probl...   \n",
       "18766  It seems to be pulling the wrong requirements ...   \n",
       "18767  If git module is used without \"remote\" paramet...   \n",
       "18768  When using a playbook to install a package I g...   \n",
       "\n",
       "                                                  prompt  \\\n",
       "0      Create an Ansible playbook to exhibit the foll...   \n",
       "1      Create an Ansible playbook to exhibit the foll...   \n",
       "2      Create an Ansible playbook to exhibit the foll...   \n",
       "3      Create an Ansible playbook to exhibit the foll...   \n",
       "4      Create an Ansible playbook to exhibit the foll...   \n",
       "...                                                  ...   \n",
       "18764  Create an Ansible playbook to exhibit the foll...   \n",
       "18765  Create an Ansible playbook to exhibit the foll...   \n",
       "18766  Create an Ansible playbook to exhibit the foll...   \n",
       "18767  Create an Ansible playbook to exhibit the foll...   \n",
       "18768  Create an Ansible playbook to exhibit the foll...   \n",
       "\n",
       "                                                  output  \n",
       "0      \\n\\n---\\n- hosts: all\\n  become: true\\n  tasks...  \n",
       "1      \\n\\n---\\n\\n- hosts: all\\n  become: true\\n  tas...  \n",
       "2      \\n\\n---\\n- name: Install yum on RHEL5\\n  hosts...  \n",
       "3      \\n\\n---\\n- name: install yum package on RHEL5\\...  \n",
       "4      \\n\\n---\\n- name: Install yum package on RHEL5\\...  \n",
       "...                                                  ...  \n",
       "18764                                                     \n",
       "18765                                                     \n",
       "18766                                                     \n",
       "18767                                                     \n",
       "18768                                                     \n",
       "\n",
       "[18769 rows x 4 columns]"
      ]
     },
     "execution_count": 38,
     "metadata": {},
     "output_type": "execute_result"
    }
   ],
   "source": [
    "ndf"
   ]
  }
 ],
 "metadata": {
  "kernelspec": {
   "display_name": "glitch",
   "language": "python",
   "name": "python3"
  },
  "language_info": {
   "codemirror_mode": {
    "name": "ipython",
    "version": 3
   },
   "file_extension": ".py",
   "mimetype": "text/x-python",
   "name": "python",
   "nbconvert_exporter": "python",
   "pygments_lexer": "ipython3",
   "version": "3.10.9"
  },
  "orig_nbformat": 4,
  "vscode": {
   "interpreter": {
    "hash": "69a25a958339e9992ea0f778eb395a478f0bea833a8fbe2a81321935e20c792c"
   }
  }
 },
 "nbformat": 4,
 "nbformat_minor": 2
}
