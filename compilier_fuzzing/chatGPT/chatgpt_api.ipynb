{
 "cells": [
  {
   "cell_type": "code",
   "execution_count": 31,
   "metadata": {},
   "outputs": [],
   "source": [
    "import openai\n",
    "import yaml\n",
    "from tqdm import tqdm\n",
    "openai.organization = \"org-KamOJqC0ZbZBYPx5caHVk8VJ\"\n",
    "openai.api_key = \"add_apikey_here\"\n",
    "\n",
    "def generate_fuzzing_codes(prompt):\n",
    "    resp = openai.ChatCompletion.create(\n",
    "        model=\"gpt-3.5-turbo\",\n",
    "        messages=[\n",
    "                {\"role\": \"system\", \"content\": \"You are a helpful assistant who will generate syntactically correct Ansible YAML Playbook for testing purposes. Do not include any explanation or context or introduction statement. Make sure to include ``` before and after Ansible code to denote the YAML section\"},\n",
    "                {\"role\": \"user\", \"content\": prompt}\n",
    "            ]\n",
    "        )\n",
    "\n",
    "    return resp\n"
   ]
  },
  {
   "cell_type": "code",
   "execution_count": 32,
   "metadata": {},
   "outputs": [
    {
     "data": {
      "text/plain": [
       "<OpenAIObject at 0x7fca1241e6b0> JSON: {\n",
       "  \"finish_reason\": \"stop\",\n",
       "  \"index\": 0,\n",
       "  \"message\": {\n",
       "    \"content\": \"```\\n---\\n- name: Display module invocation error\\n  hosts: localhost\\n  tasks:\\n    - debug:\\n        msg: \\\"Module invocation had junk after the JSON data: Last login: Mon Jan\\\"\\n```\",\n",
       "    \"role\": \"assistant\"\n",
       "  }\n",
       "}"
      ]
     },
     "execution_count": 32,
     "metadata": {},
     "output_type": "execute_result"
    }
   ],
   "source": [
    "answer = generate_fuzzing_codes('Create a YAML Ansible playbook to exhibit the following issue: Module invocation had junk after the JSON data: Last login: Mon Jan')\n",
    "answer['choices'][0]"
   ]
  },
  {
   "cell_type": "code",
   "execution_count": 33,
   "metadata": {},
   "outputs": [],
   "source": [
    "import pandas as pd\n",
    "df = pd.read_feather('../github/github_issues.feather')\n"
   ]
  },
  {
   "cell_type": "code",
   "execution_count": 34,
   "metadata": {},
   "outputs": [
    {
     "data": {
      "text/html": [
       "<div>\n",
       "<style scoped>\n",
       "    .dataframe tbody tr th:only-of-type {\n",
       "        vertical-align: middle;\n",
       "    }\n",
       "\n",
       "    .dataframe tbody tr th {\n",
       "        vertical-align: top;\n",
       "    }\n",
       "\n",
       "    .dataframe thead th {\n",
       "        text-align: right;\n",
       "    }\n",
       "</style>\n",
       "<table border=\"1\" class=\"dataframe\">\n",
       "  <thead>\n",
       "    <tr style=\"text-align: right;\">\n",
       "      <th></th>\n",
       "      <th>IssueID</th>\n",
       "      <th>IssueTitle</th>\n",
       "      <th>IssueBody</th>\n",
       "      <th>CreationTimestamp</th>\n",
       "      <th>CommentCount</th>\n",
       "    </tr>\n",
       "  </thead>\n",
       "  <tbody>\n",
       "    <tr>\n",
       "      <th>0</th>\n",
       "      <td>80249</td>\n",
       "      <td>community.general.lxd \"url: https://\" [Errno 2...</td>\n",
       "      <td>### Summary\\n\\nI'm trying to list remote hosts...</td>\n",
       "      <td>2023-03-17T14:12:47Z</td>\n",
       "      <td>2</td>\n",
       "    </tr>\n",
       "    <tr>\n",
       "      <th>1</th>\n",
       "      <td>80230</td>\n",
       "      <td>Integer variable value has trailing zero trunc...</td>\n",
       "      <td>### Summary\\r\\n\\r\\nI have 2 vars files contain...</td>\n",
       "      <td>2023-03-15T14:45:46Z</td>\n",
       "      <td>4</td>\n",
       "    </tr>\n",
       "    <tr>\n",
       "      <th>2</th>\n",
       "      <td>80228</td>\n",
       "      <td>rescue module did not work when in handlers</td>\n",
       "      <td>### Summary\\r\\n\\r\\nI used block in handlers ,t...</td>\n",
       "      <td>2023-03-15T07:04:45Z</td>\n",
       "      <td>2</td>\n",
       "    </tr>\n",
       "    <tr>\n",
       "      <th>3</th>\n",
       "      <td>80199</td>\n",
       "      <td>lineinfile append to string replaces whole line</td>\n",
       "      <td>### Summary\\n\\nIf you want to append a string ...</td>\n",
       "      <td>2023-03-13T09:53:35Z</td>\n",
       "      <td>4</td>\n",
       "    </tr>\n",
       "    <tr>\n",
       "      <th>4</th>\n",
       "      <td>80193</td>\n",
       "      <td>Unable to run dnf or yum modules in Python3 ve...</td>\n",
       "      <td>### Summary\\n\\nI am trying to run a playbook i...</td>\n",
       "      <td>2023-03-10T19:07:00Z</td>\n",
       "      <td>5</td>\n",
       "    </tr>\n",
       "  </tbody>\n",
       "</table>\n",
       "</div>"
      ],
      "text/plain": [
       "   IssueID                                         IssueTitle  \\\n",
       "0    80249  community.general.lxd \"url: https://\" [Errno 2...   \n",
       "1    80230  Integer variable value has trailing zero trunc...   \n",
       "2    80228        rescue module did not work when in handlers   \n",
       "3    80199    lineinfile append to string replaces whole line   \n",
       "4    80193  Unable to run dnf or yum modules in Python3 ve...   \n",
       "\n",
       "                                           IssueBody     CreationTimestamp  \\\n",
       "0  ### Summary\\n\\nI'm trying to list remote hosts...  2023-03-17T14:12:47Z   \n",
       "1  ### Summary\\r\\n\\r\\nI have 2 vars files contain...  2023-03-15T14:45:46Z   \n",
       "2  ### Summary\\r\\n\\r\\nI used block in handlers ,t...  2023-03-15T07:04:45Z   \n",
       "3  ### Summary\\n\\nIf you want to append a string ...  2023-03-13T09:53:35Z   \n",
       "4  ### Summary\\n\\nI am trying to run a playbook i...  2023-03-10T19:07:00Z   \n",
       "\n",
       "   CommentCount  \n",
       "0             2  \n",
       "1             4  \n",
       "2             2  \n",
       "3             4  \n",
       "4             5  "
      ]
     },
     "execution_count": 34,
     "metadata": {},
     "output_type": "execute_result"
    }
   ],
   "source": [
    "df.head()"
   ]
  },
  {
   "cell_type": "code",
   "execution_count": 35,
   "metadata": {},
   "outputs": [],
   "source": [
    "df['Prompt'] = \"Create a YAML Ansible playbook to exhibit the following issue: \" + df['IssueTitle']"
   ]
  },
  {
   "cell_type": "code",
   "execution_count": 36,
   "metadata": {},
   "outputs": [],
   "source": [
    "df['Output'] = ''\n",
    "df = df[:100]"
   ]
  },
  {
   "cell_type": "code",
   "execution_count": 37,
   "metadata": {},
   "outputs": [],
   "source": [
    "count = 0\n",
    "generation_limit = 100\n",
    "list_of_responses = []"
   ]
  },
  {
   "cell_type": "code",
   "execution_count": 38,
   "metadata": {},
   "outputs": [
    {
     "name": "stderr",
     "output_type": "stream",
     "text": [
      "Generating playbooks: 100it [13:49,  8.30s/it]\n"
     ]
    }
   ],
   "source": [
    "with tqdm(total=None, desc=\"Generating playbooks\") as pbar:\n",
    "    for ind in df.index:\n",
    "        if count >= generation_limit:\n",
    "            break\n",
    "        if df.iloc[ind]['Output'] == '':\n",
    "            response = generate_fuzzing_codes(df.iloc[ind]['Prompt'])\n",
    "            response = response['choices'][0]['message']['content']\n",
    "            list_of_responses.append((ind, response))\n",
    "            df.iloc[ind, 6] = response\n",
    "            pbar.update(1)\n",
    "            count += 1\n"
   ]
  },
  {
   "cell_type": "code",
   "execution_count": 13,
   "metadata": {},
   "outputs": [
    {
     "data": {
      "text/plain": [
       "\"Here is an Ansible YAML Playbook to demonstrate the issue where integer variable value has trailing zero truncated:\\n\\n```\\n- name: Integer variable value has trailing zero truncated\\n  hosts: localhost\\n  gather_facts: false\\n\\n  vars:\\n    number: 10.50\\n\\n  tasks:\\n    - name: Display number variable\\n      debug:\\n        var: number\\n```\\n\\nIn the above playbook, we have defined a variable called 'number' with a value of 10.50. However, when we display this variable using the debug module, Ansible truncates the trailing zero and displays the value as 10.5. This demonstrates the issue where integer variable value has trailing zero truncated.\""
      ]
     },
     "execution_count": 13,
     "metadata": {},
     "output_type": "execute_result"
    }
   ],
   "source": [
    "df.iloc[1, 6]"
   ]
  },
  {
   "cell_type": "code",
   "execution_count": 14,
   "metadata": {},
   "outputs": [
    {
     "data": {
      "text/plain": [
       "'\\n- name: Integer variable value has trailing zero truncated\\n  hosts: localhost\\n  gather_facts: false\\n\\n  vars:\\n    number: 10.50\\n\\n  tasks:\\n    - name: Display number variable\\n      debug:\\n        var: number\\n'"
      ]
     },
     "execution_count": 14,
     "metadata": {},
     "output_type": "execute_result"
    }
   ],
   "source": [
    "df.iloc[1, 6].split(\"```\")[1]"
   ]
  },
  {
   "cell_type": "code",
   "execution_count": 39,
   "metadata": {},
   "outputs": [
    {
     "name": "stdout",
     "output_type": "stream",
     "text": [
      "Number of playbooks created: 100\n"
     ]
    },
    {
     "data": {
      "text/plain": [
       "'```\\n---\\n- name: Test Playbook\\n  hosts: localhost\\n  gather_facts: no\\n\\n  tasks:\\n  - name: Execute community.general.lxd\\n    community.general.lxd:\\n      url: https://\\n    ignore_errors: yes\\n```\\n'"
      ]
     },
     "execution_count": 39,
     "metadata": {},
     "output_type": "execute_result"
    }
   ],
   "source": [
    "print(\"Number of playbooks created:\", (df.Output != '').sum())\n",
    "df.iloc[0]['Output']"
   ]
  },
  {
   "cell_type": "code",
   "execution_count": 40,
   "metadata": {},
   "outputs": [],
   "source": [
    "import yaml\n",
    "def get_yaml_data(text):\n",
    "    try:\n",
    "        data = text.split(\"```\")[1]\n",
    "        code = yaml.safe_load(data)\n",
    "        #print(\"Valid YAML syntax\")\n",
    "        return 1\n",
    "    except:\n",
    "        #print(\"Invalid YAML syntax:\", error)\n",
    "        code = ''\n",
    "        return 0"
   ]
  },
  {
   "cell_type": "code",
   "execution_count": 41,
   "metadata": {},
   "outputs": [],
   "source": [
    "df['Valid'] = df['Output'].apply(get_yaml_data)"
   ]
  },
  {
   "cell_type": "code",
   "execution_count": 42,
   "metadata": {},
   "outputs": [
    {
     "data": {
      "text/plain": [
       "0     1\n",
       "1     1\n",
       "2     1\n",
       "3     1\n",
       "4     1\n",
       "     ..\n",
       "95    1\n",
       "96    1\n",
       "97    1\n",
       "98    1\n",
       "99    1\n",
       "Name: Valid, Length: 100, dtype: int64"
      ]
     },
     "execution_count": 42,
     "metadata": {},
     "output_type": "execute_result"
    }
   ],
   "source": [
    "df['Valid']"
   ]
  },
  {
   "cell_type": "code",
   "execution_count": 43,
   "metadata": {},
   "outputs": [
    {
     "data": {
      "text/plain": [
       "91"
      ]
     },
     "execution_count": 43,
     "metadata": {},
     "output_type": "execute_result"
    }
   ],
   "source": [
    "df['Valid'].sum()"
   ]
  },
  {
   "cell_type": "code",
   "execution_count": 52,
   "metadata": {},
   "outputs": [],
   "source": [
    "def remove_tilda(text):\n",
    "    return text.split('```')[1]"
   ]
  },
  {
   "cell_type": "code",
   "execution_count": 53,
   "metadata": {},
   "outputs": [],
   "source": [
    "df['Code'] =df['Output'].apply(remove_tilda)"
   ]
  },
  {
   "cell_type": "code",
   "execution_count": 47,
   "metadata": {},
   "outputs": [],
   "source": [
    "df.to_feather('chatgpt_github_yaml.feather')"
   ]
  },
  {
   "cell_type": "code",
   "execution_count": 54,
   "metadata": {},
   "outputs": [],
   "source": [
    "df.to_csv('chatgpt_github_yaml.csv')"
   ]
  },
  {
   "cell_type": "code",
   "execution_count": 55,
   "metadata": {},
   "outputs": [],
   "source": [
    "import pandas as pd\n",
    "ndf = pd.read_feather('chatgpt_github_yaml.feather')"
   ]
  },
  {
   "cell_type": "code",
   "execution_count": 57,
   "metadata": {},
   "outputs": [
    {
     "data": {
      "text/html": [
       "<div>\n",
       "<style scoped>\n",
       "    .dataframe tbody tr th:only-of-type {\n",
       "        vertical-align: middle;\n",
       "    }\n",
       "\n",
       "    .dataframe tbody tr th {\n",
       "        vertical-align: top;\n",
       "    }\n",
       "\n",
       "    .dataframe thead th {\n",
       "        text-align: right;\n",
       "    }\n",
       "</style>\n",
       "<table border=\"1\" class=\"dataframe\">\n",
       "  <thead>\n",
       "    <tr style=\"text-align: right;\">\n",
       "      <th></th>\n",
       "      <th>IssueID</th>\n",
       "      <th>IssueTitle</th>\n",
       "      <th>IssueBody</th>\n",
       "      <th>CreationTimestamp</th>\n",
       "      <th>CommentCount</th>\n",
       "      <th>Prompt</th>\n",
       "      <th>Output</th>\n",
       "      <th>Valid</th>\n",
       "    </tr>\n",
       "  </thead>\n",
       "  <tbody>\n",
       "    <tr>\n",
       "      <th>0</th>\n",
       "      <td>80249</td>\n",
       "      <td>community.general.lxd \"url: https://\" [Errno 2...</td>\n",
       "      <td>### Summary\\n\\nI'm trying to list remote hosts...</td>\n",
       "      <td>2023-03-17T14:12:47Z</td>\n",
       "      <td>2</td>\n",
       "      <td>Create a YAML Ansible playbook to exhibit the ...</td>\n",
       "      <td>```\\n---\\n- name: Test Playbook\\n  hosts: loca...</td>\n",
       "      <td>1</td>\n",
       "    </tr>\n",
       "    <tr>\n",
       "      <th>1</th>\n",
       "      <td>80230</td>\n",
       "      <td>Integer variable value has trailing zero trunc...</td>\n",
       "      <td>### Summary\\r\\n\\r\\nI have 2 vars files contain...</td>\n",
       "      <td>2023-03-15T14:45:46Z</td>\n",
       "      <td>4</td>\n",
       "      <td>Create a YAML Ansible playbook to exhibit the ...</td>\n",
       "      <td>```\\n---\\n- name: Exhibit integer variable iss...</td>\n",
       "      <td>1</td>\n",
       "    </tr>\n",
       "    <tr>\n",
       "      <th>2</th>\n",
       "      <td>80228</td>\n",
       "      <td>rescue module did not work when in handlers</td>\n",
       "      <td>### Summary\\r\\n\\r\\nI used block in handlers ,t...</td>\n",
       "      <td>2023-03-15T07:04:45Z</td>\n",
       "      <td>2</td>\n",
       "      <td>Create a YAML Ansible playbook to exhibit the ...</td>\n",
       "      <td>```\\n---\\n- hosts: localhost\\n  gather_facts: ...</td>\n",
       "      <td>1</td>\n",
       "    </tr>\n",
       "    <tr>\n",
       "      <th>3</th>\n",
       "      <td>80199</td>\n",
       "      <td>lineinfile append to string replaces whole line</td>\n",
       "      <td>### Summary\\n\\nIf you want to append a string ...</td>\n",
       "      <td>2023-03-13T09:53:35Z</td>\n",
       "      <td>4</td>\n",
       "      <td>Create a YAML Ansible playbook to exhibit the ...</td>\n",
       "      <td>```\\n---\\n- name: An example playbook to exhib...</td>\n",
       "      <td>1</td>\n",
       "    </tr>\n",
       "    <tr>\n",
       "      <th>4</th>\n",
       "      <td>80193</td>\n",
       "      <td>Unable to run dnf or yum modules in Python3 ve...</td>\n",
       "      <td>### Summary\\n\\nI am trying to run a playbook i...</td>\n",
       "      <td>2023-03-10T19:07:00Z</td>\n",
       "      <td>5</td>\n",
       "      <td>Create a YAML Ansible playbook to exhibit the ...</td>\n",
       "      <td>```\\n---\\n- name: Test playbook for dnf/yum mo...</td>\n",
       "      <td>1</td>\n",
       "    </tr>\n",
       "    <tr>\n",
       "      <th>...</th>\n",
       "      <td>...</td>\n",
       "      <td>...</td>\n",
       "      <td>...</td>\n",
       "      <td>...</td>\n",
       "      <td>...</td>\n",
       "      <td>...</td>\n",
       "      <td>...</td>\n",
       "      <td>...</td>\n",
       "    </tr>\n",
       "    <tr>\n",
       "      <th>95</th>\n",
       "      <td>79676</td>\n",
       "      <td>AttributeError: 'int' object has no attribute ...</td>\n",
       "      <td>### Summary\\n\\nRunning a playbook :https://dpa...</td>\n",
       "      <td>2023-01-05T22:28:43Z</td>\n",
       "      <td>9</td>\n",
       "      <td>Create a YAML Ansible playbook to exhibit the ...</td>\n",
       "      <td>```\\n---\\n- name: Testing AttributeError \\n  h...</td>\n",
       "      <td>1</td>\n",
       "    </tr>\n",
       "    <tr>\n",
       "      <th>96</th>\n",
       "      <td>79665</td>\n",
       "      <td>shebang doesn't use ansible_python_interpreter</td>\n",
       "      <td>### Summary\\r\\n\\r\\nhttps://github.com/ansible/...</td>\n",
       "      <td>2023-01-04T21:40:27Z</td>\n",
       "      <td>9</td>\n",
       "      <td>Create a YAML Ansible playbook to exhibit the ...</td>\n",
       "      <td>```\\n---\\n- name: Display ansible_python_inter...</td>\n",
       "      <td>1</td>\n",
       "    </tr>\n",
       "    <tr>\n",
       "      <th>97</th>\n",
       "      <td>79661</td>\n",
       "      <td>package_facts requires python-rpm on SUSE syst...</td>\n",
       "      <td>### Summary\\n\\nThis bug report is identical to...</td>\n",
       "      <td>2023-01-04T13:08:06Z</td>\n",
       "      <td>3</td>\n",
       "      <td>Create a YAML Ansible playbook to exhibit the ...</td>\n",
       "      <td>```\\n---\\n- name: Example playbook to exhibit ...</td>\n",
       "      <td>1</td>\n",
       "    </tr>\n",
       "    <tr>\n",
       "      <th>98</th>\n",
       "      <td>79646</td>\n",
       "      <td>ansible-test disallows an underscore as a vari...</td>\n",
       "      <td>### Summary\\r\\n\\r\\nI have noticed that pylint ...</td>\n",
       "      <td>2023-01-02T18:50:00Z</td>\n",
       "      <td>3</td>\n",
       "      <td>Create a YAML Ansible playbook to exhibit the ...</td>\n",
       "      <td>```\\n---\\n- name: Testing ansible-test\\n  host...</td>\n",
       "      <td>1</td>\n",
       "    </tr>\n",
       "    <tr>\n",
       "      <th>99</th>\n",
       "      <td>79640</td>\n",
       "      <td>Ansible Galaxy installation fail on some AWS I...</td>\n",
       "      <td>### Summary\\n\\nHi,\\r\\n\\r\\nI'm struggling while...</td>\n",
       "      <td>2022-12-30T15:10:48Z</td>\n",
       "      <td>14</td>\n",
       "      <td>Create a YAML Ansible playbook to exhibit the ...</td>\n",
       "      <td>```\\n---\\n- name: Install Ansible Galaxy\\n  ho...</td>\n",
       "      <td>1</td>\n",
       "    </tr>\n",
       "  </tbody>\n",
       "</table>\n",
       "<p>100 rows × 8 columns</p>\n",
       "</div>"
      ],
      "text/plain": [
       "    IssueID                                         IssueTitle  \\\n",
       "0     80249  community.general.lxd \"url: https://\" [Errno 2...   \n",
       "1     80230  Integer variable value has trailing zero trunc...   \n",
       "2     80228        rescue module did not work when in handlers   \n",
       "3     80199    lineinfile append to string replaces whole line   \n",
       "4     80193  Unable to run dnf or yum modules in Python3 ve...   \n",
       "..      ...                                                ...   \n",
       "95    79676  AttributeError: 'int' object has no attribute ...   \n",
       "96    79665     shebang doesn't use ansible_python_interpreter   \n",
       "97    79661  package_facts requires python-rpm on SUSE syst...   \n",
       "98    79646  ansible-test disallows an underscore as a vari...   \n",
       "99    79640  Ansible Galaxy installation fail on some AWS I...   \n",
       "\n",
       "                                            IssueBody     CreationTimestamp  \\\n",
       "0   ### Summary\\n\\nI'm trying to list remote hosts...  2023-03-17T14:12:47Z   \n",
       "1   ### Summary\\r\\n\\r\\nI have 2 vars files contain...  2023-03-15T14:45:46Z   \n",
       "2   ### Summary\\r\\n\\r\\nI used block in handlers ,t...  2023-03-15T07:04:45Z   \n",
       "3   ### Summary\\n\\nIf you want to append a string ...  2023-03-13T09:53:35Z   \n",
       "4   ### Summary\\n\\nI am trying to run a playbook i...  2023-03-10T19:07:00Z   \n",
       "..                                                ...                   ...   \n",
       "95  ### Summary\\n\\nRunning a playbook :https://dpa...  2023-01-05T22:28:43Z   \n",
       "96  ### Summary\\r\\n\\r\\nhttps://github.com/ansible/...  2023-01-04T21:40:27Z   \n",
       "97  ### Summary\\n\\nThis bug report is identical to...  2023-01-04T13:08:06Z   \n",
       "98  ### Summary\\r\\n\\r\\nI have noticed that pylint ...  2023-01-02T18:50:00Z   \n",
       "99  ### Summary\\n\\nHi,\\r\\n\\r\\nI'm struggling while...  2022-12-30T15:10:48Z   \n",
       "\n",
       "    CommentCount                                             Prompt  \\\n",
       "0              2  Create a YAML Ansible playbook to exhibit the ...   \n",
       "1              4  Create a YAML Ansible playbook to exhibit the ...   \n",
       "2              2  Create a YAML Ansible playbook to exhibit the ...   \n",
       "3              4  Create a YAML Ansible playbook to exhibit the ...   \n",
       "4              5  Create a YAML Ansible playbook to exhibit the ...   \n",
       "..           ...                                                ...   \n",
       "95             9  Create a YAML Ansible playbook to exhibit the ...   \n",
       "96             9  Create a YAML Ansible playbook to exhibit the ...   \n",
       "97             3  Create a YAML Ansible playbook to exhibit the ...   \n",
       "98             3  Create a YAML Ansible playbook to exhibit the ...   \n",
       "99            14  Create a YAML Ansible playbook to exhibit the ...   \n",
       "\n",
       "                                               Output  Valid  \n",
       "0   ```\\n---\\n- name: Test Playbook\\n  hosts: loca...      1  \n",
       "1   ```\\n---\\n- name: Exhibit integer variable iss...      1  \n",
       "2   ```\\n---\\n- hosts: localhost\\n  gather_facts: ...      1  \n",
       "3   ```\\n---\\n- name: An example playbook to exhib...      1  \n",
       "4   ```\\n---\\n- name: Test playbook for dnf/yum mo...      1  \n",
       "..                                                ...    ...  \n",
       "95  ```\\n---\\n- name: Testing AttributeError \\n  h...      1  \n",
       "96  ```\\n---\\n- name: Display ansible_python_inter...      1  \n",
       "97  ```\\n---\\n- name: Example playbook to exhibit ...      1  \n",
       "98  ```\\n---\\n- name: Testing ansible-test\\n  host...      1  \n",
       "99  ```\\n---\\n- name: Install Ansible Galaxy\\n  ho...      1  \n",
       "\n",
       "[100 rows x 8 columns]"
      ]
     },
     "execution_count": 57,
     "metadata": {},
     "output_type": "execute_result"
    }
   ],
   "source": [
    "ndf"
   ]
  },
  {
   "cell_type": "code",
   "execution_count": 58,
   "metadata": {},
   "outputs": [],
   "source": [
    "ndf['IssueBody'] = ndf['IssueBody'].str.slice(stop=30000)"
   ]
  },
  {
   "cell_type": "code",
   "execution_count": null,
   "metadata": {},
   "outputs": [],
   "source": [
    "ndf.to_csv('chatgpt_ndf.csv')"
   ]
  }
 ],
 "metadata": {
  "kernelspec": {
   "display_name": "fuzz",
   "language": "python",
   "name": "python3"
  },
  "language_info": {
   "codemirror_mode": {
    "name": "ipython",
    "version": 3
   },
   "file_extension": ".py",
   "mimetype": "text/x-python",
   "name": "python",
   "nbconvert_exporter": "python",
   "pygments_lexer": "ipython3",
   "version": "3.10.9"
  },
  "orig_nbformat": 4,
  "vscode": {
   "interpreter": {
    "hash": "543559ca7905c023febe49be9fb9e5247524e159d709873b841b191b0bfd9121"
   }
  }
 },
 "nbformat": 4,
 "nbformat_minor": 2
}
