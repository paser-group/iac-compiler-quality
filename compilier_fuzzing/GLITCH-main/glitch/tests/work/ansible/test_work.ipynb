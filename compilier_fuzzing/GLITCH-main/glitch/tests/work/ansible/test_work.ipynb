{
 "cells": [
  {
   "cell_type": "code",
   "execution_count": 109,
   "metadata": {},
   "outputs": [],
   "source": [
    "from glitch.parsers.cmof import AnsibleParser\n",
    "from pathlib import Path\n",
    "\n",
    "parser = AnsibleParser()\n",
    "type = 'tasks'\n",
    "paths = []\n",
    "for file_path in Path.cwd().joinpath('files').iterdir():\n",
    "    if file_path.is_file():\n",
    "        paths.append(str(file_path))\n"
   ]
  },
  {
   "cell_type": "code",
   "execution_count": 110,
   "metadata": {},
   "outputs": [
    {
     "name": "stderr",
     "output_type": "stream",
     "text": [
      "Ansible - File is not a tasks file: /data/minh/CompilierFuzzing/GLITCH-main/glitch/tests/work/ansible/files/chatgpt_124.yaml\n",
      "Ansible - File is not a tasks file: /data/minh/CompilierFuzzing/GLITCH-main/glitch/tests/work/ansible/files/chatgpt_119.yaml\n",
      "Ansible - File is not a tasks file: /data/minh/CompilierFuzzing/GLITCH-main/glitch/tests/work/ansible/files/chatgpt_120.yaml\n",
      "Ansible - File is not a tasks file: /data/minh/CompilierFuzzing/GLITCH-main/glitch/tests/work/ansible/files/chatgpt_122.yaml\n",
      "Ansible - File is not a tasks file: /data/minh/CompilierFuzzing/GLITCH-main/glitch/tests/work/ansible/files/chatgpt_129.yaml\n",
      "Ansible - File is not a tasks file: /data/minh/CompilierFuzzing/GLITCH-main/glitch/tests/work/ansible/files/chatgpt_112.yaml\n",
      "Ansible - File is not a tasks file: /data/minh/CompilierFuzzing/GLITCH-main/glitch/tests/work/ansible/files/chatgpt_118.yaml\n",
      "Ansible - File is not a tasks file: /data/minh/CompilierFuzzing/GLITCH-main/glitch/tests/work/ansible/files/chatgpt_117.yaml\n"
     ]
    }
   ],
   "source": [
    "import pandas as pd\n",
    "df = pd.DataFrame(paths, columns=['path'])\n",
    "df['inter'] = df['path'].apply(parser.parse, args=(type, False))"
   ]
  },
  {
   "cell_type": "code",
   "execution_count": 111,
   "metadata": {},
   "outputs": [],
   "source": [
    "df.to_pickle('inter_rep.pickle')"
   ]
  },
  {
   "cell_type": "code",
   "execution_count": 1,
   "metadata": {},
   "outputs": [],
   "source": [
    "import pandas as pd\n",
    "ndf = pd.read_pickle('inter_rep.pickle')"
   ]
  },
  {
   "cell_type": "code",
   "execution_count": 2,
   "metadata": {},
   "outputs": [
    {
     "data": {
      "text/html": [
       "<div>\n",
       "<style scoped>\n",
       "    .dataframe tbody tr th:only-of-type {\n",
       "        vertical-align: middle;\n",
       "    }\n",
       "\n",
       "    .dataframe tbody tr th {\n",
       "        vertical-align: top;\n",
       "    }\n",
       "\n",
       "    .dataframe thead th {\n",
       "        text-align: right;\n",
       "    }\n",
       "</style>\n",
       "<table border=\"1\" class=\"dataframe\">\n",
       "  <thead>\n",
       "    <tr style=\"text-align: right;\">\n",
       "      <th></th>\n",
       "      <th>path</th>\n",
       "      <th>inter</th>\n",
       "    </tr>\n",
       "  </thead>\n",
       "  <tbody>\n",
       "    <tr>\n",
       "      <th>0</th>\n",
       "      <td>/data/minh/CompilierFuzzing/GLITCH-main/glitch...</td>\n",
       "      <td>/data/minh/CompilierFuzzing/GLITCH-main/glitch...</td>\n",
       "    </tr>\n",
       "    <tr>\n",
       "      <th>1</th>\n",
       "      <td>/data/minh/CompilierFuzzing/GLITCH-main/glitch...</td>\n",
       "      <td>/data/minh/CompilierFuzzing/GLITCH-main/glitch...</td>\n",
       "    </tr>\n",
       "    <tr>\n",
       "      <th>2</th>\n",
       "      <td>/data/minh/CompilierFuzzing/GLITCH-main/glitch...</td>\n",
       "      <td>/data/minh/CompilierFuzzing/GLITCH-main/glitch...</td>\n",
       "    </tr>\n",
       "    <tr>\n",
       "      <th>3</th>\n",
       "      <td>/data/minh/CompilierFuzzing/GLITCH-main/glitch...</td>\n",
       "      <td>/data/minh/CompilierFuzzing/GLITCH-main/glitch...</td>\n",
       "    </tr>\n",
       "    <tr>\n",
       "      <th>4</th>\n",
       "      <td>/data/minh/CompilierFuzzing/GLITCH-main/glitch...</td>\n",
       "      <td>/data/minh/CompilierFuzzing/GLITCH-main/glitch...</td>\n",
       "    </tr>\n",
       "    <tr>\n",
       "      <th>...</th>\n",
       "      <td>...</td>\n",
       "      <td>...</td>\n",
       "    </tr>\n",
       "    <tr>\n",
       "      <th>96</th>\n",
       "      <td>/data/minh/CompilierFuzzing/GLITCH-main/glitch...</td>\n",
       "      <td>/data/minh/CompilierFuzzing/GLITCH-main/glitch...</td>\n",
       "    </tr>\n",
       "    <tr>\n",
       "      <th>97</th>\n",
       "      <td>/data/minh/CompilierFuzzing/GLITCH-main/glitch...</td>\n",
       "      <td>/data/minh/CompilierFuzzing/GLITCH-main/glitch...</td>\n",
       "    </tr>\n",
       "    <tr>\n",
       "      <th>98</th>\n",
       "      <td>/data/minh/CompilierFuzzing/GLITCH-main/glitch...</td>\n",
       "      <td>/data/minh/CompilierFuzzing/GLITCH-main/glitch...</td>\n",
       "    </tr>\n",
       "    <tr>\n",
       "      <th>99</th>\n",
       "      <td>/data/minh/CompilierFuzzing/GLITCH-main/glitch...</td>\n",
       "      <td>None</td>\n",
       "    </tr>\n",
       "    <tr>\n",
       "      <th>100</th>\n",
       "      <td>/data/minh/CompilierFuzzing/GLITCH-main/glitch...</td>\n",
       "      <td>/data/minh/CompilierFuzzing/GLITCH-main/glitch...</td>\n",
       "    </tr>\n",
       "  </tbody>\n",
       "</table>\n",
       "<p>101 rows × 2 columns</p>\n",
       "</div>"
      ],
      "text/plain": [
       "                                                  path  \\\n",
       "0    /data/minh/CompilierFuzzing/GLITCH-main/glitch...   \n",
       "1    /data/minh/CompilierFuzzing/GLITCH-main/glitch...   \n",
       "2    /data/minh/CompilierFuzzing/GLITCH-main/glitch...   \n",
       "3    /data/minh/CompilierFuzzing/GLITCH-main/glitch...   \n",
       "4    /data/minh/CompilierFuzzing/GLITCH-main/glitch...   \n",
       "..                                                 ...   \n",
       "96   /data/minh/CompilierFuzzing/GLITCH-main/glitch...   \n",
       "97   /data/minh/CompilierFuzzing/GLITCH-main/glitch...   \n",
       "98   /data/minh/CompilierFuzzing/GLITCH-main/glitch...   \n",
       "99   /data/minh/CompilierFuzzing/GLITCH-main/glitch...   \n",
       "100  /data/minh/CompilierFuzzing/GLITCH-main/glitch...   \n",
       "\n",
       "                                                 inter  \n",
       "0    /data/minh/CompilierFuzzing/GLITCH-main/glitch...  \n",
       "1    /data/minh/CompilierFuzzing/GLITCH-main/glitch...  \n",
       "2    /data/minh/CompilierFuzzing/GLITCH-main/glitch...  \n",
       "3    /data/minh/CompilierFuzzing/GLITCH-main/glitch...  \n",
       "4    /data/minh/CompilierFuzzing/GLITCH-main/glitch...  \n",
       "..                                                 ...  \n",
       "96   /data/minh/CompilierFuzzing/GLITCH-main/glitch...  \n",
       "97   /data/minh/CompilierFuzzing/GLITCH-main/glitch...  \n",
       "98   /data/minh/CompilierFuzzing/GLITCH-main/glitch...  \n",
       "99                                                None  \n",
       "100  /data/minh/CompilierFuzzing/GLITCH-main/glitch...  \n",
       "\n",
       "[101 rows x 2 columns]"
      ]
     },
     "execution_count": 2,
     "metadata": {},
     "output_type": "execute_result"
    }
   ],
   "source": [
    "ndf"
   ]
  },
  {
   "cell_type": "code",
   "execution_count": 3,
   "metadata": {},
   "outputs": [
    {
     "data": {
      "text/plain": [
       "'/data/minh/CompilierFuzzing/GLITCH-main/glitch/tests/work/ansible/files/chatgpt_117.yaml'"
      ]
     },
     "execution_count": 3,
     "metadata": {},
     "output_type": "execute_result"
    }
   ],
   "source": [
    "ndf['path'].iloc[99]"
   ]
  },
  {
   "cell_type": "code",
   "execution_count": 4,
   "metadata": {},
   "outputs": [
    {
     "data": {
      "text/plain": [
       "/data/minh/CompilierFuzzing/GLITCH-main/glitch/tests/work/ansible/files/chatgpt_47.yaml"
      ]
     },
     "execution_count": 4,
     "metadata": {},
     "output_type": "execute_result"
    }
   ],
   "source": [
    "ndf['inter'].iloc[1]"
   ]
  }
 ],
 "metadata": {
  "kernelspec": {
   "display_name": "glitch",
   "language": "python",
   "name": "python3"
  },
  "language_info": {
   "codemirror_mode": {
    "name": "ipython",
    "version": 3
   },
   "file_extension": ".py",
   "mimetype": "text/x-python",
   "name": "python",
   "nbconvert_exporter": "python",
   "pygments_lexer": "ipython3",
   "version": "3.10.9"
  },
  "orig_nbformat": 4,
  "vscode": {
   "interpreter": {
    "hash": "69a25a958339e9992ea0f778eb395a478f0bea833a8fbe2a81321935e20c792c"
   }
  }
 },
 "nbformat": 4,
 "nbformat_minor": 2
}
